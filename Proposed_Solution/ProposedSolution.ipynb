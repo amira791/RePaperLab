{
 "cells": [
  {
   "cell_type": "code",
   "execution_count": 1,
   "id": "ef9fcf6a",
   "metadata": {},
   "outputs": [],
   "source": [
    "# Import necessary libraries\n",
    "import os\n",
    "import numpy as np\n",
    "import cv2\n",
    "from tensorflow.keras.applications import DenseNet201\n",
    "from tensorflow.keras.models import Model\n",
    "from tensorflow.keras.layers import GlobalAveragePooling2D, Input, Dense, Dropout\n",
    "from sklearn.metrics import classification_report, confusion_matrix\n",
    "from tensorflow.keras.utils import to_categorical\n",
    "from xgboost import XGBClassifier\n",
    "import seaborn as sns\n",
    "import matplotlib.pyplot as plt"
   ]
  },
  {
   "cell_type": "code",
   "execution_count": 8,
   "id": "abaa4041",
   "metadata": {},
   "outputs": [
    {
     "name": "stdout",
     "output_type": "stream",
     "text": [
      "Collecting xgboost\n",
      "  Downloading xgboost-2.1.3-py3-none-win_amd64.whl (124.9 MB)\n",
      "     ------------------------------------ 124.9/124.9 MB 227.4 kB/s eta 0:00:00\n",
      "Requirement already satisfied: numpy in c:\\users\\dell\\anaconda3\\lib\\site-packages (from xgboost) (1.26.4)\n",
      "Requirement already satisfied: scipy in c:\\users\\dell\\anaconda3\\lib\\site-packages (from xgboost) (1.10.0)\n",
      "Installing collected packages: xgboost\n",
      "Successfully installed xgboost-2.1.3\n"
     ]
    }
   ],
   "source": [
    "!pip install xgboost\n"
   ]
  },
  {
   "cell_type": "code",
   "execution_count": 2,
   "id": "19365c67",
   "metadata": {},
   "outputs": [],
   "source": [
    "# Dataset directories\n",
    "data_dir = r'D:\\PFE\\D2\\balanced_dataset'  # Main dataset directory\n",
    "train_dir = os.path.join(data_dir, \"train\")\n",
    "test_dir = os.path.join(data_dir, \"test\")\n",
    "validation_dir = os.path.join(data_dir, \"validation\")\n"
   ]
  },
  {
   "cell_type": "code",
   "execution_count": 3,
   "id": "9b91243f",
   "metadata": {},
   "outputs": [],
   "source": [
    "# Hyperparameters\n",
    "IMG_SIZE = (224, 224)\n",
    "BATCH_SIZE = 32\n",
    "NUM_CLASSES = 7  # Number of classes in the dataset\n"
   ]
  },
  {
   "cell_type": "code",
   "execution_count": 4,
   "id": "8bdabbdb",
   "metadata": {},
   "outputs": [],
   "source": [
    "# CLAHE (Contrast Limited Adaptive Histogram Equalization)\n",
    "def apply_clahe(image):\n",
    "    lab = cv2.cvtColor(image, cv2.COLOR_BGR2LAB)\n",
    "    l, a, b = cv2.split(lab)\n",
    "    clahe = cv2.createCLAHE(clipLimit=2.0, tileGridSize=(8, 8))\n",
    "    cl = clahe.apply(l)\n",
    "    limg = cv2.merge((cl, a, b))\n",
    "    return cv2.cvtColor(limg, cv2.COLOR_LAB2BGR)\n",
    "\n",
    "# Background removal using color thresholding\n",
    "def remove_background_color_thresholding(image):\n",
    "    hsv = cv2.cvtColor(image, cv2.COLOR_BGR2HSV)\n",
    "    lower_green = np.array([35, 50, 50])  # Lower bound for green in HSV\n",
    "    upper_green = np.array([85, 255, 255])  # Upper bound for green in HSV\n",
    "    mask = cv2.inRange(hsv, lower_green, upper_green)\n",
    "    mask_inv = cv2.bitwise_not(mask)\n",
    "    result = cv2.bitwise_and(image, image, mask=mask_inv)\n",
    "    return result\n"
   ]
  },
  {
   "cell_type": "code",
   "execution_count": 5,
   "id": "aef2259f",
   "metadata": {},
   "outputs": [],
   "source": [
    "# Modified Data Loading to include Binary Labels\n",
    "def load_data_binary(data_dir, apply_clahe_flag=False, apply_color_thresholding=False):\n",
    "    healthy_images, healthy_labels = [], []\n",
    "    diseased_images, diseased_labels = [], []\n",
    "    \n",
    "    for label, class_dir in enumerate(os.listdir(data_dir)):\n",
    "        class_path = os.path.join(data_dir, class_dir)\n",
    "        if not os.path.isdir(class_path):\n",
    "            continue\n",
    "        for img_name in os.listdir(class_path):\n",
    "            img_path = os.path.join(class_path, img_name)\n",
    "            img = cv2.imread(img_path)\n",
    "            if img is None:\n",
    "                print(f\"Warning: Unable to read image {img_path}. Skipping...\")\n",
    "                continue\n",
    "            \n",
    "            # Resize and normalize the image\n",
    "            img_resized = cv2.resize(img, IMG_SIZE, interpolation=cv2.INTER_CUBIC)\n",
    "            \n",
    "            # Apply CLAHE or color thresholding\n",
    "            preprocessed_img = img_resized.copy()\n",
    "            if apply_color_thresholding:\n",
    "                preprocessed_img = remove_background_color_thresholding(preprocessed_img)\n",
    "            if apply_clahe_flag:\n",
    "                preprocessed_img = apply_clahe(preprocessed_img)\n",
    "            \n",
    "            # Classify as healthy or diseased (binary classification)\n",
    "            if class_dir == \"healthy\":  # Assuming 'healthy' is a directory\n",
    "                healthy_images.append(preprocessed_img / 255.0)\n",
    "                healthy_labels.append(0)  # 0 for healthy\n",
    "            else:\n",
    "                diseased_images.append(preprocessed_img / 255.0)\n",
    "                diseased_labels.append(1)  # 1 for not healthy (diseased)\n",
    "    \n",
    "    # Combine healthy and diseased images\n",
    "    images = np.array(healthy_images + diseased_images)\n",
    "    labels = np.array(healthy_labels + diseased_labels)\n",
    "    \n",
    "    return images, labels"
   ]
  },
  {
   "cell_type": "code",
   "execution_count": 6,
   "id": "25bc6843",
   "metadata": {},
   "outputs": [],
   "source": [
    "# Binary classifier\n",
    "def create_binary_model(input_shape):\n",
    "    base_model = DenseNet201(weights=\"imagenet\", include_top=False, input_tensor=Input(shape=input_shape))\n",
    "    x = GlobalAveragePooling2D()(base_model.output)\n",
    "    x = Dropout(0.5)(x)\n",
    "    output = Dense(2, activation=\"softmax\")(x)  # Binary output (healthy vs not healthy)\n",
    "    model = Model(inputs=base_model.input, outputs=output)\n",
    "    \n",
    "    for layer in base_model.layers:\n",
    "        layer.trainable = False\n",
    "    \n",
    "    model.compile(optimizer=\"adam\", loss=\"categorical_crossentropy\", metrics=[\"accuracy\"])\n",
    "    return model\n",
    "\n",
    "# Multi-class classifier (only for diseased images)\n",
    "def create_multi_class_model(input_shape, num_classes=6):\n",
    "    base_model = DenseNet201(weights=\"imagenet\", include_top=False, input_tensor=Input(shape=input_shape))\n",
    "    x = GlobalAveragePooling2D()(base_model.output)\n",
    "    x = Dropout(0.5)(x)\n",
    "    output = Dense(num_classes, activation=\"softmax\")(x)  # Multi-class output (6 diseases)\n",
    "    model = Model(inputs=base_model.input, outputs=output)\n",
    "    \n",
    "    for layer in base_model.layers:\n",
    "        layer.trainable = False\n",
    "    \n",
    "    model.compile(optimizer=\"adam\", loss=\"categorical_crossentropy\", metrics=[\"accuracy\"])\n",
    "    return model"
   ]
  },
  {
   "cell_type": "code",
   "execution_count": 7,
   "id": "410a574e",
   "metadata": {},
   "outputs": [],
   "source": [
    "# Training Binary Classifier\n",
    "X_train_binary, y_train_binary = load_data_binary(train_dir, apply_clahe_flag=True, apply_color_thresholding=True)\n",
    "X_test_binary, y_test_binary = load_data_binary(test_dir, apply_color_thresholding=True)\n",
    "X_val_binary, y_val_binary = load_data_binary(validation_dir, apply_color_thresholding=True)\n",
    "\n",
    "# One-hot encode binary labels\n",
    "y_train_binary = to_categorical(y_train_binary, 2)\n",
    "y_test_binary = to_categorical(y_test_binary, 2)\n",
    "y_val_binary = to_categorical(y_val_binary, 2)\n"
   ]
  },
  {
   "cell_type": "code",
   "execution_count": 8,
   "id": "a5cfc66e",
   "metadata": {},
   "outputs": [
    {
     "name": "stdout",
     "output_type": "stream",
     "text": [
      "Epoch 1/35\n"
     ]
    },
    {
     "name": "stderr",
     "output_type": "stream",
     "text": [
      "C:\\Users\\DELL\\Desktop\\PFETesting\\paper1\\Lib\\site-packages\\keras\\src\\models\\functional.py:237: UserWarning: The structure of `inputs` doesn't match the expected structure.\n",
      "Expected: ['keras_tensor']\n",
      "Received: inputs=Tensor(shape=(None, 224, 224, 3))\n",
      "  warnings.warn(msg)\n"
     ]
    },
    {
     "name": "stdout",
     "output_type": "stream",
     "text": [
      "\u001b[1m9/9\u001b[0m \u001b[32m━━━━━━━━━━━━━━━━━━━━\u001b[0m\u001b[37m\u001b[0m \u001b[1m283s\u001b[0m 16s/step - accuracy: 0.7177 - loss: 0.6497 - val_accuracy: 0.8571 - val_loss: 0.4464\n",
      "Epoch 2/35\n",
      "\u001b[1m9/9\u001b[0m \u001b[32m━━━━━━━━━━━━━━━━━━━━\u001b[0m\u001b[37m\u001b[0m \u001b[1m80s\u001b[0m 9s/step - accuracy: 0.8569 - loss: 0.4480 - val_accuracy: 0.8889 - val_loss: 0.3261\n",
      "Epoch 3/35\n",
      "\u001b[1m9/9\u001b[0m \u001b[32m━━━━━━━━━━━━━━━━━━━━\u001b[0m\u001b[37m\u001b[0m \u001b[1m78s\u001b[0m 9s/step - accuracy: 0.8613 - loss: 0.3576 - val_accuracy: 0.8571 - val_loss: 0.2961\n",
      "Epoch 4/35\n",
      "\u001b[1m9/9\u001b[0m \u001b[32m━━━━━━━━━━━━━━━━━━━━\u001b[0m\u001b[37m\u001b[0m \u001b[1m91s\u001b[0m 10s/step - accuracy: 0.8590 - loss: 0.3419 - val_accuracy: 0.8571 - val_loss: 0.2822\n",
      "Epoch 5/35\n",
      "\u001b[1m9/9\u001b[0m \u001b[32m━━━━━━━━━━━━━━━━━━━━\u001b[0m\u001b[37m\u001b[0m \u001b[1m77s\u001b[0m 9s/step - accuracy: 0.8821 - loss: 0.3095 - val_accuracy: 0.8571 - val_loss: 0.2807\n",
      "Epoch 6/35\n",
      "\u001b[1m9/9\u001b[0m \u001b[32m━━━━━━━━━━━━━━━━━━━━\u001b[0m\u001b[37m\u001b[0m \u001b[1m79s\u001b[0m 9s/step - accuracy: 0.9038 - loss: 0.2595 - val_accuracy: 0.9048 - val_loss: 0.2549\n",
      "Epoch 7/35\n",
      "\u001b[1m9/9\u001b[0m \u001b[32m━━━━━━━━━━━━━━━━━━━━\u001b[0m\u001b[37m\u001b[0m \u001b[1m85s\u001b[0m 9s/step - accuracy: 0.9387 - loss: 0.1901 - val_accuracy: 0.8889 - val_loss: 0.2537\n",
      "Epoch 8/35\n",
      "\u001b[1m9/9\u001b[0m \u001b[32m━━━━━━━━━━━━━━━━━━━━\u001b[0m\u001b[37m\u001b[0m \u001b[1m88s\u001b[0m 10s/step - accuracy: 0.8654 - loss: 0.2849 - val_accuracy: 0.8730 - val_loss: 0.2568\n",
      "Epoch 9/35\n",
      "\u001b[1m9/9\u001b[0m \u001b[32m━━━━━━━━━━━━━━━━━━━━\u001b[0m\u001b[37m\u001b[0m \u001b[1m127s\u001b[0m 8s/step - accuracy: 0.8716 - loss: 0.2918 - val_accuracy: 0.8889 - val_loss: 0.2450\n",
      "Epoch 10/35\n",
      "\u001b[1m9/9\u001b[0m \u001b[32m━━━━━━━━━━━━━━━━━━━━\u001b[0m\u001b[37m\u001b[0m \u001b[1m83s\u001b[0m 9s/step - accuracy: 0.9451 - loss: 0.1839 - val_accuracy: 0.9048 - val_loss: 0.2431\n",
      "Epoch 11/35\n",
      "\u001b[1m9/9\u001b[0m \u001b[32m━━━━━━━━━━━━━━━━━━━━\u001b[0m\u001b[37m\u001b[0m \u001b[1m136s\u001b[0m 9s/step - accuracy: 0.9447 - loss: 0.1692 - val_accuracy: 0.9048 - val_loss: 0.2446\n",
      "Epoch 12/35\n",
      "\u001b[1m9/9\u001b[0m \u001b[32m━━━━━━━━━━━━━━━━━━━━\u001b[0m\u001b[37m\u001b[0m \u001b[1m80s\u001b[0m 9s/step - accuracy: 0.9155 - loss: 0.1838 - val_accuracy: 0.9048 - val_loss: 0.2416\n",
      "Epoch 13/35\n",
      "\u001b[1m9/9\u001b[0m \u001b[32m━━━━━━━━━━━━━━━━━━━━\u001b[0m\u001b[37m\u001b[0m \u001b[1m78s\u001b[0m 9s/step - accuracy: 0.9424 - loss: 0.1496 - val_accuracy: 0.9048 - val_loss: 0.2386\n",
      "Epoch 14/35\n",
      "\u001b[1m9/9\u001b[0m \u001b[32m━━━━━━━━━━━━━━━━━━━━\u001b[0m\u001b[37m\u001b[0m \u001b[1m75s\u001b[0m 8s/step - accuracy: 0.9288 - loss: 0.1766 - val_accuracy: 0.9206 - val_loss: 0.2406\n",
      "Epoch 15/35\n",
      "\u001b[1m9/9\u001b[0m \u001b[32m━━━━━━━━━━━━━━━━━━━━\u001b[0m\u001b[37m\u001b[0m \u001b[1m86s\u001b[0m 10s/step - accuracy: 0.9476 - loss: 0.1427 - val_accuracy: 0.9048 - val_loss: 0.2331\n",
      "Epoch 16/35\n",
      "\u001b[1m9/9\u001b[0m \u001b[32m━━━━━━━━━━━━━━━━━━━━\u001b[0m\u001b[37m\u001b[0m \u001b[1m78s\u001b[0m 9s/step - accuracy: 0.9616 - loss: 0.1292 - val_accuracy: 0.9206 - val_loss: 0.2323\n",
      "Epoch 17/35\n",
      "\u001b[1m9/9\u001b[0m \u001b[32m━━━━━━━━━━━━━━━━━━━━\u001b[0m\u001b[37m\u001b[0m \u001b[1m83s\u001b[0m 9s/step - accuracy: 0.9660 - loss: 0.1294 - val_accuracy: 0.9206 - val_loss: 0.2302\n",
      "Epoch 18/35\n",
      "\u001b[1m9/9\u001b[0m \u001b[32m━━━━━━━━━━━━━━━━━━━━\u001b[0m\u001b[37m\u001b[0m \u001b[1m72s\u001b[0m 8s/step - accuracy: 0.9346 - loss: 0.1556 - val_accuracy: 0.9206 - val_loss: 0.2330\n",
      "Epoch 19/35\n",
      "\u001b[1m9/9\u001b[0m \u001b[32m━━━━━━━━━━━━━━━━━━━━\u001b[0m\u001b[37m\u001b[0m \u001b[1m72s\u001b[0m 8s/step - accuracy: 0.9305 - loss: 0.1842 - val_accuracy: 0.9206 - val_loss: 0.2340\n",
      "Epoch 20/35\n",
      "\u001b[1m9/9\u001b[0m \u001b[32m━━━━━━━━━━━━━━━━━━━━\u001b[0m\u001b[37m\u001b[0m \u001b[1m71s\u001b[0m 8s/step - accuracy: 0.9599 - loss: 0.1218 - val_accuracy: 0.9206 - val_loss: 0.2267\n",
      "Epoch 21/35\n",
      "\u001b[1m9/9\u001b[0m \u001b[32m━━━━━━━━━━━━━━━━━━━━\u001b[0m\u001b[37m\u001b[0m \u001b[1m78s\u001b[0m 9s/step - accuracy: 0.9787 - loss: 0.1185 - val_accuracy: 0.9206 - val_loss: 0.2348\n",
      "Epoch 22/35\n",
      "\u001b[1m9/9\u001b[0m \u001b[32m━━━━━━━━━━━━━━━━━━━━\u001b[0m\u001b[37m\u001b[0m \u001b[1m70s\u001b[0m 8s/step - accuracy: 0.9360 - loss: 0.1349 - val_accuracy: 0.9206 - val_loss: 0.2279\n",
      "Epoch 23/35\n",
      "\u001b[1m9/9\u001b[0m \u001b[32m━━━━━━━━━━━━━━━━━━━━\u001b[0m\u001b[37m\u001b[0m \u001b[1m70s\u001b[0m 8s/step - accuracy: 0.9548 - loss: 0.1356 - val_accuracy: 0.9206 - val_loss: 0.2294\n",
      "Epoch 24/35\n",
      "\u001b[1m9/9\u001b[0m \u001b[32m━━━━━━━━━━━━━━━━━━━━\u001b[0m\u001b[37m\u001b[0m \u001b[1m61s\u001b[0m 7s/step - accuracy: 0.9382 - loss: 0.1532 - val_accuracy: 0.9048 - val_loss: 0.2438\n",
      "Epoch 25/35\n",
      "\u001b[1m9/9\u001b[0m \u001b[32m━━━━━━━━━━━━━━━━━━━━\u001b[0m\u001b[37m\u001b[0m \u001b[1m35s\u001b[0m 4s/step - accuracy: 0.9343 - loss: 0.1427 - val_accuracy: 0.9206 - val_loss: 0.2268\n",
      "Epoch 26/35\n",
      "\u001b[1m9/9\u001b[0m \u001b[32m━━━━━━━━━━━━━━━━━━━━\u001b[0m\u001b[37m\u001b[0m \u001b[1m35s\u001b[0m 4s/step - accuracy: 0.9469 - loss: 0.1210 - val_accuracy: 0.9206 - val_loss: 0.2357\n",
      "Epoch 27/35\n",
      "\u001b[1m9/9\u001b[0m \u001b[32m━━━━━━━━━━━━━━━━━━━━\u001b[0m\u001b[37m\u001b[0m \u001b[1m35s\u001b[0m 4s/step - accuracy: 0.9506 - loss: 0.1141 - val_accuracy: 0.9048 - val_loss: 0.2478\n",
      "Epoch 28/35\n",
      "\u001b[1m9/9\u001b[0m \u001b[32m━━━━━━━━━━━━━━━━━━━━\u001b[0m\u001b[37m\u001b[0m \u001b[1m35s\u001b[0m 4s/step - accuracy: 0.9749 - loss: 0.0790 - val_accuracy: 0.9048 - val_loss: 0.2368\n",
      "Epoch 29/35\n",
      "\u001b[1m9/9\u001b[0m \u001b[32m━━━━━━━━━━━━━━━━━━━━\u001b[0m\u001b[37m\u001b[0m \u001b[1m41s\u001b[0m 5s/step - accuracy: 0.9850 - loss: 0.0852 - val_accuracy: 0.9206 - val_loss: 0.2279\n",
      "Epoch 30/35\n",
      "\u001b[1m9/9\u001b[0m \u001b[32m━━━━━━━━━━━━━━━━━━━━\u001b[0m\u001b[37m\u001b[0m \u001b[1m36s\u001b[0m 4s/step - accuracy: 0.9314 - loss: 0.1301 - val_accuracy: 0.9206 - val_loss: 0.2257\n",
      "Epoch 31/35\n",
      "\u001b[1m9/9\u001b[0m \u001b[32m━━━━━━━━━━━━━━━━━━━━\u001b[0m\u001b[37m\u001b[0m \u001b[1m38s\u001b[0m 4s/step - accuracy: 0.9819 - loss: 0.0894 - val_accuracy: 0.9206 - val_loss: 0.2229\n",
      "Epoch 32/35\n",
      "\u001b[1m9/9\u001b[0m \u001b[32m━━━━━━━━━━━━━━━━━━━━\u001b[0m\u001b[37m\u001b[0m \u001b[1m39s\u001b[0m 4s/step - accuracy: 0.9586 - loss: 0.1146 - val_accuracy: 0.9048 - val_loss: 0.2322\n",
      "Epoch 33/35\n",
      "\u001b[1m9/9\u001b[0m \u001b[32m━━━━━━━━━━━━━━━━━━━━\u001b[0m\u001b[37m\u001b[0m \u001b[1m37s\u001b[0m 4s/step - accuracy: 0.9640 - loss: 0.0927 - val_accuracy: 0.9048 - val_loss: 0.2261\n",
      "Epoch 34/35\n",
      "\u001b[1m9/9\u001b[0m \u001b[32m━━━━━━━━━━━━━━━━━━━━\u001b[0m\u001b[37m\u001b[0m \u001b[1m42s\u001b[0m 5s/step - accuracy: 0.9605 - loss: 0.1092 - val_accuracy: 0.9048 - val_loss: 0.2251\n",
      "Epoch 35/35\n",
      "\u001b[1m9/9\u001b[0m \u001b[32m━━━━━━━━━━━━━━━━━━━━\u001b[0m\u001b[37m\u001b[0m \u001b[1m75s\u001b[0m 8s/step - accuracy: 0.9849 - loss: 0.0680 - val_accuracy: 0.9206 - val_loss: 0.2243\n"
     ]
    }
   ],
   "source": [
    "# Create and train binary classification model\n",
    "binary_model = create_binary_model((IMG_SIZE[0], IMG_SIZE[1], 3))\n",
    "history_binary = binary_model.fit(X_train_binary, y_train_binary, validation_data=(X_val_binary, y_val_binary), epochs=35, batch_size=BATCH_SIZE)\n"
   ]
  },
  {
   "cell_type": "code",
   "execution_count": 9,
   "id": "af78deeb",
   "metadata": {},
   "outputs": [
    {
     "name": "stdout",
     "output_type": "stream",
     "text": [
      "\u001b[1m2/2\u001b[0m \u001b[32m━━━━━━━━━━━━━━━━━━━━\u001b[0m\u001b[37m\u001b[0m \u001b[1m14s\u001b[0m 6s/step - accuracy: 0.9474 - loss: 0.1476\n",
      "Binary Classifier Test Accuracy: 0.95\n"
     ]
    }
   ],
   "source": [
    "# Evaluate the binary classifier\n",
    "binary_test_loss, binary_test_accuracy = binary_model.evaluate(X_test_binary, y_test_binary)\n",
    "print(f\"Binary Classifier Test Accuracy: {binary_test_accuracy:.2f}\")\n"
   ]
  },
  {
   "cell_type": "code",
   "execution_count": 10,
   "id": "29a26de0",
   "metadata": {},
   "outputs": [
    {
     "name": "stderr",
     "output_type": "stream",
     "text": [
      "C:\\Users\\DELL\\Desktop\\PFETesting\\paper1\\Lib\\site-packages\\keras\\src\\models\\functional.py:237: UserWarning: The structure of `inputs` doesn't match the expected structure.\n",
      "Expected: ['keras_tensor']\n",
      "Received: inputs=Tensor(shape=(32, 224, 224, 3))\n",
      "  warnings.warn(msg)\n"
     ]
    },
    {
     "name": "stdout",
     "output_type": "stream",
     "text": [
      "\u001b[1m2/2\u001b[0m \u001b[32m━━━━━━━━━━━━━━━━━━━━\u001b[0m\u001b[37m\u001b[0m \u001b[1m81s\u001b[0m 43s/step\n"
     ]
    }
   ],
   "source": [
    "# Identify the \"not healthy\" images for multi-class classification\n",
    "# Only images predicted as \"not healthy\" will go to the multi-class model\n",
    "y_pred_binary = binary_model.predict(X_test_binary)\n",
    "y_pred_binary_classes = np.argmax(y_pred_binary, axis=1)\n",
    "\n",
    "# Filter out the diseased (not healthy) images and labels\n",
    "diseased_images = X_test_binary[y_pred_binary_classes == 1]\n",
    "diseased_labels = y_test_binary[y_pred_binary_classes == 1]\n",
    "\n"
   ]
  },
  {
   "cell_type": "code",
   "execution_count": 12,
   "id": "f2598db5",
   "metadata": {},
   "outputs": [
    {
     "name": "stdout",
     "output_type": "stream",
     "text": [
      "Epoch 1/45\n"
     ]
    },
    {
     "name": "stderr",
     "output_type": "stream",
     "text": [
      "C:\\Users\\DELL\\Desktop\\PFETesting\\paper1\\Lib\\site-packages\\keras\\src\\models\\functional.py:237: UserWarning: The structure of `inputs` doesn't match the expected structure.\n",
      "Expected: ['keras_tensor_1420']\n",
      "Received: inputs=Tensor(shape=(None, 224, 224, 3))\n",
      "  warnings.warn(msg)\n"
     ]
    },
    {
     "name": "stdout",
     "output_type": "stream",
     "text": [
      "\u001b[1m2/2\u001b[0m \u001b[32m━━━━━━━━━━━━━━━━━━━━\u001b[0m\u001b[37m\u001b[0m \u001b[1m95s\u001b[0m 2s/step - accuracy: 0.0837 - loss: 2.5654 \n",
      "Epoch 2/45\n",
      "\u001b[1m2/2\u001b[0m \u001b[32m━━━━━━━━━━━━━━━━━━━━\u001b[0m\u001b[37m\u001b[0m \u001b[1m6s\u001b[0m 2s/step - accuracy: 0.5796 - loss: 1.0739\n",
      "Epoch 3/45\n",
      "\u001b[1m2/2\u001b[0m \u001b[32m━━━━━━━━━━━━━━━━━━━━\u001b[0m\u001b[37m\u001b[0m \u001b[1m6s\u001b[0m 2s/step - accuracy: 0.8954 - loss: 0.4537\n",
      "Epoch 4/45\n",
      "\u001b[1m2/2\u001b[0m \u001b[32m━━━━━━━━━━━━━━━━━━━━\u001b[0m\u001b[37m\u001b[0m \u001b[1m6s\u001b[0m 2s/step - accuracy: 0.9644 - loss: 0.1466\n",
      "Epoch 5/45\n",
      "\u001b[1m2/2\u001b[0m \u001b[32m━━━━━━━━━━━━━━━━━━━━\u001b[0m\u001b[37m\u001b[0m \u001b[1m6s\u001b[0m 2s/step - accuracy: 0.9770 - loss: 0.1691\n",
      "Epoch 6/45\n",
      "\u001b[1m2/2\u001b[0m \u001b[32m━━━━━━━━━━━━━━━━━━━━\u001b[0m\u001b[37m\u001b[0m \u001b[1m6s\u001b[0m 2s/step - accuracy: 0.9874 - loss: 0.0906\n",
      "Epoch 7/45\n",
      "\u001b[1m2/2\u001b[0m \u001b[32m━━━━━━━━━━━━━━━━━━━━\u001b[0m\u001b[37m\u001b[0m \u001b[1m6s\u001b[0m 2s/step - accuracy: 0.9770 - loss: 0.2183\n",
      "Epoch 8/45\n",
      "\u001b[1m2/2\u001b[0m \u001b[32m━━━━━━━━━━━━━━━━━━━━\u001b[0m\u001b[37m\u001b[0m \u001b[1m6s\u001b[0m 2s/step - accuracy: 0.9874 - loss: 0.0947\n",
      "Epoch 9/45\n",
      "\u001b[1m2/2\u001b[0m \u001b[32m━━━━━━━━━━━━━━━━━━━━\u001b[0m\u001b[37m\u001b[0m \u001b[1m6s\u001b[0m 2s/step - accuracy: 0.9770 - loss: 0.1084\n",
      "Epoch 10/45\n",
      "\u001b[1m2/2\u001b[0m \u001b[32m━━━━━━━━━━━━━━━━━━━━\u001b[0m\u001b[37m\u001b[0m \u001b[1m6s\u001b[0m 2s/step - accuracy: 0.9770 - loss: 0.1229\n",
      "Epoch 11/45\n",
      "\u001b[1m2/2\u001b[0m \u001b[32m━━━━━━━━━━━━━━━━━━━━\u001b[0m\u001b[37m\u001b[0m \u001b[1m6s\u001b[0m 2s/step - accuracy: 0.9874 - loss: 0.0683\n",
      "Epoch 12/45\n",
      "\u001b[1m2/2\u001b[0m \u001b[32m━━━━━━━━━━━━━━━━━━━━\u001b[0m\u001b[37m\u001b[0m \u001b[1m6s\u001b[0m 2s/step - accuracy: 0.9770 - loss: 0.1123\n",
      "Epoch 13/45\n",
      "\u001b[1m2/2\u001b[0m \u001b[32m━━━━━━━━━━━━━━━━━━━━\u001b[0m\u001b[37m\u001b[0m \u001b[1m6s\u001b[0m 2s/step - accuracy: 0.9874 - loss: 0.0641   \n",
      "Epoch 14/45\n",
      "\u001b[1m2/2\u001b[0m \u001b[32m━━━━━━━━━━━━━━━━━━━━\u001b[0m\u001b[37m\u001b[0m \u001b[1m6s\u001b[0m 2s/step - accuracy: 0.9770 - loss: 0.0728\n",
      "Epoch 15/45\n",
      "\u001b[1m2/2\u001b[0m \u001b[32m━━━━━━━━━━━━━━━━━━━━\u001b[0m\u001b[37m\u001b[0m \u001b[1m6s\u001b[0m 2s/step - accuracy: 0.9874 - loss: 0.0599\n",
      "Epoch 16/45\n",
      "\u001b[1m2/2\u001b[0m \u001b[32m━━━━━━━━━━━━━━━━━━━━\u001b[0m\u001b[37m\u001b[0m \u001b[1m6s\u001b[0m 2s/step - accuracy: 0.9770 - loss: 0.1737\n",
      "Epoch 17/45\n",
      "\u001b[1m2/2\u001b[0m \u001b[32m━━━━━━━━━━━━━━━━━━━━\u001b[0m\u001b[37m\u001b[0m \u001b[1m6s\u001b[0m 2s/step - accuracy: 0.9770 - loss: 0.0553\n",
      "Epoch 18/45\n",
      "\u001b[1m2/2\u001b[0m \u001b[32m━━━━━━━━━━━━━━━━━━━━\u001b[0m\u001b[37m\u001b[0m \u001b[1m6s\u001b[0m 2s/step - accuracy: 0.9770 - loss: 0.0642\n",
      "Epoch 19/45\n",
      "\u001b[1m2/2\u001b[0m \u001b[32m━━━━━━━━━━━━━━━━━━━━\u001b[0m\u001b[37m\u001b[0m \u001b[1m6s\u001b[0m 2s/step - accuracy: 0.9770 - loss: 0.0391\n",
      "Epoch 20/45\n",
      "\u001b[1m2/2\u001b[0m \u001b[32m━━━━━━━━━━━━━━━━━━━━\u001b[0m\u001b[37m\u001b[0m \u001b[1m6s\u001b[0m 2s/step - accuracy: 0.9770 - loss: 0.1021\n",
      "Epoch 21/45\n",
      "\u001b[1m2/2\u001b[0m \u001b[32m━━━━━━━━━━━━━━━━━━━━\u001b[0m\u001b[37m\u001b[0m \u001b[1m6s\u001b[0m 2s/step - accuracy: 0.9770 - loss: 0.0415\n",
      "Epoch 22/45\n",
      "\u001b[1m2/2\u001b[0m \u001b[32m━━━━━━━━━━━━━━━━━━━━\u001b[0m\u001b[37m\u001b[0m \u001b[1m6s\u001b[0m 2s/step - accuracy: 0.9770 - loss: 0.0677\n",
      "Epoch 23/45\n",
      "\u001b[1m2/2\u001b[0m \u001b[32m━━━━━━━━━━━━━━━━━━━━\u001b[0m\u001b[37m\u001b[0m \u001b[1m6s\u001b[0m 2s/step - accuracy: 0.9770 - loss: 0.0456\n",
      "Epoch 24/45\n",
      "\u001b[1m2/2\u001b[0m \u001b[32m━━━━━━━━━━━━━━━━━━━━\u001b[0m\u001b[37m\u001b[0m \u001b[1m6s\u001b[0m 2s/step - accuracy: 0.9770 - loss: 0.0252\n",
      "Epoch 25/45\n",
      "\u001b[1m2/2\u001b[0m \u001b[32m━━━━━━━━━━━━━━━━━━━━\u001b[0m\u001b[37m\u001b[0m \u001b[1m6s\u001b[0m 2s/step - accuracy: 0.9770 - loss: 0.0848\n",
      "Epoch 26/45\n",
      "\u001b[1m2/2\u001b[0m \u001b[32m━━━━━━━━━━━━━━━━━━━━\u001b[0m\u001b[37m\u001b[0m \u001b[1m6s\u001b[0m 2s/step - accuracy: 0.9770 - loss: 0.0343\n",
      "Epoch 27/45\n",
      "\u001b[1m2/2\u001b[0m \u001b[32m━━━━━━━━━━━━━━━━━━━━\u001b[0m\u001b[37m\u001b[0m \u001b[1m6s\u001b[0m 2s/step - accuracy: 1.0000 - loss: 0.0105\n",
      "Epoch 28/45\n",
      "\u001b[1m2/2\u001b[0m \u001b[32m━━━━━━━━━━━━━━━━━━━━\u001b[0m\u001b[37m\u001b[0m \u001b[1m6s\u001b[0m 2s/step - accuracy: 1.0000 - loss: 0.0187\n",
      "Epoch 29/45\n",
      "\u001b[1m2/2\u001b[0m \u001b[32m━━━━━━━━━━━━━━━━━━━━\u001b[0m\u001b[37m\u001b[0m \u001b[1m6s\u001b[0m 2s/step - accuracy: 1.0000 - loss: 0.0136\n",
      "Epoch 30/45\n",
      "\u001b[1m2/2\u001b[0m \u001b[32m━━━━━━━━━━━━━━━━━━━━\u001b[0m\u001b[37m\u001b[0m \u001b[1m6s\u001b[0m 3s/step - accuracy: 1.0000 - loss: 0.0204\n",
      "Epoch 31/45\n",
      "\u001b[1m2/2\u001b[0m \u001b[32m━━━━━━━━━━━━━━━━━━━━\u001b[0m\u001b[37m\u001b[0m \u001b[1m6s\u001b[0m 2s/step - accuracy: 1.0000 - loss: 0.0227\n",
      "Epoch 32/45\n",
      "\u001b[1m2/2\u001b[0m \u001b[32m━━━━━━━━━━━━━━━━━━━━\u001b[0m\u001b[37m\u001b[0m \u001b[1m6s\u001b[0m 2s/step - accuracy: 1.0000 - loss: 0.0215\n",
      "Epoch 33/45\n",
      "\u001b[1m2/2\u001b[0m \u001b[32m━━━━━━━━━━━━━━━━━━━━\u001b[0m\u001b[37m\u001b[0m \u001b[1m6s\u001b[0m 2s/step - accuracy: 1.0000 - loss: 0.0176\n",
      "Epoch 34/45\n",
      "\u001b[1m2/2\u001b[0m \u001b[32m━━━━━━━━━━━━━━━━━━━━\u001b[0m\u001b[37m\u001b[0m \u001b[1m6s\u001b[0m 2s/step - accuracy: 1.0000 - loss: 0.0118\n",
      "Epoch 35/45\n",
      "\u001b[1m2/2\u001b[0m \u001b[32m━━━━━━━━━━━━━━━━━━━━\u001b[0m\u001b[37m\u001b[0m \u001b[1m6s\u001b[0m 2s/step - accuracy: 1.0000 - loss: 0.0149\n",
      "Epoch 36/45\n",
      "\u001b[1m2/2\u001b[0m \u001b[32m━━━━━━━━━━━━━━━━━━━━\u001b[0m\u001b[37m\u001b[0m \u001b[1m6s\u001b[0m 2s/step - accuracy: 1.0000 - loss: 0.0083\n",
      "Epoch 37/45\n",
      "\u001b[1m2/2\u001b[0m \u001b[32m━━━━━━━━━━━━━━━━━━━━\u001b[0m\u001b[37m\u001b[0m \u001b[1m6s\u001b[0m 2s/step - accuracy: 1.0000 - loss: 0.0051\n",
      "Epoch 38/45\n",
      "\u001b[1m2/2\u001b[0m \u001b[32m━━━━━━━━━━━━━━━━━━━━\u001b[0m\u001b[37m\u001b[0m \u001b[1m6s\u001b[0m 2s/step - accuracy: 1.0000 - loss: 0.0036\n",
      "Epoch 39/45\n",
      "\u001b[1m2/2\u001b[0m \u001b[32m━━━━━━━━━━━━━━━━━━━━\u001b[0m\u001b[37m\u001b[0m \u001b[1m6s\u001b[0m 2s/step - accuracy: 1.0000 - loss: 0.0110\n",
      "Epoch 40/45\n",
      "\u001b[1m2/2\u001b[0m \u001b[32m━━━━━━━━━━━━━━━━━━━━\u001b[0m\u001b[37m\u001b[0m \u001b[1m6s\u001b[0m 2s/step - accuracy: 1.0000 - loss: 0.0065\n",
      "Epoch 41/45\n",
      "\u001b[1m2/2\u001b[0m \u001b[32m━━━━━━━━━━━━━━━━━━━━\u001b[0m\u001b[37m\u001b[0m \u001b[1m6s\u001b[0m 2s/step - accuracy: 1.0000 - loss: 0.0091\n",
      "Epoch 42/45\n",
      "\u001b[1m2/2\u001b[0m \u001b[32m━━━━━━━━━━━━━━━━━━━━\u001b[0m\u001b[37m\u001b[0m \u001b[1m6s\u001b[0m 2s/step - accuracy: 1.0000 - loss: 0.0116\n",
      "Epoch 43/45\n",
      "\u001b[1m2/2\u001b[0m \u001b[32m━━━━━━━━━━━━━━━━━━━━\u001b[0m\u001b[37m\u001b[0m \u001b[1m6s\u001b[0m 2s/step - accuracy: 1.0000 - loss: 0.0115\n",
      "Epoch 44/45\n",
      "\u001b[1m2/2\u001b[0m \u001b[32m━━━━━━━━━━━━━━━━━━━━\u001b[0m\u001b[37m\u001b[0m \u001b[1m6s\u001b[0m 2s/step - accuracy: 1.0000 - loss: 0.0060\n",
      "Epoch 45/45\n",
      "\u001b[1m2/2\u001b[0m \u001b[32m━━━━━━━━━━━━━━━━━━━━\u001b[0m\u001b[37m\u001b[0m \u001b[1m6s\u001b[0m 3s/step - accuracy: 1.0000 - loss: 0.0059\n"
     ]
    }
   ],
   "source": [
    "from tensorflow.keras.utils import to_categorical\n",
    "\n",
    "# One-hot encode the multi-class labels for diseases\n",
    "diseased_labels_one_hot = to_categorical(diseased_labels, num_classes=6)\n",
    "\n",
    "# Create the multi-class model\n",
    "multi_class_model = create_multi_class_model((IMG_SIZE[0], IMG_SIZE[1], 3), num_classes=6)\n",
    "\n",
    "# Train the multi-class classifier\n",
    "history_multi_class = multi_class_model.fit(diseased_images, diseased_labels_one_hot, epochs=45, batch_size=BATCH_SIZE)\n"
   ]
  },
  {
   "cell_type": "code",
   "execution_count": 14,
   "id": "17a93e94",
   "metadata": {},
   "outputs": [
    {
     "name": "stdout",
     "output_type": "stream",
     "text": [
      "\u001b[1m2/2\u001b[0m \u001b[32m━━━━━━━━━━━━━━━━━━━━\u001b[0m\u001b[37m\u001b[0m \u001b[1m13s\u001b[0m 2s/step - accuracy: 1.0000 - loss: 0.0063\n",
      "Multi-class Classifier Test Accuracy: 1.00\n"
     ]
    }
   ],
   "source": [
    "# Evaluate the multi-class model using one-hot encoded labels\n",
    "multi_class_test_loss, multi_class_test_accuracy = multi_class_model.evaluate(diseased_images, diseased_labels_one_hot)\n",
    "print(f\"Multi-class Classifier Test Accuracy: {multi_class_test_accuracy:.2f}\")\n"
   ]
  },
  {
   "cell_type": "code",
   "execution_count": 15,
   "id": "dd3d3d4e",
   "metadata": {},
   "outputs": [
    {
     "name": "stderr",
     "output_type": "stream",
     "text": [
      "C:\\Users\\DELL\\Desktop\\PFETesting\\paper1\\Lib\\site-packages\\keras\\src\\models\\functional.py:237: UserWarning: The structure of `inputs` doesn't match the expected structure.\n",
      "Expected: ['keras_tensor_1420']\n",
      "Received: inputs=Tensor(shape=(32, 224, 224, 3))\n",
      "  warnings.warn(msg)\n"
     ]
    },
    {
     "name": "stdout",
     "output_type": "stream",
     "text": [
      "\u001b[1m2/2\u001b[0m \u001b[32m━━━━━━━━━━━━━━━━━━━━\u001b[0m\u001b[37m\u001b[0m \u001b[1m77s\u001b[0m 39s/step\n"
     ]
    },
    {
     "data": {
      "image/png": "[encoded data removed]",
      "text/plain": [
       "<Figure size 1000x800 with 2 Axes>"
      ]
     },
     "metadata": {},
     "output_type": "display_data"
    }
   ],
   "source": [
    "from sklearn.metrics import confusion_matrix\n",
    "import seaborn as sns\n",
    "import matplotlib.pyplot as plt\n",
    "import numpy as np\n",
    "\n",
    "# Get the predictions from the model\n",
    "y_pred = multi_class_model.predict(diseased_images)\n",
    "\n",
    "# Convert the predictions to the class with the highest probability\n",
    "y_pred_classes = np.argmax(y_pred, axis=1)\n",
    "\n",
    "# Convert the one-hot encoded true labels back to class indices\n",
    "y_true_classes = np.argmax(diseased_labels_one_hot, axis=1)\n",
    "\n",
    "# Generate the confusion matrix\n",
    "conf_matrix = confusion_matrix(y_true_classes, y_pred_classes)\n",
    "\n",
    "# Plot the confusion matrix using seaborn\n",
    "plt.figure(figsize=(10, 8))\n",
    "sns.heatmap(conf_matrix, annot=True, fmt='d', cmap='Blues', xticklabels=range(6), yticklabels=range(6))\n",
    "plt.xlabel(\"Predicted Labels\")\n",
    "plt.ylabel(\"True Labels\")\n",
    "plt.title(\"Confusion Matrix for Multi-Class Classifier\")\n",
    "plt.show()\n"
   ]
  },
  {
   "cell_type": "code",
   "execution_count": null,
   "id": "d08e3866",
   "metadata": {},
   "outputs": [],
   "source": []
  }
 ],
 "metadata": {
  "kernelspec": {
   "display_name": "amiratest1",
   "language": "python",
   "name": "amiratest1"
  },
  "language_info": {
   "codemirror_mode": {
    "name": "ipython",
    "version": 3
   },
   "file_extension": ".py",
   "mimetype": "text/x-python",
   "name": "python",
   "nbconvert_exporter": "python",
   "pygments_lexer": "ipython3",
   "version": "3.11.8"
  }
 },
 "nbformat": 4,
 "nbformat_minor": 5
}
