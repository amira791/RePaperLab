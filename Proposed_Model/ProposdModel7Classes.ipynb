{
 "cells": [
  {
   "cell_type": "code",
   "execution_count": 16,
   "id": "233d1a57",
   "metadata": {},
   "outputs": [],
   "source": [
    "# Import necessary libraries\n",
    "import os\n",
    "import numpy as np\n",
    "import cv2\n",
    "from tensorflow.keras.applications import DenseNet201\n",
    "from tensorflow.keras.models import Model\n",
    "from tensorflow.keras.layers import GlobalAveragePooling2D, Input, Dense, Dropout\n",
    "from sklearn.metrics import classification_report, confusion_matrix\n",
    "from tensorflow.keras.utils import to_categorical\n",
    "from imblearn.over_sampling import ADASYN\n",
    "from xgboost import XGBClassifier\n",
    "import seaborn as sns\n",
    "import matplotlib.pyplot as plt"
   ]
  },
  {
   "cell_type": "code",
   "execution_count": 8,
   "id": "9f0ff15e",
   "metadata": {},
   "outputs": [
    {
     "name": "stdout",
     "output_type": "stream",
     "text": [
      "Collecting xgboost\n",
      "  Downloading xgboost-2.1.3-py3-none-win_amd64.whl (124.9 MB)\n",
      "     ------------------------------------ 124.9/124.9 MB 227.4 kB/s eta 0:00:00\n",
      "Requirement already satisfied: numpy in c:\\users\\dell\\anaconda3\\lib\\site-packages (from xgboost) (1.26.4)\n",
      "Requirement already satisfied: scipy in c:\\users\\dell\\anaconda3\\lib\\site-packages (from xgboost) (1.10.0)\n",
      "Installing collected packages: xgboost\n",
      "Successfully installed xgboost-2.1.3\n"
     ]
    }
   ],
   "source": [
    "!pip install xgboost\n"
   ]
  },
  {
   "cell_type": "code",
   "execution_count": 11,
   "id": "ff607083",
   "metadata": {},
   "outputs": [],
   "source": [
    "# Dataset directories\n",
    "data_dir = r'D:\\PFE\\D2\\balanced_dataset'  # Main dataset directory\n",
    "train_dir = os.path.join(data_dir, \"train\")\n",
    "test_dir = os.path.join(data_dir, \"test\")\n",
    "validation_dir = os.path.join(data_dir, \"validation\")\n"
   ]
  },
  {
   "cell_type": "code",
   "execution_count": 12,
   "id": "b4e4e634",
   "metadata": {},
   "outputs": [],
   "source": [
    "# Hyperparameters\n",
    "IMG_SIZE = (224, 224)\n",
    "BATCH_SIZE = 32\n",
    "NUM_CLASSES = 7  # Number of classes in the dataset\n"
   ]
  },
  {
   "cell_type": "code",
   "execution_count": 13,
   "id": "f56b7cbc",
   "metadata": {},
   "outputs": [],
   "source": [
    "# CLAHE (Contrast Limited Adaptive Histogram Equalization)\n",
    "def apply_clahe(image):\n",
    "    lab = cv2.cvtColor(image, cv2.COLOR_BGR2LAB)\n",
    "    l, a, b = cv2.split(lab)\n",
    "    clahe = cv2.createCLAHE(clipLimit=2.0, tileGridSize=(8, 8))\n",
    "    cl = clahe.apply(l)\n",
    "    limg = cv2.merge((cl, a, b))\n",
    "    return cv2.cvtColor(limg, cv2.COLOR_LAB2BGR)\n",
    "\n",
    "# Background removal using color thresholding\n",
    "def remove_background_color_thresholding(image):\n",
    "    hsv = cv2.cvtColor(image, cv2.COLOR_BGR2HSV)\n",
    "    lower_green = np.array([35, 50, 50])  # Lower bound for green in HSV\n",
    "    upper_green = np.array([85, 255, 255])  # Upper bound for green in HSV\n",
    "    mask = cv2.inRange(hsv, lower_green, upper_green)\n",
    "    mask_inv = cv2.bitwise_not(mask)\n",
    "    result = cv2.bitwise_and(image, image, mask=mask_inv)\n",
    "    return result\n"
   ]
  },
  {
   "cell_type": "code",
   "execution_count": 17,
   "id": "94bbca7a",
   "metadata": {},
   "outputs": [],
   "source": [
    "# Load and preprocess data\n",
    "def load_data(data_dir, apply_clahe_flag=False, apply_color_thresholding=False):\n",
    "    original_images, preprocessed_images, labels = [], [], []\n",
    "    for label, class_dir in enumerate(os.listdir(data_dir)):\n",
    "        class_path = os.path.join(data_dir, class_dir)\n",
    "        if not os.path.isdir(class_path):\n",
    "            continue\n",
    "        for img_name in os.listdir(class_path):\n",
    "            img_path = os.path.join(class_path, img_name)\n",
    "            img = cv2.imread(img_path)\n",
    "            if img is None:\n",
    "                print(f\"Warning: Unable to read image {img_path}. Skipping...\")\n",
    "                continue\n",
    "            \n",
    "            # Resize and normalize the image\n",
    "            img_resized = cv2.resize(img, IMG_SIZE, interpolation=cv2.INTER_CUBIC)\n",
    "            original_images.append(img_resized / 255.0)\n",
    "            \n",
    "            # Preprocess the image\n",
    "            preprocessed_img = img_resized.copy()\n",
    "            if apply_color_thresholding:\n",
    "                preprocessed_img = remove_background_color_thresholding(preprocessed_img)\n",
    "            if apply_clahe_flag:\n",
    "                preprocessed_img = apply_clahe(preprocessed_img)\n",
    "            preprocessed_images.append(preprocessed_img / 255.0)\n",
    "            \n",
    "            labels.append(label)\n",
    "    return np.array(original_images), np.array(preprocessed_images), np.array(labels)\n",
    "\n",
    "# Load train, test, and validation data\n",
    "X_train_original, X_train_preprocessed, y_train = load_data(train_dir, apply_clahe_flag=True, apply_color_thresholding=True)\n",
    "X_test_original, X_test_preprocessed, y_test = load_data(test_dir, apply_color_thresholding=True)\n",
    "X_val_original, X_val_preprocessed, y_val = load_data(validation_dir, apply_color_thresholding=True)\n"
   ]
  },
  {
   "cell_type": "code",
   "execution_count": 18,
   "id": "e5a310b8",
   "metadata": {},
   "outputs": [],
   "source": [
    "# One-hot encode the labels\n",
    "y_train = to_categorical(y_train, NUM_CLASSES)\n",
    "y_test = to_categorical(y_test, NUM_CLASSES)\n",
    "y_val = to_categorical(y_val, NUM_CLASSES)\n",
    "\n",
    "# Define the model (using DenseNet201 as in the original code)\n",
    "def create_model(input_shape, num_classes):\n",
    "    base_model = DenseNet201(weights=\"imagenet\", include_top=False, input_tensor=Input(shape=input_shape))\n",
    "    x = GlobalAveragePooling2D()(base_model.output)\n",
    "    x = Dropout(0.5)(x)\n",
    "    output = Dense(num_classes, activation=\"softmax\")(x)\n",
    "    model = Model(inputs=base_model.input, outputs=output)\n",
    "    \n",
    "    # Freeze the base model layers\n",
    "    for layer in base_model.layers:\n",
    "        layer.trainable = False\n",
    "    \n",
    "    model.compile(optimizer=\"adam\", loss=\"categorical_crossentropy\", metrics=[\"accuracy\"])\n",
    "    return model\n",
    "\n",
    "\n"
   ]
  },
  {
   "cell_type": "code",
   "execution_count": 19,
   "id": "9b3d5972",
   "metadata": {},
   "outputs": [
    {
     "name": "stdout",
     "output_type": "stream",
     "text": [
      "Downloading data from https://storage.googleapis.com/tensorflow/keras-applications/densenet/densenet201_weights_tf_dim_ordering_tf_kernels_notop.h5\n",
      "\u001b[1m74836368/74836368\u001b[0m \u001b[32m━━━━━━━━━━━━━━━━━━━━\u001b[0m\u001b[37m\u001b[0m \u001b[1m39s\u001b[0m 1us/step\n"
     ]
    }
   ],
   "source": [
    "# Create and train the model\n",
    "model = create_model((IMG_SIZE[0], IMG_SIZE[1], 3), NUM_CLASSES)\n",
    "\n",
    "\n"
   ]
  },
  {
   "cell_type": "code",
   "execution_count": 21,
   "id": "c899329a",
   "metadata": {
    "scrolled": false
   },
   "outputs": [
    {
     "name": "stdout",
     "output_type": "stream",
     "text": [
      "Epoch 1/35\n",
      "\u001b[1m9/9\u001b[0m \u001b[32m━━━━━━━━━━━━━━━━━━━━\u001b[0m\u001b[37m\u001b[0m \u001b[1m51s\u001b[0m 6s/step - accuracy: 0.1502 - loss: 2.3500 - val_accuracy: 0.2222 - val_loss: 2.1232\n",
      "Epoch 2/35\n",
      "\u001b[1m9/9\u001b[0m \u001b[32m━━━━━━━━━━━━━━━━━━━━\u001b[0m\u001b[37m\u001b[0m \u001b[1m49s\u001b[0m 6s/step - accuracy: 0.2337 - loss: 2.0696 - val_accuracy: 0.2222 - val_loss: 1.9904\n",
      "Epoch 3/35\n",
      "\u001b[1m9/9\u001b[0m \u001b[32m━━━━━━━━━━━━━━━━━━━━\u001b[0m\u001b[37m\u001b[0m \u001b[1m45s\u001b[0m 5s/step - accuracy: 0.3293 - loss: 1.8836 - val_accuracy: 0.3333 - val_loss: 1.9094\n",
      "Epoch 4/35\n",
      "\u001b[1m9/9\u001b[0m \u001b[32m━━━━━━━━━━━━━━━━━━━━\u001b[0m\u001b[37m\u001b[0m \u001b[1m43s\u001b[0m 5s/step - accuracy: 0.3793 - loss: 1.6149 - val_accuracy: 0.3333 - val_loss: 1.8018\n",
      "Epoch 5/35\n",
      "\u001b[1m9/9\u001b[0m \u001b[32m━━━━━━━━━━━━━━━━━━━━\u001b[0m\u001b[37m\u001b[0m \u001b[1m50s\u001b[0m 6s/step - accuracy: 0.4500 - loss: 1.4465 - val_accuracy: 0.3651 - val_loss: 1.7452\n",
      "Epoch 6/35\n",
      "\u001b[1m9/9\u001b[0m \u001b[32m━━━━━━━━━━━━━━━━━━━━\u001b[0m\u001b[37m\u001b[0m \u001b[1m44s\u001b[0m 5s/step - accuracy: 0.5633 - loss: 1.3145 - val_accuracy: 0.3810 - val_loss: 1.7087\n",
      "Epoch 7/35\n",
      "\u001b[1m9/9\u001b[0m \u001b[32m━━━━━━━━━━━━━━━━━━━━\u001b[0m\u001b[37m\u001b[0m \u001b[1m71s\u001b[0m 8s/step - accuracy: 0.6031 - loss: 1.1564 - val_accuracy: 0.3968 - val_loss: 1.6716\n",
      "Epoch 8/35\n",
      "\u001b[1m9/9\u001b[0m \u001b[32m━━━━━━━━━━━━━━━━━━━━\u001b[0m\u001b[37m\u001b[0m \u001b[1m49s\u001b[0m 5s/step - accuracy: 0.5982 - loss: 1.0962 - val_accuracy: 0.4286 - val_loss: 1.6313\n",
      "Epoch 9/35\n",
      "\u001b[1m9/9\u001b[0m \u001b[32m━━━━━━━━━━━━━━━━━━━━\u001b[0m\u001b[37m\u001b[0m \u001b[1m62s\u001b[0m 7s/step - accuracy: 0.6459 - loss: 1.0953 - val_accuracy: 0.4127 - val_loss: 1.6078\n",
      "Epoch 10/35\n",
      "\u001b[1m9/9\u001b[0m \u001b[32m━━━━━━━━━━━━━━━━━━━━\u001b[0m\u001b[37m\u001b[0m \u001b[1m73s\u001b[0m 8s/step - accuracy: 0.6528 - loss: 1.0060 - val_accuracy: 0.4286 - val_loss: 1.6024\n",
      "Epoch 11/35\n",
      "\u001b[1m9/9\u001b[0m \u001b[32m━━━━━━━━━━━━━━━━━━━━\u001b[0m\u001b[37m\u001b[0m \u001b[1m79s\u001b[0m 9s/step - accuracy: 0.6695 - loss: 0.9554 - val_accuracy: 0.4127 - val_loss: 1.5610\n",
      "Epoch 12/35\n",
      "\u001b[1m9/9\u001b[0m \u001b[32m━━━━━━━━━━━━━━━━━━━━\u001b[0m\u001b[37m\u001b[0m \u001b[1m74s\u001b[0m 8s/step - accuracy: 0.6410 - loss: 0.9405 - val_accuracy: 0.4444 - val_loss: 1.5662\n",
      "Epoch 13/35\n",
      "\u001b[1m9/9\u001b[0m \u001b[32m━━━━━━━━━━━━━━━━━━━━\u001b[0m\u001b[37m\u001b[0m \u001b[1m75s\u001b[0m 8s/step - accuracy: 0.6831 - loss: 0.8979 - val_accuracy: 0.4127 - val_loss: 1.5339\n",
      "Epoch 14/35\n",
      "\u001b[1m9/9\u001b[0m \u001b[32m━━━━━━━━━━━━━━━━━━━━\u001b[0m\u001b[37m\u001b[0m \u001b[1m80s\u001b[0m 8s/step - accuracy: 0.6965 - loss: 0.9186 - val_accuracy: 0.4762 - val_loss: 1.5150\n",
      "Epoch 15/35\n",
      "\u001b[1m9/9\u001b[0m \u001b[32m━━━━━━━━━━━━━━━━━━━━\u001b[0m\u001b[37m\u001b[0m \u001b[1m72s\u001b[0m 8s/step - accuracy: 0.6965 - loss: 0.8568 - val_accuracy: 0.4286 - val_loss: 1.5181\n",
      "Epoch 16/35\n",
      "\u001b[1m9/9\u001b[0m \u001b[32m━━━━━━━━━━━━━━━━━━━━\u001b[0m\u001b[37m\u001b[0m \u001b[1m76s\u001b[0m 9s/step - accuracy: 0.7369 - loss: 0.7977 - val_accuracy: 0.4444 - val_loss: 1.5352\n",
      "Epoch 17/35\n",
      "\u001b[1m9/9\u001b[0m \u001b[32m━━━━━━━━━━━━━━━━━━━━\u001b[0m\u001b[37m\u001b[0m \u001b[1m48s\u001b[0m 5s/step - accuracy: 0.8130 - loss: 0.6562 - val_accuracy: 0.4444 - val_loss: 1.4938\n",
      "Epoch 18/35\n",
      "\u001b[1m9/9\u001b[0m \u001b[32m━━━━━━━━━━━━━━━━━━━━\u001b[0m\u001b[37m\u001b[0m \u001b[1m57s\u001b[0m 7s/step - accuracy: 0.7850 - loss: 0.6255 - val_accuracy: 0.4444 - val_loss: 1.4964\n",
      "Epoch 19/35\n",
      "\u001b[1m9/9\u001b[0m \u001b[32m━━━━━━━━━━━━━━━━━━━━\u001b[0m\u001b[37m\u001b[0m \u001b[1m68s\u001b[0m 8s/step - accuracy: 0.7530 - loss: 0.7063 - val_accuracy: 0.4762 - val_loss: 1.5122\n",
      "Epoch 20/35\n",
      "\u001b[1m9/9\u001b[0m \u001b[32m━━━━━━━━━━━━━━━━━━━━\u001b[0m\u001b[37m\u001b[0m \u001b[1m67s\u001b[0m 7s/step - accuracy: 0.7770 - loss: 0.6215 - val_accuracy: 0.4921 - val_loss: 1.4800\n",
      "Epoch 21/35\n",
      "\u001b[1m9/9\u001b[0m \u001b[32m━━━━━━━━━━━━━━━━━━━━\u001b[0m\u001b[37m\u001b[0m \u001b[1m40s\u001b[0m 4s/step - accuracy: 0.7977 - loss: 0.6301 - val_accuracy: 0.5238 - val_loss: 1.4628\n",
      "Epoch 22/35\n",
      "\u001b[1m9/9\u001b[0m \u001b[32m━━━━━━━━━━━━━━━━━━━━\u001b[0m\u001b[37m\u001b[0m \u001b[1m70s\u001b[0m 8s/step - accuracy: 0.8099 - loss: 0.6724 - val_accuracy: 0.4603 - val_loss: 1.5375\n",
      "Epoch 23/35\n",
      "\u001b[1m9/9\u001b[0m \u001b[32m━━━━━━━━━━━━━━━━━━━━\u001b[0m\u001b[37m\u001b[0m \u001b[1m77s\u001b[0m 9s/step - accuracy: 0.8327 - loss: 0.6091 - val_accuracy: 0.4921 - val_loss: 1.4924\n",
      "Epoch 24/35\n",
      "\u001b[1m9/9\u001b[0m \u001b[32m━━━━━━━━━━━━━━━━━━━━\u001b[0m\u001b[37m\u001b[0m \u001b[1m75s\u001b[0m 8s/step - accuracy: 0.8327 - loss: 0.5648 - val_accuracy: 0.4921 - val_loss: 1.4783\n",
      "Epoch 25/35\n",
      "\u001b[1m9/9\u001b[0m \u001b[32m━━━━━━━━━━━━━━━━━━━━\u001b[0m\u001b[37m\u001b[0m \u001b[1m82s\u001b[0m 9s/step - accuracy: 0.8301 - loss: 0.5582 - val_accuracy: 0.4921 - val_loss: 1.4886\n",
      "Epoch 26/35\n",
      "\u001b[1m9/9\u001b[0m \u001b[32m━━━━━━━━━━━━━━━━━━━━\u001b[0m\u001b[37m\u001b[0m \u001b[1m83s\u001b[0m 9s/step - accuracy: 0.8710 - loss: 0.4876 - val_accuracy: 0.4762 - val_loss: 1.4869\n",
      "Epoch 27/35\n",
      "\u001b[1m9/9\u001b[0m \u001b[32m━━━━━━━━━━━━━━━━━━━━\u001b[0m\u001b[37m\u001b[0m \u001b[1m79s\u001b[0m 9s/step - accuracy: 0.7872 - loss: 0.5713 - val_accuracy: 0.5238 - val_loss: 1.4818\n",
      "Epoch 28/35\n",
      "\u001b[1m9/9\u001b[0m \u001b[32m━━━━━━━━━━━━━━━━━━━━\u001b[0m\u001b[37m\u001b[0m \u001b[1m73s\u001b[0m 8s/step - accuracy: 0.8660 - loss: 0.4781 - val_accuracy: 0.4921 - val_loss: 1.4845\n",
      "Epoch 29/35\n",
      "\u001b[1m9/9\u001b[0m \u001b[32m━━━━━━━━━━━━━━━━━━━━\u001b[0m\u001b[37m\u001b[0m \u001b[1m83s\u001b[0m 9s/step - accuracy: 0.8099 - loss: 0.5574 - val_accuracy: 0.4762 - val_loss: 1.5201\n",
      "Epoch 30/35\n",
      "\u001b[1m9/9\u001b[0m \u001b[32m━━━━━━━━━━━━━━━━━━━━\u001b[0m\u001b[37m\u001b[0m \u001b[1m85s\u001b[0m 10s/step - accuracy: 0.8438 - loss: 0.5405 - val_accuracy: 0.5238 - val_loss: 1.4836\n",
      "Epoch 31/35\n",
      "\u001b[1m9/9\u001b[0m \u001b[32m━━━━━━━━━━━━━━━━━━━━\u001b[0m\u001b[37m\u001b[0m \u001b[1m70s\u001b[0m 8s/step - accuracy: 0.8627 - loss: 0.4558 - val_accuracy: 0.5079 - val_loss: 1.5003\n",
      "Epoch 32/35\n",
      "\u001b[1m9/9\u001b[0m \u001b[32m━━━━━━━━━━━━━━━━━━━━\u001b[0m\u001b[37m\u001b[0m \u001b[1m68s\u001b[0m 8s/step - accuracy: 0.8714 - loss: 0.4509 - val_accuracy: 0.4921 - val_loss: 1.5089\n",
      "Epoch 33/35\n",
      "\u001b[1m9/9\u001b[0m \u001b[32m━━━━━━━━━━━━━━━━━━━━\u001b[0m\u001b[37m\u001b[0m \u001b[1m63s\u001b[0m 7s/step - accuracy: 0.8750 - loss: 0.4725 - val_accuracy: 0.4762 - val_loss: 1.4835\n",
      "Epoch 34/35\n",
      "\u001b[1m9/9\u001b[0m \u001b[32m━━━━━━━━━━━━━━━━━━━━\u001b[0m\u001b[37m\u001b[0m \u001b[1m68s\u001b[0m 8s/step - accuracy: 0.8147 - loss: 0.5116 - val_accuracy: 0.5079 - val_loss: 1.4946\n",
      "Epoch 35/35\n",
      "\u001b[1m9/9\u001b[0m \u001b[32m━━━━━━━━━━━━━━━━━━━━\u001b[0m\u001b[37m\u001b[0m \u001b[1m76s\u001b[0m 9s/step - accuracy: 0.8989 - loss: 0.3852 - val_accuracy: 0.4921 - val_loss: 1.5335\n"
     ]
    }
   ],
   "source": [
    "# Train the model\n",
    "history = model.fit(\n",
    "    X_train_preprocessed, y_train,\n",
    "    validation_data=(X_val_preprocessed, y_val),\n",
    "    epochs=35,\n",
    "    batch_size=BATCH_SIZE\n",
    ")"
   ]
  },
  {
   "cell_type": "code",
   "execution_count": 22,
   "id": "7c07077a",
   "metadata": {},
   "outputs": [
    {
     "name": "stdout",
     "output_type": "stream",
     "text": [
      "Epoch 36/45\n",
      "\u001b[1m9/9\u001b[0m \u001b[32m━━━━━━━━━━━━━━━━━━━━\u001b[0m\u001b[37m\u001b[0m \u001b[1m73s\u001b[0m 8s/step - accuracy: 0.9017 - loss: 0.3901 - val_accuracy: 0.4921 - val_loss: 1.5078\n",
      "Epoch 37/45\n",
      "\u001b[1m9/9\u001b[0m \u001b[32m━━━━━━━━━━━━━━━━━━━━\u001b[0m\u001b[37m\u001b[0m \u001b[1m45s\u001b[0m 5s/step - accuracy: 0.8858 - loss: 0.3964 - val_accuracy: 0.4921 - val_loss: 1.5202\n",
      "Epoch 38/45\n",
      "\u001b[1m9/9\u001b[0m \u001b[32m━━━━━━━━━━━━━━━━━━━━\u001b[0m\u001b[37m\u001b[0m \u001b[1m39s\u001b[0m 4s/step - accuracy: 0.8630 - loss: 0.4061 - val_accuracy: 0.4921 - val_loss: 1.5189\n",
      "Epoch 39/45\n",
      "\u001b[1m9/9\u001b[0m \u001b[32m━━━━━━━━━━━━━━━━━━━━\u001b[0m\u001b[37m\u001b[0m \u001b[1m43s\u001b[0m 5s/step - accuracy: 0.8724 - loss: 0.4221 - val_accuracy: 0.5079 - val_loss: 1.5080\n",
      "Epoch 40/45\n",
      "\u001b[1m9/9\u001b[0m \u001b[32m━━━━━━━━━━━━━━━━━━━━\u001b[0m\u001b[37m\u001b[0m \u001b[1m41s\u001b[0m 4s/step - accuracy: 0.9176 - loss: 0.3416 - val_accuracy: 0.5079 - val_loss: 1.5047\n",
      "Epoch 41/45\n",
      "\u001b[1m9/9\u001b[0m \u001b[32m━━━━━━━━━━━━━━━━━━━━\u001b[0m\u001b[37m\u001b[0m \u001b[1m35s\u001b[0m 4s/step - accuracy: 0.8962 - loss: 0.3484 - val_accuracy: 0.5079 - val_loss: 1.5363\n",
      "Epoch 42/45\n",
      "\u001b[1m9/9\u001b[0m \u001b[32m━━━━━━━━━━━━━━━━━━━━\u001b[0m\u001b[37m\u001b[0m \u001b[1m35s\u001b[0m 4s/step - accuracy: 0.8900 - loss: 0.4225 - val_accuracy: 0.4762 - val_loss: 1.5594\n",
      "Epoch 43/45\n",
      "\u001b[1m9/9\u001b[0m \u001b[32m━━━━━━━━━━━━━━━━━━━━\u001b[0m\u001b[37m\u001b[0m \u001b[1m40s\u001b[0m 5s/step - accuracy: 0.8847 - loss: 0.3973 - val_accuracy: 0.5079 - val_loss: 1.5402\n",
      "Epoch 44/45\n",
      "\u001b[1m9/9\u001b[0m \u001b[32m━━━━━━━━━━━━━━━━━━━━\u001b[0m\u001b[37m\u001b[0m \u001b[1m42s\u001b[0m 5s/step - accuracy: 0.9376 - loss: 0.3505 - val_accuracy: 0.5079 - val_loss: 1.5314\n",
      "Epoch 45/45\n",
      "\u001b[1m9/9\u001b[0m \u001b[32m━━━━━━━━━━━━━━━━━━━━\u001b[0m\u001b[37m\u001b[0m \u001b[1m36s\u001b[0m 4s/step - accuracy: 0.8686 - loss: 0.4047 - val_accuracy: 0.4921 - val_loss: 1.5663\n"
     ]
    }
   ],
   "source": [
    "# Continue training the model with additional epochs\n",
    "additional_epochs = 10  # Define how many additional epochs you want\n",
    "\n",
    "history = model.fit(\n",
    "    X_train_preprocessed, y_train,\n",
    "    validation_data=(X_val_preprocessed, y_val),\n",
    "    epochs=additional_epochs + 35,  # Total epochs = original 35 + additional\n",
    "    batch_size=BATCH_SIZE,\n",
    "    initial_epoch=35  # Start from epoch 35\n",
    ")"
   ]
  },
  {
   "cell_type": "code",
   "execution_count": 23,
   "id": "16f79723",
   "metadata": {},
   "outputs": [
    {
     "name": "stdout",
     "output_type": "stream",
     "text": [
      "Epoch 46/55\n",
      "\u001b[1m9/9\u001b[0m \u001b[32m━━━━━━━━━━━━━━━━━━━━\u001b[0m\u001b[37m\u001b[0m \u001b[1m40s\u001b[0m 5s/step - accuracy: 0.9196 - loss: 0.3436 - val_accuracy: 0.5079 - val_loss: 1.5478\n",
      "Epoch 47/55\n",
      "\u001b[1m9/9\u001b[0m \u001b[32m━━━━━━━━━━━━━━━━━━━━\u001b[0m\u001b[37m\u001b[0m \u001b[1m36s\u001b[0m 4s/step - accuracy: 0.9125 - loss: 0.3653 - val_accuracy: 0.5079 - val_loss: 1.5463\n",
      "Epoch 48/55\n",
      "\u001b[1m9/9\u001b[0m \u001b[32m━━━━━━━━━━━━━━━━━━━━\u001b[0m\u001b[37m\u001b[0m \u001b[1m40s\u001b[0m 5s/step - accuracy: 0.8892 - loss: 0.3343 - val_accuracy: 0.5238 - val_loss: 1.5586\n",
      "Epoch 49/55\n",
      "\u001b[1m9/9\u001b[0m \u001b[32m━━━━━━━━━━━━━━━━━━━━\u001b[0m\u001b[37m\u001b[0m \u001b[1m37s\u001b[0m 4s/step - accuracy: 0.9072 - loss: 0.3726 - val_accuracy: 0.5238 - val_loss: 1.5762\n",
      "Epoch 50/55\n",
      "\u001b[1m9/9\u001b[0m \u001b[32m━━━━━━━━━━━━━━━━━━━━\u001b[0m\u001b[37m\u001b[0m \u001b[1m41s\u001b[0m 5s/step - accuracy: 0.9123 - loss: 0.3017 - val_accuracy: 0.4762 - val_loss: 1.5551\n",
      "Epoch 51/55\n",
      "\u001b[1m9/9\u001b[0m \u001b[32m━━━━━━━━━━━━━━━━━━━━\u001b[0m\u001b[37m\u001b[0m \u001b[1m37s\u001b[0m 4s/step - accuracy: 0.8870 - loss: 0.3427 - val_accuracy: 0.4921 - val_loss: 1.5782\n",
      "Epoch 52/55\n",
      "\u001b[1m9/9\u001b[0m \u001b[32m━━━━━━━━━━━━━━━━━━━━\u001b[0m\u001b[37m\u001b[0m \u001b[1m37s\u001b[0m 4s/step - accuracy: 0.9179 - loss: 0.3051 - val_accuracy: 0.4921 - val_loss: 1.5950\n",
      "Epoch 53/55\n",
      "\u001b[1m9/9\u001b[0m \u001b[32m━━━━━━━━━━━━━━━━━━━━\u001b[0m\u001b[37m\u001b[0m \u001b[1m40s\u001b[0m 5s/step - accuracy: 0.8954 - loss: 0.3366 - val_accuracy: 0.5079 - val_loss: 1.5858\n",
      "Epoch 54/55\n",
      "\u001b[1m9/9\u001b[0m \u001b[32m━━━━━━━━━━━━━━━━━━━━\u001b[0m\u001b[37m\u001b[0m \u001b[1m40s\u001b[0m 5s/step - accuracy: 0.9325 - loss: 0.3051 - val_accuracy: 0.4921 - val_loss: 1.5671\n",
      "Epoch 55/55\n",
      "\u001b[1m9/9\u001b[0m \u001b[32m━━━━━━━━━━━━━━━━━━━━\u001b[0m\u001b[37m\u001b[0m \u001b[1m40s\u001b[0m 4s/step - accuracy: 0.9205 - loss: 0.3048 - val_accuracy: 0.4921 - val_loss: 1.5755\n"
     ]
    }
   ],
   "source": [
    "# Continue training the model with additional epochs\n",
    "additional_epochs = 10  # Define how many additional epochs you want\n",
    "\n",
    "history = model.fit(\n",
    "    X_train_preprocessed, y_train,\n",
    "    validation_data=(X_val_preprocessed, y_val),\n",
    "    epochs=additional_epochs + 45,  # Total epochs = original 35 + additional\n",
    "    batch_size=BATCH_SIZE,\n",
    "    initial_epoch=45  # Start from epoch 35\n",
    ")"
   ]
  },
  {
   "cell_type": "code",
   "execution_count": 24,
   "id": "b176c7f9",
   "metadata": {
    "scrolled": true
   },
   "outputs": [
    {
     "name": "stdout",
     "output_type": "stream",
     "text": [
      "Epoch 56/65\n",
      "\u001b[1m9/9\u001b[0m \u001b[32m━━━━━━━━━━━━━━━━━━━━\u001b[0m\u001b[37m\u001b[0m \u001b[1m41s\u001b[0m 5s/step - accuracy: 0.9241 - loss: 0.3006 - val_accuracy: 0.4921 - val_loss: 1.5717\n",
      "Epoch 57/65\n",
      "\u001b[1m9/9\u001b[0m \u001b[32m━━━━━━━━━━━━━━━━━━━━\u001b[0m\u001b[37m\u001b[0m \u001b[1m43s\u001b[0m 5s/step - accuracy: 0.9308 - loss: 0.2687 - val_accuracy: 0.5079 - val_loss: 1.5873\n",
      "Epoch 58/65\n",
      "\u001b[1m9/9\u001b[0m \u001b[32m━━━━━━━━━━━━━━━━━━━━\u001b[0m\u001b[37m\u001b[0m \u001b[1m43s\u001b[0m 5s/step - accuracy: 0.9157 - loss: 0.3134 - val_accuracy: 0.5238 - val_loss: 1.5609\n",
      "Epoch 59/65\n",
      "\u001b[1m9/9\u001b[0m \u001b[32m━━━━━━━━━━━━━━━━━━━━\u001b[0m\u001b[37m\u001b[0m \u001b[1m38s\u001b[0m 4s/step - accuracy: 0.8987 - loss: 0.3346 - val_accuracy: 0.4921 - val_loss: 1.6457\n",
      "Epoch 60/65\n",
      "\u001b[1m9/9\u001b[0m \u001b[32m━━━━━━━━━━━━━━━━━━━━\u001b[0m\u001b[37m\u001b[0m \u001b[1m40s\u001b[0m 5s/step - accuracy: 0.9137 - loss: 0.3298 - val_accuracy: 0.5079 - val_loss: 1.6000\n",
      "Epoch 61/65\n",
      "\u001b[1m9/9\u001b[0m \u001b[32m━━━━━━━━━━━━━━━━━━━━\u001b[0m\u001b[37m\u001b[0m \u001b[1m39s\u001b[0m 4s/step - accuracy: 0.9325 - loss: 0.3094 - val_accuracy: 0.5238 - val_loss: 1.5812\n",
      "Epoch 62/65\n",
      "\u001b[1m9/9\u001b[0m \u001b[32m━━━━━━━━━━━━━━━━━━━━\u001b[0m\u001b[37m\u001b[0m \u001b[1m38s\u001b[0m 4s/step - accuracy: 0.8862 - loss: 0.3281 - val_accuracy: 0.4921 - val_loss: 1.6285\n",
      "Epoch 63/65\n",
      "\u001b[1m9/9\u001b[0m \u001b[32m━━━━━━━━━━━━━━━━━━━━\u001b[0m\u001b[37m\u001b[0m \u001b[1m41s\u001b[0m 5s/step - accuracy: 0.9462 - loss: 0.2522 - val_accuracy: 0.4762 - val_loss: 1.6642\n",
      "Epoch 64/65\n",
      "\u001b[1m9/9\u001b[0m \u001b[32m━━━━━━━━━━━━━━━━━━━━\u001b[0m\u001b[37m\u001b[0m \u001b[1m35s\u001b[0m 4s/step - accuracy: 0.9158 - loss: 0.2783 - val_accuracy: 0.5079 - val_loss: 1.5999\n",
      "Epoch 65/65\n",
      "\u001b[1m9/9\u001b[0m \u001b[32m━━━━━━━━━━━━━━━━━━━━\u001b[0m\u001b[37m\u001b[0m \u001b[1m35s\u001b[0m 4s/step - accuracy: 0.8882 - loss: 0.3343 - val_accuracy: 0.4762 - val_loss: 1.6513\n"
     ]
    }
   ],
   "source": [
    "# Continue training the model with additional epochs\n",
    "additional_epochs = 10  # Define how many additional epochs you want\n",
    "\n",
    "history = model.fit(\n",
    "    X_train_preprocessed, y_train,\n",
    "    validation_data=(X_val_preprocessed, y_val),\n",
    "    epochs=additional_epochs + 55,  # Total epochs = original 35 + additional\n",
    "    batch_size=BATCH_SIZE,\n",
    "    initial_epoch=55  # Start from epoch 35\n",
    ")"
   ]
  },
  {
   "cell_type": "code",
   "execution_count": 25,
   "id": "3e4c4be4",
   "metadata": {},
   "outputs": [
    {
     "name": "stdout",
     "output_type": "stream",
     "text": [
      "\u001b[1m2/2\u001b[0m \u001b[32m━━━━━━━━━━━━━━━━━━━━\u001b[0m\u001b[37m\u001b[0m \u001b[1m7s\u001b[0m 3s/step - accuracy: 0.7047 - loss: 0.8142\n",
      "Test Accuracy: 0.65\n"
     ]
    },
    {
     "name": "stderr",
     "output_type": "stream",
     "text": [
      "C:\\Users\\DELL\\Desktop\\PFETesting\\paper1\\Lib\\site-packages\\keras\\src\\models\\functional.py:237: UserWarning: The structure of `inputs` doesn't match the expected structure.\n",
      "Expected: ['keras_tensor']\n",
      "Received: inputs=Tensor(shape=(32, 224, 224, 3))\n",
      "  warnings.warn(msg)\n"
     ]
    },
    {
     "name": "stdout",
     "output_type": "stream",
     "text": [
      "\u001b[1m2/2\u001b[0m \u001b[32m━━━━━━━━━━━━━━━━━━━━\u001b[0m\u001b[37m\u001b[0m \u001b[1m17s\u001b[0m 8s/step\n",
      "              precision    recall  f1-score   support\n",
      "\n",
      "           0       0.60      1.00      0.75         9\n",
      "           1       0.73      0.89      0.80         9\n",
      "           2       0.44      0.44      0.44         9\n",
      "           3       0.88      0.78      0.82         9\n",
      "           4       0.60      0.33      0.43         9\n",
      "           5       0.62      0.56      0.59         9\n",
      "           6       0.71      0.56      0.62         9\n",
      "\n",
      "    accuracy                           0.65        63\n",
      "   macro avg       0.66      0.65      0.64        63\n",
      "weighted avg       0.66      0.65      0.64        63\n",
      "\n"
     ]
    },
    {
     "data": {
      "image/png": "[encoded data removed]",
      "text/plain": [
       "<Figure size 1000x800 with 2 Axes>"
      ]
     },
     "metadata": {},
     "output_type": "display_data"
    }
   ],
   "source": [
    "# Evaluate the model on the test set\n",
    "test_loss, test_accuracy = model.evaluate(X_test_preprocessed, y_test, verbose=1)\n",
    "print(f\"Test Accuracy: {test_accuracy:.2f}\")\n",
    "\n",
    "# Classification report and confusion matrix\n",
    "y_pred = model.predict(X_test_preprocessed)\n",
    "y_pred_classes = np.argmax(y_pred, axis=1)\n",
    "y_true = np.argmax(y_test, axis=1)\n",
    "\n",
    "print(classification_report(y_true, y_pred_classes))\n",
    "conf_matrix = confusion_matrix(y_true, y_pred_classes)\n",
    "\n",
    "# Plot the confusion matrix\n",
    "plt.figure(figsize=(10, 8))\n",
    "sns.heatmap(conf_matrix, annot=True, fmt=\"d\", cmap=\"Blues\", xticklabels=range(NUM_CLASSES), yticklabels=range(NUM_CLASSES))\n",
    "plt.xlabel(\"Predicted\")\n",
    "plt.ylabel(\"True\")\n",
    "plt.title(\"Confusion Matrix\")\n",
    "plt.show()"
   ]
  },
  {
   "cell_type": "code",
   "execution_count": null,
   "id": "5d1ef81b",
   "metadata": {},
   "outputs": [],
   "source": []
  }
 ],
 "metadata": {
  "kernelspec": {
   "display_name": "amiratest1",
   "language": "python",
   "name": "amiratest1"
  },
  "language_info": {
   "codemirror_mode": {
    "name": "ipython",
    "version": 3
   },
   "file_extension": ".py",
   "mimetype": "text/x-python",
   "name": "python",
   "nbconvert_exporter": "python",
   "pygments_lexer": "ipython3",
   "version": "3.11.8"
  }
 },
 "nbformat": 4,
 "nbformat_minor": 5
}
