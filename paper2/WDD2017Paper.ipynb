{
 "cells": [
  {
   "cell_type": "code",
   "execution_count": 1,
   "id": "8c698a54",
   "metadata": {},
   "outputs": [
    {
     "name": "stdout",
     "output_type": "stream",
     "text": [
      "done\n"
     ]
    }
   ],
   "source": [
    "import tensorflow as tf \n",
    "print(\"done\")"
   ]
  },
  {
   "cell_type": "code",
   "execution_count": 5,
   "id": "5fd458b6",
   "metadata": {},
   "outputs": [],
   "source": [
    "import numpy as np\n",
    "import matplotlib.pyplot as plt\n",
    "import tensorflow as tf\n",
    "from tensorflow.keras import layers, models, optimizers\n",
    "import os\n",
    "import cv2\n",
    "from sklearn.model_selection import train_test_split\n"
   ]
  },
  {
   "cell_type": "code",
   "execution_count": 13,
   "id": "ea42977a",
   "metadata": {},
   "outputs": [
    {
     "name": "stdout",
     "output_type": "stream",
     "text": [
      "Skipping GIF file: C:\\Users\\DELL\\Desktop\\Datasets\\ForClassification\\wdd2017\\Training\\Loose_Smut\\3181.gif\n",
      "Skipping GIF file: C:\\Users\\DELL\\Desktop\\Datasets\\ForClassification\\wdd2017\\Training\\Loose_Smut\\3191.gif\n",
      "Skipping GIF file: C:\\Users\\DELL\\Desktop\\Datasets\\ForClassification\\wdd2017\\Training\\Loose_Smut\\3271.gif\n",
      "Skipping GIF file: C:\\Users\\DELL\\Desktop\\Datasets\\ForClassification\\wdd2017\\Training\\Loose_Smut\\6261.gif\n",
      "Skipping GIF file: C:\\Users\\DELL\\Desktop\\Datasets\\ForClassification\\wdd2017\\Training\\Loose_Smut\\6271.gif\n",
      "Skipping GIF file: C:\\Users\\DELL\\Desktop\\Datasets\\ForClassification\\wdd2017\\Training\\Loose_Smut\\6351.gif\n",
      "Skipping GIF file: C:\\Users\\DELL\\Desktop\\Datasets\\ForClassification\\wdd2017\\Testing\\Loose_Smut\\0121.gif\n",
      "Skipping GIF file: C:\\Users\\DELL\\Desktop\\Datasets\\ForClassification\\wdd2017\\Testing\\Loose_Smut\\0131.gif\n",
      "Skipping GIF file: C:\\Users\\DELL\\Desktop\\Datasets\\ForClassification\\wdd2017\\Testing\\Loose_Smut\\0191.gif\n"
     ]
    }
   ],
   "source": [
    "# Function to load and preprocess data\n",
    "def load_data(data_dir, img_size=(224, 224)):\n",
    "    labels = []\n",
    "    images = []\n",
    "    classes = sorted(os.listdir(data_dir))  # Ensure consistent label order\n",
    "    \n",
    "    for label, disease in enumerate(classes):\n",
    "        disease_dir = os.path.join(data_dir, disease)\n",
    "        \n",
    "        # Check if it's a directory\n",
    "        if not os.path.isdir(disease_dir):\n",
    "            continue\n",
    "        \n",
    "        for img_name in os.listdir(disease_dir):\n",
    "            img_path = os.path.join(disease_dir, img_name)\n",
    "            \n",
    "            # Skip GIFs or unreadable files\n",
    "            if img_name.lower().endswith('.gif'):\n",
    "                print(f\"Skipping GIF file: {img_path}\")\n",
    "                continue\n",
    "\n",
    "            img = cv2.imread(img_path)\n",
    "            \n",
    "            # Handle unreadable images\n",
    "            if img is None:\n",
    "                print(f\"Warning: Unable to load image at {img_path}\")\n",
    "                continue\n",
    "            \n",
    "            img = cv2.resize(img, img_size)\n",
    "            images.append(img)\n",
    "            labels.append(label)\n",
    "    \n",
    "    return np.array(images), np.array(labels)\n",
    "\n",
    "# Set dataset path\n",
    "data_dir = r\"C:\\Users\\DELL\\Desktop\\Datasets\\ForClassification\\wdd2017\"\n",
    "\n",
    "# Load data\n",
    "train_images, train_labels = load_data(os.path.join(data_dir, \"Training\"))\n",
    "test_images, test_labels = load_data(os.path.join(data_dir, \"Testing\"))\n",
    "validation_images, validation_labels = load_data(os.path.join(data_dir, \"Validation\"))\n",
    "\n",
    "# Normalize image data\n",
    "train_images = train_images / 255.0\n",
    "test_images = test_images / 255.0\n",
    "validation_images = validation_images / 255.0\n"
   ]
  },
  {
   "cell_type": "code",
   "execution_count": 21,
   "id": "ba14daef",
   "metadata": {},
   "outputs": [],
   "source": [
    "# Convert labels to categorical for multi-class classification\n",
    "from tensorflow.keras.utils import to_categorical\n",
    "from tensorflow.keras.applications import VGG16\n",
    "from tensorflow.keras.preprocessing.image import ImageDataGenerator\n",
    "from sklearn.metrics import classification_report, confusion_matrix\n",
    "import seaborn as sns\n",
    "\n",
    "# Ensure labels are integers before one-hot encoding\n",
    "train_labels = np.array([np.argmax(label) if label.ndim > 1 else label for label in train_labels])\n",
    "test_labels = np.array([np.argmax(label) if label.ndim > 1 else label for label in test_labels])\n",
    "validation_labels = np.array([np.argmax(label) if label.ndim > 1 else label for label in validation_labels])\n",
    "\n",
    "# Convert labels to categorical for multi-class classification\n",
    "num_classes = len(np.unique(train_labels))\n",
    "train_labels = to_categorical(train_labels, num_classes)\n",
    "test_labels = to_categorical(test_labels, num_classes)\n",
    "validation_labels = to_categorical(validation_labels, num_classes)\n",
    "\n",
    "# Build the model using VGG16 for transfer learning\n",
    "base_model = VGG16(weights='imagenet', include_top=False, input_shape=(224, 224, 3))\n",
    "base_model.trainable = False  # Freeze base model layers"
   ]
  },
  {
   "cell_type": "code",
   "execution_count": null,
   "id": "e7133432",
   "metadata": {},
   "outputs": [],
   "source": []
  },
  {
   "cell_type": "code",
   "execution_count": 22,
   "id": "b6f64a0a",
   "metadata": {},
   "outputs": [],
   "source": [
    "# Define custom classification model\n",
    "model = models.Sequential([\n",
    "    base_model,\n",
    "    layers.Flatten(),\n",
    "    layers.Dense(256, activation='relu'),\n",
    "    layers.BatchNormalization(),\n",
    "    layers.Dropout(0.5),\n",
    "    layers.Dense(128, activation='relu'),\n",
    "    layers.BatchNormalization(),\n",
    "    layers.Dropout(0.5),\n",
    "    layers.Dense(num_classes, activation='softmax')\n",
    "])"
   ]
  },
  {
   "cell_type": "code",
   "execution_count": 23,
   "id": "2f1bf85a",
   "metadata": {},
   "outputs": [],
   "source": [
    "# Compile the model\n",
    "model.compile(optimizer=optimizers.Adam(learning_rate=1e-4),\n",
    "              loss='categorical_crossentropy',\n",
    "              metrics=['accuracy'])"
   ]
  },
  {
   "cell_type": "code",
   "execution_count": null,
   "id": "62f82516",
   "metadata": {},
   "outputs": [
    {
     "name": "stdout",
     "output_type": "stream",
     "text": [
      "Epoch 1/30\n",
      "\u001b[1m  6/121\u001b[0m \u001b[37m━━━━━━━━━━━━━━━━━━━━\u001b[0m \u001b[1m28:04\u001b[0m 15s/step - accuracy: 0.5451 - loss: 1.1071"
     ]
    }
   ],
   "source": [
    "# Data augmentation for improved generalization\n",
    "datagen = ImageDataGenerator(\n",
    "    rotation_range=20,\n",
    "    width_shift_range=0.2,\n",
    "    height_shift_range=0.2,\n",
    "    shear_range=0.15,\n",
    "    zoom_range=0.2,\n",
    "    horizontal_flip=True\n",
    ")\n",
    "datagen.fit(train_images)\n",
    "\n",
    "# Train the model\n",
    "history = model.fit(\n",
    "    datagen.flow(train_images, train_labels, batch_size=32),\n",
    "    epochs=30,\n",
    "    validation_data=(validation_images, validation_labels)\n",
    ")"
   ]
  },
  {
   "cell_type": "code",
   "execution_count": 12,
   "id": "24bd0f8b",
   "metadata": {},
   "outputs": [
    {
     "name": "stdout",
     "output_type": "stream",
     "text": [
      "\u001b[1m23/23\u001b[0m \u001b[32m━━━━━━━━━━━━━━━━━━━━\u001b[0m\u001b[37m\u001b[0m \u001b[1m19s\u001b[0m 812ms/step - accuracy: 0.5327 - loss: 3.6061\n",
      "Test Accuracy: 51.84%\n"
     ]
    },
    {
     "data": {
      "image/png": "[encoded data removed]",
      "text/plain": [
       "<Figure size 640x480 with 1 Axes>"
      ]
     },
     "metadata": {},
     "output_type": "display_data"
    }
   ],
   "source": [
    "# Evaluate the model on test data\n",
    "test_loss, test_acc = model.evaluate(test_images, test_labels)\n",
    "print(f\"Test Accuracy: {test_acc * 100:.2f}%\")\n",
    "\n",
    "# Plot accuracy and loss curves\n",
    "plt.figure(figsize=(12, 6))\n",
    "plt.subplot(1, 2, 1)\n",
    "plt.plot(history.history['accuracy'], label='Training Accuracy')\n",
    "plt.plot(history.history['val_accuracy'], label='Validation Accuracy')\n",
    "plt.title('Accuracy over Epochs')\n",
    "plt.xlabel('Epochs')\n",
    "plt.ylabel('Accuracy')\n",
    "plt.legend()\n",
    "\n",
    "plt.subplot(1, 2, 2)\n",
    "plt.plot(history.history['loss'], label='Training Loss')\n",
    "plt.plot(history.history['val_loss'], label='Validation Loss')\n",
    "plt.title('Loss over Epochs')\n",
    "plt.xlabel('Epochs')\n",
    "plt.ylabel('Loss')\n",
    "plt.legend()\n",
    "plt.show()\n",
    "\n",
    "# Classification report and confusion matrix\n",
    "y_pred = model.predict(test_images)\n",
    "y_pred_classes = np.argmax(y_pred, axis=1)\n",
    "y_true_classes = np.argmax(test_labels, axis=1)\n",
    "\n",
    "conf_matrix = confusion_matrix(y_true_classes, y_pred_classes)\n",
    "plt.figure(figsize=(10, 8))\n",
    "sns.heatmap(conf_matrix, annot=True, fmt='d', cmap='Blues',\n",
    "            xticklabels=sorted(os.listdir(os.path.join(data_dir, \"Training\"))),\n",
    "            yticklabels=sorted(os.listdir(os.path.join(data_dir, \"Training\"))))\n",
    "plt.title('Confusion Matrix')\n",
    "plt.xlabel('Predicted Labels')\n",
    "plt.ylabel('True Labels')\n",
    "plt.show()\n",
    "\n",
    "print(\"Classification Report:\")\n",
    "print(classification_report(y_true_classes, y_pred_classes))"
   ]
  },
  {
   "cell_type": "code",
   "execution_count": null,
   "id": "f2694a22",
   "metadata": {},
   "outputs": [],
   "source": []
  },
  {
   "cell_type": "code",
   "execution_count": null,
   "id": "d24647df",
   "metadata": {},
   "outputs": [],
   "source": []
  }
 ],
 "metadata": {
  "kernelspec": {
   "display_name": "amiratest1",
   "language": "python",
   "name": "amiratest1"
  },
  "language_info": {
   "codemirror_mode": {
    "name": "ipython",
    "version": 3
   },
   "file_extension": ".py",
   "mimetype": "text/x-python",
   "name": "python",
   "nbconvert_exporter": "python",
   "pygments_lexer": "ipython3",
   "version": "3.11.8"
  }
 },
 "nbformat": 4,
 "nbformat_minor": 5
}
