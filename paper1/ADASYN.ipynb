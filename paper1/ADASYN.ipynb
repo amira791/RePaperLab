{
 "cells": [
  {
   "cell_type": "code",
   "execution_count": 1,
   "id": "ad309189-ac6b-4be6-b09b-e82fc98f8aa7",
   "metadata": {},
   "outputs": [],
   "source": [
    "from imblearn.over_sampling import ADASYN\n",
    "from tensorflow.keras.applications import Xception\n",
    "from tensorflow.keras.preprocessing.image import ImageDataGenerator\n",
    "from tensorflow.keras import layers, models\n",
    "from sklearn.model_selection import train_test_split\n",
    "from sklearn.preprocessing import LabelBinarizer\n",
    "import numpy as np\n",
    "import cv2\n",
    "import os\n",
    "from collections import Counter\n"
   ]
  },
  {
   "cell_type": "code",
   "execution_count": 2,
   "id": "23a389bd-849c-449d-a1d3-6266939beeb6",
   "metadata": {},
   "outputs": [],
   "source": [
    "# Chargement de la dataset\n",
    "def load_images_and_labels(dataset_path, img_size=(224, 224)):\n",
    "    images, labels = [], []\n",
    "    for label_dir in os.listdir(dataset_path):\n",
    "        for img_file in os.listdir(os.path.join(dataset_path, label_dir)):\n",
    "            img_path = os.path.join(dataset_path, label_dir, img_file)\n",
    "            image = cv2.imread(img_path)\n",
    "            image = cv2.resize(image, img_size)\n",
    "            images.append(image)\n",
    "            labels.append(label_dir)\n",
    "    return np.array(images), np.array(labels)\n"
   ]
  },
  {
   "cell_type": "code",
   "execution_count": 3,
   "id": "3a84c48f-5c9f-47d7-8712-4b8d2355a184",
   "metadata": {},
   "outputs": [],
   "source": [
    "images, labels = load_images_and_labels(\"./wheat_leaf\")\n",
    "images = images / 255.0  # Normalisation des images\n",
    "\n"
   ]
  },
  {
   "cell_type": "code",
   "execution_count": 4,
   "id": "c4aecf4b-5872-42ae-a83f-fa42ed010bb8",
   "metadata": {},
   "outputs": [],
   "source": [
    "# Encodage des étiquettes\n",
    "lb = LabelBinarizer()\n",
    "labels = lb.fit_transform(labels)  # Si 'labels' sont déjà sous forme d'indices, sinon vous pouvez utiliser 'to_categorical' pour les encoder.\n",
    "\n"
   ]
  },
  {
   "cell_type": "code",
   "execution_count": 5,
   "id": "ca2d6936-cffc-40a9-8113-bcc4b1aa5b62",
   "metadata": {},
   "outputs": [],
   "source": [
    "# Division en ensembles train, validation et test\n",
    "X_train, X_temp, y_train, y_temp = train_test_split(images, labels, test_size=0.3, random_state=42)\n",
    "X_valid, X_test, y_valid, y_test = train_test_split(X_temp, y_temp, test_size=0.5, random_state=42)"
   ]
  },
  {
   "cell_type": "code",
   "execution_count": 6,
   "id": "969ddb6c-8f43-4252-a452-8fd342e198d6",
   "metadata": {},
   "outputs": [
    {
     "name": "stdout",
     "output_type": "stream",
     "text": [
      "Forme de y_train : (284, 3)\n"
     ]
    }
   ],
   "source": [
    "# Vérification de la forme des étiquettes\n",
    "print(\"Forme de y_train :\", y_train.shape)\n",
    "\n"
   ]
  },
  {
   "cell_type": "code",
   "execution_count": 7,
   "id": "7cd087ca-3944-4b52-a3f7-f43bd860c9b0",
   "metadata": {},
   "outputs": [
    {
     "name": "stdout",
     "output_type": "stream",
     "text": [
      "Distribution des classes dans le training set : Counter({2: 150, 1: 70, 0: 64})\n"
     ]
    }
   ],
   "source": [
    "# Vérification de la distribution des classes dans le training set\n",
    "class_distribution = Counter(np.argmax(y_train, axis=1))  # Si y_train est en one-hot, il faut prendre l'argmax pour avoir les classes\n",
    "print(\"Distribution des classes dans le training set :\", class_distribution)\n",
    "\n"
   ]
  },
  {
   "cell_type": "code",
   "execution_count": 8,
   "id": "161674c4-1b81-451b-9d6a-0f4db0bb92d8",
   "metadata": {},
   "outputs": [],
   "source": [
    "# Application d'ADASYN pour équilibrer les classes\n",
    "X_train_flattened = X_train.reshape(X_train.shape[0], -1)  # Aplatir les données pour ADASYN\n",
    "adasyn = ADASYN(random_state=42, n_neighbors=5)\n",
    "X_augmented, y_augmented = adasyn.fit_resample(X_train_flattened, np.argmax(y_train, axis=1))  # Utilisation de l'argmax pour y_train\n",
    "\n"
   ]
  },
  {
   "cell_type": "code",
   "execution_count": 9,
   "id": "f3ebcedc-726e-4dfd-8113-e70da15ec6ba",
   "metadata": {},
   "outputs": [],
   "source": [
    "# Reshape des données augmentées\n",
    "X_augmented = X_augmented.reshape(-1, 224, 224, 3)\n",
    "\n"
   ]
  },
  {
   "cell_type": "code",
   "execution_count": 10,
   "id": "e81b3325-bf72-4bad-be8c-988aecd0a415",
   "metadata": {},
   "outputs": [
    {
     "name": "stdout",
     "output_type": "stream",
     "text": [
      "Shape of X_augmented_train: (730, 224, 224, 3)\n",
      "Shape of y_augmented_train: (730, 3)\n",
      "Taille de l'ensemble entraînement augmenté : (730, 224, 224, 3) (730, 3)\n"
     ]
    }
   ],
   "source": [
    "from keras.utils import to_categorical\n",
    "\n",
    "# Convertir y_augmented en one-hot encoding pour correspondre à y_train\n",
    "y_augmented_one_hot = to_categorical(y_augmented, num_classes=3)\n",
    "\n",
    "# Fusionner les étiquettes (y)\n",
    "y_augmented_train = np.concatenate((y_train, y_augmented_one_hot))\n",
    "\n",
    "# Fusionner les données (X)\n",
    "X_augmented_train = np.vstack((X_train, X_augmented))\n",
    "\n",
    "print(\"Shape of X_augmented_train:\", X_augmented_train.shape)\n",
    "print(\"Shape of y_augmented_train:\", y_augmented_train.shape)\n",
    "\n",
    "# Vérification après fusion\n",
    "print(\"Taille de l'ensemble entraînement augmenté :\", X_augmented_train.shape, y_augmented_train.shape)\n",
    "\n"
   ]
  },
  {
   "cell_type": "markdown",
   "id": "d8ed4a86-ade1-4401-9c8f-d24078f56dc5",
   "metadata": {},
   "source": [
    "### ___________________________________ Xception _______________________________________________"
   ]
  },
  {
   "cell_type": "code",
   "execution_count": 11,
   "id": "d7e36933-3189-4948-a69b-b9bbee62920d",
   "metadata": {},
   "outputs": [],
   "source": [
    "from tensorflow.keras.applications import Xception\n",
    "\n",
    "# Construction du modèle MobileNetV2\n",
    "Xception_model = Xception(input_shape=(224, 224, 3), weights=\"imagenet\", include_top=False)\n",
    "Xception_model.trainable = False\n",
    "\n"
   ]
  },
  {
   "cell_type": "code",
   "execution_count": 12,
   "id": "3436a9fa-05f0-482b-994c-dec9111dd67a",
   "metadata": {},
   "outputs": [],
   "source": [
    "model = models.Sequential([\n",
    "    Xception_model,\n",
    "    layers.GlobalAveragePooling2D(),\n",
    "    layers.Dense(128, activation='relu'),\n",
    "    layers.Dense(3, activation='softmax')\n",
    "])\n",
    "\n"
   ]
  },
  {
   "cell_type": "code",
   "execution_count": 13,
   "id": "6b3c296b-5bd4-4e00-8b86-96c8debf9fab",
   "metadata": {},
   "outputs": [],
   "source": [
    "# Compilation du modèle\n",
    "model.compile(optimizer=\"adam\", loss=\"categorical_crossentropy\", metrics=[\"accuracy\"])\n",
    "\n"
   ]
  },
  {
   "cell_type": "code",
   "execution_count": 14,
   "id": "8e973bad-79ca-458a-a1ba-4f1d1ead3f4d",
   "metadata": {},
   "outputs": [
    {
     "name": "stdout",
     "output_type": "stream",
     "text": [
      "X_augmented_train dtype: float64\n",
      "y_augmented_train dtype: float64\n"
     ]
    }
   ],
   "source": [
    "# Vérification des types de données\n",
    "print(\"X_augmented_train dtype:\", X_augmented_train.dtype)\n",
    "print(\"y_augmented_train dtype:\", y_augmented_train.dtype)\n",
    "\n"
   ]
  },
  {
   "cell_type": "code",
   "execution_count": 15,
   "id": "d8df7356-a3c9-43db-a91d-b36a0d348ad6",
   "metadata": {},
   "outputs": [
    {
     "name": "stdout",
     "output_type": "stream",
     "text": [
      "Shape of y_train_one_hot: (284, 3)\n",
      "Shape of y_valid_one_hot: (61, 3)\n",
      "Shape of y_augmented_train_one_hot: (730, 3)\n",
      "Epoch 1/20\n",
      "\u001b[1m23/23\u001b[0m \u001b[32m━━━━━━━━━━━━━━━━━━━━\u001b[0m\u001b[37m\u001b[0m \u001b[1m110s\u001b[0m 4s/step - accuracy: 0.6884 - loss: 0.7104 - val_accuracy: 0.8361 - val_loss: 0.3656\n",
      "Epoch 2/20\n",
      "\u001b[1m23/23\u001b[0m \u001b[32m━━━━━━━━━━━━━━━━━━━━\u001b[0m\u001b[37m\u001b[0m \u001b[1m73s\u001b[0m 3s/step - accuracy: 0.9488 - loss: 0.1522 - val_accuracy: 0.8525 - val_loss: 0.3586\n",
      "Epoch 3/20\n",
      "\u001b[1m23/23\u001b[0m \u001b[32m━━━━━━━━━━━━━━━━━━━━\u001b[0m\u001b[37m\u001b[0m \u001b[1m70s\u001b[0m 3s/step - accuracy: 0.9902 - loss: 0.0796 - val_accuracy: 0.9180 - val_loss: 0.2566\n",
      "Epoch 4/20\n",
      "\u001b[1m23/23\u001b[0m \u001b[32m━━━━━━━━━━━━━━━━━━━━\u001b[0m\u001b[37m\u001b[0m \u001b[1m73s\u001b[0m 3s/step - accuracy: 0.9981 - loss: 0.0334 - val_accuracy: 0.9016 - val_loss: 0.2737\n",
      "Epoch 5/20\n",
      "\u001b[1m23/23\u001b[0m \u001b[32m━━━━━━━━━━━━━━━━━━━━\u001b[0m\u001b[37m\u001b[0m \u001b[1m74s\u001b[0m 3s/step - accuracy: 1.0000 - loss: 0.0247 - val_accuracy: 0.9344 - val_loss: 0.2435\n",
      "Epoch 6/20\n",
      "\u001b[1m23/23\u001b[0m \u001b[32m━━━━━━━━━━━━━━━━━━━━\u001b[0m\u001b[37m\u001b[0m \u001b[1m79s\u001b[0m 3s/step - accuracy: 1.0000 - loss: 0.0190 - val_accuracy: 0.8852 - val_loss: 0.3127\n",
      "Epoch 7/20\n",
      "\u001b[1m23/23\u001b[0m \u001b[32m━━━━━━━━━━━━━━━━━━━━\u001b[0m\u001b[37m\u001b[0m \u001b[1m81s\u001b[0m 4s/step - accuracy: 1.0000 - loss: 0.0139 - val_accuracy: 0.9180 - val_loss: 0.2492\n",
      "Epoch 8/20\n",
      "\u001b[1m23/23\u001b[0m \u001b[32m━━━━━━━━━━━━━━━━━━━━\u001b[0m\u001b[37m\u001b[0m \u001b[1m76s\u001b[0m 3s/step - accuracy: 1.0000 - loss: 0.0083 - val_accuracy: 0.9016 - val_loss: 0.2924\n",
      "Epoch 9/20\n",
      "\u001b[1m23/23\u001b[0m \u001b[32m━━━━━━━━━━━━━━━━━━━━\u001b[0m\u001b[37m\u001b[0m \u001b[1m69s\u001b[0m 3s/step - accuracy: 1.0000 - loss: 0.0053 - val_accuracy: 0.9180 - val_loss: 0.2829\n",
      "Epoch 10/20\n",
      "\u001b[1m23/23\u001b[0m \u001b[32m━━━━━━━━━━━━━━━━━━━━\u001b[0m\u001b[37m\u001b[0m \u001b[1m68s\u001b[0m 3s/step - accuracy: 1.0000 - loss: 0.0046 - val_accuracy: 0.9016 - val_loss: 0.2900\n",
      "Epoch 11/20\n",
      "\u001b[1m23/23\u001b[0m \u001b[32m━━━━━━━━━━━━━━━━━━━━\u001b[0m\u001b[37m\u001b[0m \u001b[1m68s\u001b[0m 3s/step - accuracy: 1.0000 - loss: 0.0036 - val_accuracy: 0.9016 - val_loss: 0.3048\n",
      "Epoch 12/20\n",
      "\u001b[1m23/23\u001b[0m \u001b[32m━━━━━━━━━━━━━━━━━━━━\u001b[0m\u001b[37m\u001b[0m \u001b[1m69s\u001b[0m 3s/step - accuracy: 1.0000 - loss: 0.0034 - val_accuracy: 0.9016 - val_loss: 0.3027\n",
      "Epoch 13/20\n",
      "\u001b[1m23/23\u001b[0m \u001b[32m━━━━━━━━━━━━━━━━━━━━\u001b[0m\u001b[37m\u001b[0m \u001b[1m76s\u001b[0m 3s/step - accuracy: 1.0000 - loss: 0.0029 - val_accuracy: 0.9016 - val_loss: 0.2972\n",
      "Epoch 14/20\n",
      "\u001b[1m23/23\u001b[0m \u001b[32m━━━━━━━━━━━━━━━━━━━━\u001b[0m\u001b[37m\u001b[0m \u001b[1m78s\u001b[0m 3s/step - accuracy: 1.0000 - loss: 0.0026 - val_accuracy: 0.9016 - val_loss: 0.3031\n",
      "Epoch 15/20\n",
      "\u001b[1m23/23\u001b[0m \u001b[32m━━━━━━━━━━━━━━━━━━━━\u001b[0m\u001b[37m\u001b[0m \u001b[1m70s\u001b[0m 3s/step - accuracy: 1.0000 - loss: 0.0023 - val_accuracy: 0.9180 - val_loss: 0.2953\n",
      "Epoch 16/20\n",
      "\u001b[1m23/23\u001b[0m \u001b[32m━━━━━━━━━━━━━━━━━━━━\u001b[0m\u001b[37m\u001b[0m \u001b[1m68s\u001b[0m 3s/step - accuracy: 1.0000 - loss: 0.0022 - val_accuracy: 0.9016 - val_loss: 0.3091\n",
      "Epoch 17/20\n",
      "\u001b[1m23/23\u001b[0m \u001b[32m━━━━━━━━━━━━━━━━━━━━\u001b[0m\u001b[37m\u001b[0m \u001b[1m68s\u001b[0m 3s/step - accuracy: 1.0000 - loss: 0.0017 - val_accuracy: 0.8852 - val_loss: 0.3623\n",
      "Epoch 18/20\n",
      "\u001b[1m23/23\u001b[0m \u001b[32m━━━━━━━━━━━━━━━━━━━━\u001b[0m\u001b[37m\u001b[0m \u001b[1m67s\u001b[0m 3s/step - accuracy: 1.0000 - loss: 0.0017 - val_accuracy: 0.9016 - val_loss: 0.3237\n",
      "Epoch 19/20\n",
      "\u001b[1m23/23\u001b[0m \u001b[32m━━━━━━━━━━━━━━━━━━━━\u001b[0m\u001b[37m\u001b[0m \u001b[1m69s\u001b[0m 3s/step - accuracy: 1.0000 - loss: 0.0015 - val_accuracy: 0.8689 - val_loss: 0.3555\n",
      "Epoch 20/20\n",
      "\u001b[1m23/23\u001b[0m \u001b[32m━━━━━━━━━━━━━━━━━━━━\u001b[0m\u001b[37m\u001b[0m \u001b[1m69s\u001b[0m 3s/step - accuracy: 1.0000 - loss: 0.0013 - val_accuracy: 0.8852 - val_loss: 0.3452\n"
     ]
    },
    {
     "data": {
      "text/plain": [
       "<keras.src.callbacks.history.History at 0x27a9e6f8ce0>"
      ]
     },
     "execution_count": 15,
     "metadata": {},
     "output_type": "execute_result"
    }
   ],
   "source": [
    "# Si les étiquettes ne sont pas déjà one-hot, appliquez `to_categorical`\n",
    "if len(y_train.shape) == 1:\n",
    "    y_train_one_hot = to_categorical(y_train, num_classes=3)\n",
    "else:\n",
    "    y_train_one_hot = y_train  # Les étiquettes sont déjà en one-hot encoding\n",
    "\n",
    "if len(y_valid.shape) == 1:\n",
    "    y_valid_one_hot = to_categorical(y_valid, num_classes=3)\n",
    "else:\n",
    "    y_valid_one_hot = y_valid  # Les étiquettes sont déjà en one-hot encoding\n",
    "\n",
    "if len(y_augmented_train.shape) == 1:\n",
    "    y_augmented_train_one_hot = to_categorical(y_augmented_train, num_classes=3)\n",
    "else:\n",
    "    y_augmented_train_one_hot = y_augmented_train  # Les étiquettes sont déjà en one-hot encoding\n",
    "\n",
    "# Vérification des formes des étiquettes avant de continuer\n",
    "print(\"Shape of y_train_one_hot:\", y_train_one_hot.shape)\n",
    "print(\"Shape of y_valid_one_hot:\", y_valid_one_hot.shape)\n",
    "print(\"Shape of y_augmented_train_one_hot:\", y_augmented_train_one_hot.shape)\n",
    "\n",
    "# Entraînement du modèle avec les données préparées\n",
    "model.fit(X_augmented_train, y_augmented_train_one_hot, epochs=20, validation_data=(X_valid, y_valid_one_hot))\n"
   ]
  },
  {
   "cell_type": "code",
   "execution_count": 16,
   "id": "ac511854-79ca-4bb0-a97c-486b846855e1",
   "metadata": {},
   "outputs": [
    {
     "name": "stdout",
     "output_type": "stream",
     "text": [
      "\u001b[1m2/2\u001b[0m \u001b[32m━━━━━━━━━━━━━━━━━━━━\u001b[0m\u001b[37m\u001b[0m \u001b[1m8s\u001b[0m 2s/step - accuracy: 0.9577 - loss: 0.1340\n",
      "Précision sur l'ensemble test : 0.97\n"
     ]
    }
   ],
   "source": [
    "# Évaluation sur l'ensemble test\n",
    "loss, accuracy = model.evaluate(X_test, y_test)\n",
    "print(f\"Précision sur l'ensemble test : {accuracy:.2f}\")\n",
    "\n"
   ]
  },
  {
   "cell_type": "code",
   "execution_count": 17,
   "id": "c7d38566-231a-4501-8502-70c6b66f0ffd",
   "metadata": {},
   "outputs": [
    {
     "name": "stdout",
     "output_type": "stream",
     "text": [
      "\u001b[1m2/2\u001b[0m \u001b[32m━━━━━━━━━━━━━━━━━━━━\u001b[0m\u001b[37m\u001b[0m \u001b[1m17s\u001b[0m 8s/step\n"
     ]
    }
   ],
   "source": [
    "# Prédictions\n",
    "y_pred = model.predict(X_test)\n",
    "y_pred_classes = np.argmax(y_pred, axis=1)\n",
    "y_test_classes = np.argmax(y_test, axis=1)\n",
    "\n"
   ]
  },
  {
   "cell_type": "code",
   "execution_count": 18,
   "id": "fb4dd071-2840-4b61-8454-2c19ad1d247b",
   "metadata": {},
   "outputs": [
    {
     "name": "stdout",
     "output_type": "stream",
     "text": [
      "Matrice de confusion :\n",
      "[[17  0  1]\n",
      " [ 0 13  0]\n",
      " [ 1  0 30]]\n",
      "Rapport de classification :\n",
      "              precision    recall  f1-score   support\n",
      "\n",
      "     Healthy       0.94      0.94      0.94        18\n",
      "    septoria       1.00      1.00      1.00        13\n",
      " stripe_rust       0.97      0.97      0.97        31\n",
      "\n",
      "    accuracy                           0.97        62\n",
      "   macro avg       0.97      0.97      0.97        62\n",
      "weighted avg       0.97      0.97      0.97        62\n",
      "\n"
     ]
    }
   ],
   "source": [
    "from sklearn.metrics import confusion_matrix, classification_report\n",
    "\n",
    "# Matrice de confusion et rapport de classification\n",
    "conf_matrix = confusion_matrix(y_test_classes, y_pred_classes)\n",
    "print(\"Matrice de confusion :\")\n",
    "print(conf_matrix)\n",
    "\n",
    "print(\"Rapport de classification :\")\n",
    "\n",
    "# Si lb.classes_ contient des entiers, convertissez-les en chaînes\n",
    "target_names = [str(cls) for cls in lb.classes_]\n",
    "\n",
    "# Maintenant, passez-les à la fonction classification_report\n",
    "print(classification_report(y_test_classes, y_pred_classes, target_names=target_names))\n",
    "\n"
   ]
  },
  {
   "cell_type": "markdown",
   "id": "2788a71e-2613-4b33-b287-62e855f6fea8",
   "metadata": {},
   "source": [
    "### _____________________________________ DenceNet121 _______________________________________"
   ]
  },
  {
   "cell_type": "code",
   "execution_count": 11,
   "id": "3622d90d-8a06-4f9a-8282-383397815e62",
   "metadata": {},
   "outputs": [
    {
     "name": "stdout",
     "output_type": "stream",
     "text": [
      "X_augmented_train dtype: float64\n",
      "y_augmented_train dtype: float64\n",
      "Shape of y_train_one_hot: (284, 3)\n",
      "Shape of y_valid_one_hot: (61, 3)\n",
      "Shape of y_augmented_train_one_hot: (730, 3)\n"
     ]
    }
   ],
   "source": [
    "from tensorflow.keras.applications import DenseNet121\n",
    "\n",
    "# Construction du modèle MobileNetV2\n",
    "DenseNet121_model = DenseNet121(input_shape=(224, 224, 3), weights=\"imagenet\", include_top=False)\n",
    "DenseNet121_model.trainable = False\n",
    "\n",
    "model = models.Sequential([\n",
    "    DenseNet121_model,\n",
    "    layers.GlobalAveragePooling2D(),\n",
    "    layers.Dense(128, activation='relu'),\n",
    "    layers.Dense(3, activation='softmax')\n",
    "])\n",
    "\n",
    "\n",
    "# Compilation du modèle\n",
    "model.compile(optimizer=\"adam\", loss=\"categorical_crossentropy\", metrics=[\"accuracy\"])\n",
    "\n",
    "# Vérification des types de données\n",
    "print(\"X_augmented_train dtype:\", X_augmented_train.dtype)\n",
    "print(\"y_augmented_train dtype:\", y_augmented_train.dtype)\n",
    "\n",
    "\n",
    "# Si les étiquettes ne sont pas déjà one-hot, appliquez `to_categorical`\n",
    "if len(y_train.shape) == 1:\n",
    "    y_train_one_hot = to_categorical(y_train, num_classes=3)\n",
    "else:\n",
    "    y_train_one_hot = y_train  # Les étiquettes sont déjà en one-hot encoding\n",
    "\n",
    "if len(y_valid.shape) == 1:\n",
    "    y_valid_one_hot = to_categorical(y_valid, num_classes=3)\n",
    "else:\n",
    "    y_valid_one_hot = y_valid  # Les étiquettes sont déjà en one-hot encoding\n",
    "\n",
    "if len(y_augmented_train.shape) == 1:\n",
    "    y_augmented_train_one_hot = to_categorical(y_augmented_train, num_classes=3)\n",
    "else:\n",
    "    y_augmented_train_one_hot = y_augmented_train  # Les étiquettes sont déjà en one-hot encoding\n",
    "\n",
    "# Vérification des formes des étiquettes avant de continuer\n",
    "print(\"Shape of y_train_one_hot:\", y_train_one_hot.shape)\n",
    "print(\"Shape of y_valid_one_hot:\", y_valid_one_hot.shape)\n",
    "print(\"Shape of y_augmented_train_one_hot:\", y_augmented_train_one_hot.shape)\n",
    "\n",
    "\n"
   ]
  },
  {
   "cell_type": "code",
   "execution_count": 12,
   "id": "5f5896c4-b721-4740-9e21-b09e25853f6f",
   "metadata": {},
   "outputs": [
    {
     "name": "stdout",
     "output_type": "stream",
     "text": [
      "Epoch 1/20\n",
      "\u001b[1m23/23\u001b[0m \u001b[32m━━━━━━━━━━━━━━━━━━━━\u001b[0m\u001b[37m\u001b[0m \u001b[1m134s\u001b[0m 4s/step - accuracy: 0.5519 - loss: 1.0293 - val_accuracy: 0.8852 - val_loss: 0.3094\n",
      "Epoch 2/20\n",
      "\u001b[1m23/23\u001b[0m \u001b[32m━━━━━━━━━━━━━━━━━━━━\u001b[0m\u001b[37m\u001b[0m \u001b[1m53s\u001b[0m 2s/step - accuracy: 0.9522 - loss: 0.1818 - val_accuracy: 0.9344 - val_loss: 0.2050\n",
      "Epoch 3/20\n",
      "\u001b[1m23/23\u001b[0m \u001b[32m━━━━━━━━━━━━━━━━━━━━\u001b[0m\u001b[37m\u001b[0m \u001b[1m58s\u001b[0m 3s/step - accuracy: 0.9928 - loss: 0.0992 - val_accuracy: 0.9836 - val_loss: 0.1558\n",
      "Epoch 4/20\n",
      "\u001b[1m23/23\u001b[0m \u001b[32m━━━━━━━━━━━━━━━━━━━━\u001b[0m\u001b[37m\u001b[0m \u001b[1m59s\u001b[0m 3s/step - accuracy: 0.9976 - loss: 0.0499 - val_accuracy: 0.9836 - val_loss: 0.1256\n",
      "Epoch 5/20\n",
      "\u001b[1m23/23\u001b[0m \u001b[32m━━━━━━━━━━━━━━━━━━━━\u001b[0m\u001b[37m\u001b[0m \u001b[1m54s\u001b[0m 2s/step - accuracy: 1.0000 - loss: 0.0339 - val_accuracy: 0.9344 - val_loss: 0.1275\n",
      "Epoch 6/20\n",
      "\u001b[1m23/23\u001b[0m \u001b[32m━━━━━━━━━━━━━━━━━━━━\u001b[0m\u001b[37m\u001b[0m \u001b[1m52s\u001b[0m 2s/step - accuracy: 1.0000 - loss: 0.0252 - val_accuracy: 0.9836 - val_loss: 0.1015\n",
      "Epoch 7/20\n",
      "\u001b[1m23/23\u001b[0m \u001b[32m━━━━━━━━━━━━━━━━━━━━\u001b[0m\u001b[37m\u001b[0m \u001b[1m52s\u001b[0m 2s/step - accuracy: 1.0000 - loss: 0.0177 - val_accuracy: 0.9836 - val_loss: 0.0944\n",
      "Epoch 8/20\n",
      "\u001b[1m23/23\u001b[0m \u001b[32m━━━━━━━━━━━━━━━━━━━━\u001b[0m\u001b[37m\u001b[0m \u001b[1m52s\u001b[0m 2s/step - accuracy: 1.0000 - loss: 0.0138 - val_accuracy: 0.9836 - val_loss: 0.0927\n",
      "Epoch 9/20\n",
      "\u001b[1m23/23\u001b[0m \u001b[32m━━━━━━━━━━━━━━━━━━━━\u001b[0m\u001b[37m\u001b[0m \u001b[1m52s\u001b[0m 2s/step - accuracy: 1.0000 - loss: 0.0091 - val_accuracy: 0.9836 - val_loss: 0.0866\n",
      "Epoch 10/20\n",
      "\u001b[1m23/23\u001b[0m \u001b[32m━━━━━━━━━━━━━━━━━━━━\u001b[0m\u001b[37m\u001b[0m \u001b[1m51s\u001b[0m 2s/step - accuracy: 1.0000 - loss: 0.0082 - val_accuracy: 0.9836 - val_loss: 0.0860\n",
      "Epoch 11/20\n",
      "\u001b[1m23/23\u001b[0m \u001b[32m━━━━━━━━━━━━━━━━━━━━\u001b[0m\u001b[37m\u001b[0m \u001b[1m52s\u001b[0m 2s/step - accuracy: 1.0000 - loss: 0.0065 - val_accuracy: 0.9836 - val_loss: 0.0831\n",
      "Epoch 12/20\n",
      "\u001b[1m23/23\u001b[0m \u001b[32m━━━━━━━━━━━━━━━━━━━━\u001b[0m\u001b[37m\u001b[0m \u001b[1m51s\u001b[0m 2s/step - accuracy: 1.0000 - loss: 0.0062 - val_accuracy: 0.9836 - val_loss: 0.0796\n",
      "Epoch 13/20\n",
      "\u001b[1m23/23\u001b[0m \u001b[32m━━━━━━━━━━━━━━━━━━━━\u001b[0m\u001b[37m\u001b[0m \u001b[1m53s\u001b[0m 2s/step - accuracy: 1.0000 - loss: 0.0049 - val_accuracy: 0.9836 - val_loss: 0.0799\n",
      "Epoch 14/20\n",
      "\u001b[1m23/23\u001b[0m \u001b[32m━━━━━━━━━━━━━━━━━━━━\u001b[0m\u001b[37m\u001b[0m \u001b[1m55s\u001b[0m 2s/step - accuracy: 1.0000 - loss: 0.0040 - val_accuracy: 0.9836 - val_loss: 0.0815\n",
      "Epoch 15/20\n",
      "\u001b[1m23/23\u001b[0m \u001b[32m━━━━━━━━━━━━━━━━━━━━\u001b[0m\u001b[37m\u001b[0m \u001b[1m56s\u001b[0m 2s/step - accuracy: 1.0000 - loss: 0.0036 - val_accuracy: 0.9836 - val_loss: 0.0783\n",
      "Epoch 16/20\n",
      "\u001b[1m23/23\u001b[0m \u001b[32m━━━━━━━━━━━━━━━━━━━━\u001b[0m\u001b[37m\u001b[0m \u001b[1m54s\u001b[0m 2s/step - accuracy: 1.0000 - loss: 0.0034 - val_accuracy: 0.9836 - val_loss: 0.0767\n",
      "Epoch 17/20\n",
      "\u001b[1m23/23\u001b[0m \u001b[32m━━━━━━━━━━━━━━━━━━━━\u001b[0m\u001b[37m\u001b[0m \u001b[1m58s\u001b[0m 3s/step - accuracy: 1.0000 - loss: 0.0026 - val_accuracy: 0.9836 - val_loss: 0.0744\n",
      "Epoch 18/20\n",
      "\u001b[1m23/23\u001b[0m \u001b[32m━━━━━━━━━━━━━━━━━━━━\u001b[0m\u001b[37m\u001b[0m \u001b[1m55s\u001b[0m 2s/step - accuracy: 1.0000 - loss: 0.0024 - val_accuracy: 0.9836 - val_loss: 0.0739\n",
      "Epoch 19/20\n",
      "\u001b[1m23/23\u001b[0m \u001b[32m━━━━━━━━━━━━━━━━━━━━\u001b[0m\u001b[37m\u001b[0m \u001b[1m53s\u001b[0m 2s/step - accuracy: 1.0000 - loss: 0.0022 - val_accuracy: 0.9836 - val_loss: 0.0731\n",
      "Epoch 20/20\n",
      "\u001b[1m23/23\u001b[0m \u001b[32m━━━━━━━━━━━━━━━━━━━━\u001b[0m\u001b[37m\u001b[0m \u001b[1m57s\u001b[0m 2s/step - accuracy: 1.0000 - loss: 0.0020 - val_accuracy: 0.9836 - val_loss: 0.0748\n"
     ]
    },
    {
     "data": {
      "text/plain": [
       "<keras.src.callbacks.history.History at 0x2f5d47f2150>"
      ]
     },
     "execution_count": 12,
     "metadata": {},
     "output_type": "execute_result"
    }
   ],
   "source": [
    "# Entraînement du modèle avec les données préparées\n",
    "model.fit(X_augmented_train, y_augmented_train_one_hot, epochs=20, validation_data=(X_valid, y_valid_one_hot))\n"
   ]
  },
  {
   "cell_type": "code",
   "execution_count": 13,
   "id": "c0eb6bb1-ca94-4f71-aab3-ed98e0385786",
   "metadata": {},
   "outputs": [
    {
     "name": "stdout",
     "output_type": "stream",
     "text": [
      "\u001b[1m2/2\u001b[0m \u001b[32m━━━━━━━━━━━━━━━━━━━━\u001b[0m\u001b[37m\u001b[0m \u001b[1m7s\u001b[0m 2s/step - accuracy: 0.9785 - loss: 0.0422\n",
      "Précision sur l'ensemble test : 0.97\n"
     ]
    }
   ],
   "source": [
    "# Évaluation sur l'ensemble test\n",
    "loss, accuracy = model.evaluate(X_test, y_test)\n",
    "print(f\"Précision sur l'ensemble test : {accuracy:.2f}\")"
   ]
  },
  {
   "cell_type": "code",
   "execution_count": 14,
   "id": "8ba162f0-c5ca-4c66-bda9-fa5f0f00adf0",
   "metadata": {},
   "outputs": [
    {
     "name": "stdout",
     "output_type": "stream",
     "text": [
      "\u001b[1m2/2\u001b[0m \u001b[32m━━━━━━━━━━━━━━━━━━━━\u001b[0m\u001b[37m\u001b[0m \u001b[1m33s\u001b[0m 16s/step\n"
     ]
    }
   ],
   "source": [
    "# Prédictions\n",
    "y_pred = model.predict(X_test)\n",
    "y_pred_classes = np.argmax(y_pred, axis=1)\n",
    "y_test_classes = np.argmax(y_test, axis=1)\n"
   ]
  },
  {
   "cell_type": "code",
   "execution_count": 15,
   "id": "93717161-57fa-433c-b35f-f03c424a820f",
   "metadata": {},
   "outputs": [
    {
     "name": "stdout",
     "output_type": "stream",
     "text": [
      "Matrice de confusion :\n",
      "[[18  0  0]\n",
      " [ 0 11  2]\n",
      " [ 0  0 31]]\n",
      "Rapport de classification :\n",
      "              precision    recall  f1-score   support\n",
      "\n",
      "     Healthy       1.00      1.00      1.00        18\n",
      "    septoria       1.00      0.85      0.92        13\n",
      " stripe_rust       0.94      1.00      0.97        31\n",
      "\n",
      "    accuracy                           0.97        62\n",
      "   macro avg       0.98      0.95      0.96        62\n",
      "weighted avg       0.97      0.97      0.97        62\n",
      "\n"
     ]
    }
   ],
   "source": [
    "\n",
    "from sklearn.metrics import confusion_matrix, classification_report\n",
    "\n",
    "# Matrice de confusion et rapport de classification\n",
    "conf_matrix = confusion_matrix(y_test_classes, y_pred_classes)\n",
    "print(\"Matrice de confusion :\")\n",
    "print(conf_matrix)\n",
    "\n",
    "print(\"Rapport de classification :\")\n",
    "\n",
    "# Si lb.classes_ contient des entiers, convertissez-les en chaînes\n",
    "target_names = [str(cls) for cls in lb.classes_]\n",
    "\n",
    "# Maintenant, passez-les à la fonction classification_report\n",
    "print(classification_report(y_test_classes, y_pred_classes, target_names=target_names))"
   ]
  },
  {
   "cell_type": "markdown",
   "id": "f0006a21-6059-48de-bcc5-a9357164bf77",
   "metadata": {},
   "source": [
    "### ___________________________________________ DenceNet169 ____________________________________________________"
   ]
  },
  {
   "cell_type": "code",
   "execution_count": 16,
   "id": "2dac39f3-42e6-4f65-b81b-a5700f4a3bda",
   "metadata": {},
   "outputs": [
    {
     "name": "stdout",
     "output_type": "stream",
     "text": [
      "X_augmented_train dtype: float64\n",
      "y_augmented_train dtype: float64\n",
      "Shape of y_train_one_hot: (284, 3)\n",
      "Shape of y_valid_one_hot: (61, 3)\n",
      "Shape of y_augmented_train_one_hot: (730, 3)\n"
     ]
    }
   ],
   "source": [
    "from tensorflow.keras.applications import DenseNet169\n",
    "\n",
    "# Construction du modèle MobileNetV2\n",
    "DenseNet169_model = DenseNet169(input_shape=(224, 224, 3), weights=\"imagenet\", include_top=False)\n",
    "DenseNet169_model.trainable = False\n",
    "\n",
    "model = models.Sequential([\n",
    "    DenseNet169_model,\n",
    "    layers.GlobalAveragePooling2D(),\n",
    "    layers.Dense(128, activation='relu'),\n",
    "    layers.Dense(3, activation='softmax')\n",
    "])\n",
    "\n",
    "\n",
    "# Compilation du modèle\n",
    "model.compile(optimizer=\"adam\", loss=\"categorical_crossentropy\", metrics=[\"accuracy\"])\n",
    "\n",
    "# Vérification des types de données\n",
    "print(\"X_augmented_train dtype:\", X_augmented_train.dtype)\n",
    "print(\"y_augmented_train dtype:\", y_augmented_train.dtype)\n",
    "\n",
    "\n",
    "# Si les étiquettes ne sont pas déjà one-hot, appliquez `to_categorical`\n",
    "if len(y_train.shape) == 1:\n",
    "    y_train_one_hot = to_categorical(y_train, num_classes=3)\n",
    "else:\n",
    "    y_train_one_hot = y_train  # Les étiquettes sont déjà en one-hot encoding\n",
    "\n",
    "if len(y_valid.shape) == 1:\n",
    "    y_valid_one_hot = to_categorical(y_valid, num_classes=3)\n",
    "else:\n",
    "    y_valid_one_hot = y_valid  # Les étiquettes sont déjà en one-hot encoding\n",
    "\n",
    "if len(y_augmented_train.shape) == 1:\n",
    "    y_augmented_train_one_hot = to_categorical(y_augmented_train, num_classes=3)\n",
    "else:\n",
    "    y_augmented_train_one_hot = y_augmented_train  # Les étiquettes sont déjà en one-hot encoding\n",
    "\n",
    "# Vérification des formes des étiquettes avant de continuer\n",
    "print(\"Shape of y_train_one_hot:\", y_train_one_hot.shape)\n",
    "print(\"Shape of y_valid_one_hot:\", y_valid_one_hot.shape)\n",
    "print(\"Shape of y_augmented_train_one_hot:\", y_augmented_train_one_hot.shape)\n",
    "\n"
   ]
  },
  {
   "cell_type": "code",
   "execution_count": 17,
   "id": "ad541ab4-20f0-4fad-b3e8-f3670e40b55a",
   "metadata": {},
   "outputs": [
    {
     "name": "stdout",
     "output_type": "stream",
     "text": [
      "Epoch 1/20\n",
      "\u001b[1m23/23\u001b[0m \u001b[32m━━━━━━━━━━━━━━━━━━━━\u001b[0m\u001b[37m\u001b[0m \u001b[1m188s\u001b[0m 5s/step - accuracy: 0.7436 - loss: 0.5524 - val_accuracy: 0.8525 - val_loss: 0.3107\n",
      "Epoch 2/20\n",
      "\u001b[1m23/23\u001b[0m \u001b[32m━━━━━━━━━━━━━━━━━━━━\u001b[0m\u001b[37m\u001b[0m \u001b[1m61s\u001b[0m 3s/step - accuracy: 0.9761 - loss: 0.0945 - val_accuracy: 0.9672 - val_loss: 0.1698\n",
      "Epoch 3/20\n",
      "\u001b[1m23/23\u001b[0m \u001b[32m━━━━━━━━━━━━━━━━━━━━\u001b[0m\u001b[37m\u001b[0m \u001b[1m61s\u001b[0m 3s/step - accuracy: 0.9978 - loss: 0.0381 - val_accuracy: 0.9180 - val_loss: 0.2352\n",
      "Epoch 4/20\n",
      "\u001b[1m23/23\u001b[0m \u001b[32m━━━━━━━━━━━━━━━━━━━━\u001b[0m\u001b[37m\u001b[0m \u001b[1m64s\u001b[0m 3s/step - accuracy: 1.0000 - loss: 0.0200 - val_accuracy: 0.9508 - val_loss: 0.1729\n",
      "Epoch 5/20\n",
      "\u001b[1m23/23\u001b[0m \u001b[32m━━━━━━━━━━━━━━━━━━━━\u001b[0m\u001b[37m\u001b[0m \u001b[1m65s\u001b[0m 3s/step - accuracy: 1.0000 - loss: 0.0134 - val_accuracy: 0.9508 - val_loss: 0.1311\n",
      "Epoch 6/20\n",
      "\u001b[1m23/23\u001b[0m \u001b[32m━━━━━━━━━━━━━━━━━━━━\u001b[0m\u001b[37m\u001b[0m \u001b[1m70s\u001b[0m 3s/step - accuracy: 1.0000 - loss: 0.0103 - val_accuracy: 0.9344 - val_loss: 0.1966\n",
      "Epoch 7/20\n",
      "\u001b[1m23/23\u001b[0m \u001b[32m━━━━━━━━━━━━━━━━━━━━\u001b[0m\u001b[37m\u001b[0m \u001b[1m67s\u001b[0m 3s/step - accuracy: 1.0000 - loss: 0.0074 - val_accuracy: 0.9344 - val_loss: 0.1899\n",
      "Epoch 8/20\n",
      "\u001b[1m23/23\u001b[0m \u001b[32m━━━━━━━━━━━━━━━━━━━━\u001b[0m\u001b[37m\u001b[0m \u001b[1m68s\u001b[0m 3s/step - accuracy: 1.0000 - loss: 0.0062 - val_accuracy: 0.9344 - val_loss: 0.1814\n",
      "Epoch 9/20\n",
      "\u001b[1m23/23\u001b[0m \u001b[32m━━━━━━━━━━━━━━━━━━━━\u001b[0m\u001b[37m\u001b[0m \u001b[1m67s\u001b[0m 3s/step - accuracy: 1.0000 - loss: 0.0044 - val_accuracy: 0.9344 - val_loss: 0.1725\n",
      "Epoch 10/20\n",
      "\u001b[1m23/23\u001b[0m \u001b[32m━━━━━━━━━━━━━━━━━━━━\u001b[0m\u001b[37m\u001b[0m \u001b[1m71s\u001b[0m 3s/step - accuracy: 1.0000 - loss: 0.0039 - val_accuracy: 0.9344 - val_loss: 0.1918\n",
      "Epoch 11/20\n",
      "\u001b[1m23/23\u001b[0m \u001b[32m━━━━━━━━━━━━━━━━━━━━\u001b[0m\u001b[37m\u001b[0m \u001b[1m67s\u001b[0m 3s/step - accuracy: 1.0000 - loss: 0.0029 - val_accuracy: 0.9344 - val_loss: 0.1910\n",
      "Epoch 12/20\n",
      "\u001b[1m23/23\u001b[0m \u001b[32m━━━━━━━━━━━━━━━━━━━━\u001b[0m\u001b[37m\u001b[0m \u001b[1m67s\u001b[0m 3s/step - accuracy: 1.0000 - loss: 0.0028 - val_accuracy: 0.9344 - val_loss: 0.1913\n",
      "Epoch 13/20\n",
      "\u001b[1m23/23\u001b[0m \u001b[32m━━━━━━━━━━━━━━━━━━━━\u001b[0m\u001b[37m\u001b[0m \u001b[1m67s\u001b[0m 3s/step - accuracy: 1.0000 - loss: 0.0025 - val_accuracy: 0.9344 - val_loss: 0.2033\n",
      "Epoch 14/20\n",
      "\u001b[1m23/23\u001b[0m \u001b[32m━━━━━━━━━━━━━━━━━━━━\u001b[0m\u001b[37m\u001b[0m \u001b[1m68s\u001b[0m 3s/step - accuracy: 1.0000 - loss: 0.0023 - val_accuracy: 0.9344 - val_loss: 0.1951\n",
      "Epoch 15/20\n",
      "\u001b[1m23/23\u001b[0m \u001b[32m━━━━━━━━━━━━━━━━━━━━\u001b[0m\u001b[37m\u001b[0m \u001b[1m64s\u001b[0m 3s/step - accuracy: 1.0000 - loss: 0.0015 - val_accuracy: 0.9344 - val_loss: 0.1904\n",
      "Epoch 16/20\n",
      "\u001b[1m23/23\u001b[0m \u001b[32m━━━━━━━━━━━━━━━━━━━━\u001b[0m\u001b[37m\u001b[0m \u001b[1m66s\u001b[0m 3s/step - accuracy: 1.0000 - loss: 0.0016 - val_accuracy: 0.9344 - val_loss: 0.1801\n",
      "Epoch 17/20\n",
      "\u001b[1m23/23\u001b[0m \u001b[32m━━━━━━━━━━━━━━━━━━━━\u001b[0m\u001b[37m\u001b[0m \u001b[1m64s\u001b[0m 3s/step - accuracy: 1.0000 - loss: 0.0013 - val_accuracy: 0.9344 - val_loss: 0.1769\n",
      "Epoch 18/20\n",
      "\u001b[1m23/23\u001b[0m \u001b[32m━━━━━━━━━━━━━━━━━━━━\u001b[0m\u001b[37m\u001b[0m \u001b[1m69s\u001b[0m 3s/step - accuracy: 1.0000 - loss: 0.0012 - val_accuracy: 0.9344 - val_loss: 0.2034\n",
      "Epoch 19/20\n",
      "\u001b[1m23/23\u001b[0m \u001b[32m━━━━━━━━━━━━━━━━━━━━\u001b[0m\u001b[37m\u001b[0m \u001b[1m69s\u001b[0m 3s/step - accuracy: 1.0000 - loss: 0.0011 - val_accuracy: 0.9344 - val_loss: 0.1924\n",
      "Epoch 20/20\n",
      "\u001b[1m23/23\u001b[0m \u001b[32m━━━━━━━━━━━━━━━━━━━━\u001b[0m\u001b[37m\u001b[0m \u001b[1m67s\u001b[0m 3s/step - accuracy: 1.0000 - loss: 0.0010 - val_accuracy: 0.9344 - val_loss: 0.1918\n"
     ]
    },
    {
     "data": {
      "text/plain": [
       "<keras.src.callbacks.history.History at 0x2f67e717200>"
      ]
     },
     "execution_count": 17,
     "metadata": {},
     "output_type": "execute_result"
    }
   ],
   "source": [
    "# Entraînement du modèle avec les données préparées\n",
    "model.fit(X_augmented_train, y_augmented_train_one_hot, epochs=20, validation_data=(X_valid, y_valid_one_hot))\n"
   ]
  },
  {
   "cell_type": "code",
   "execution_count": 18,
   "id": "3a186978-44ec-4a4a-b4e9-80a4843c6bd7",
   "metadata": {},
   "outputs": [
    {
     "name": "stdout",
     "output_type": "stream",
     "text": [
      "\u001b[1m2/2\u001b[0m \u001b[32m━━━━━━━━━━━━━━━━━━━━\u001b[0m\u001b[37m\u001b[0m \u001b[1m8s\u001b[0m 3s/step - accuracy: 0.9577 - loss: 0.0878\n",
      "Précision sur l'ensemble test : 0.97\n"
     ]
    }
   ],
   "source": [
    "# Évaluation sur l'ensemble test\n",
    "loss, accuracy = model.evaluate(X_test, y_test)\n",
    "print(f\"Précision sur l'ensemble test : {accuracy:.2f}\")\n"
   ]
  },
  {
   "cell_type": "code",
   "execution_count": 19,
   "id": "54531161-e2a4-47fc-9afd-7b2e55ef6a12",
   "metadata": {},
   "outputs": [
    {
     "name": "stdout",
     "output_type": "stream",
     "text": [
      "\u001b[1m2/2\u001b[0m \u001b[32m━━━━━━━━━━━━━━━━━━━━\u001b[0m\u001b[37m\u001b[0m \u001b[1m49s\u001b[0m 23s/step\n"
     ]
    }
   ],
   "source": [
    "# Prédictions\n",
    "y_pred = model.predict(X_test)\n",
    "y_pred_classes = np.argmax(y_pred, axis=1)\n",
    "y_test_classes = np.argmax(y_test, axis=1)\n"
   ]
  },
  {
   "cell_type": "code",
   "execution_count": 20,
   "id": "9b9d0f36-b8db-47a8-9360-9dab1a17805c",
   "metadata": {},
   "outputs": [
    {
     "name": "stdout",
     "output_type": "stream",
     "text": [
      "Matrice de confusion :\n",
      "[[16  0  2]\n",
      " [ 0 13  0]\n",
      " [ 0  0 31]]\n",
      "Rapport de classification :\n",
      "              precision    recall  f1-score   support\n",
      "\n",
      "     Healthy       1.00      0.89      0.94        18\n",
      "    septoria       1.00      1.00      1.00        13\n",
      " stripe_rust       0.94      1.00      0.97        31\n",
      "\n",
      "    accuracy                           0.97        62\n",
      "   macro avg       0.98      0.96      0.97        62\n",
      "weighted avg       0.97      0.97      0.97        62\n",
      "\n"
     ]
    }
   ],
   "source": [
    "\n",
    "from sklearn.metrics import confusion_matrix, classification_report\n",
    "\n",
    "# Matrice de confusion et rapport de classification\n",
    "conf_matrix = confusion_matrix(y_test_classes, y_pred_classes)\n",
    "print(\"Matrice de confusion :\")\n",
    "print(conf_matrix)\n",
    "\n",
    "print(\"Rapport de classification :\")\n",
    "\n",
    "# Si lb.classes_ contient des entiers, convertissez-les en chaînes\n",
    "target_names = [str(cls) for cls in lb.classes_]\n",
    "\n",
    "# Maintenant, passez-les à la fonction classification_report\n",
    "print(classification_report(y_test_classes, y_pred_classes, target_names=target_names))"
   ]
  },
  {
   "cell_type": "markdown",
   "id": "37f944e9-36d9-41a3-bcc4-4d6e5c7e6d92",
   "metadata": {},
   "source": [
    "### ______________________________________________ ResNet50V2 ______________________________________________"
   ]
  },
  {
   "cell_type": "code",
   "execution_count": 21,
   "id": "d92be352-d955-4351-a065-da257e821417",
   "metadata": {},
   "outputs": [
    {
     "name": "stdout",
     "output_type": "stream",
     "text": [
      "X_augmented_train dtype: float64\n",
      "y_augmented_train dtype: float64\n",
      "Shape of y_train_one_hot: (284, 3)\n",
      "Shape of y_valid_one_hot: (61, 3)\n",
      "Shape of y_augmented_train_one_hot: (730, 3)\n"
     ]
    }
   ],
   "source": [
    "from tensorflow.keras.applications import ResNet50V2\n",
    "\n",
    "# Construction du modèle MobileNetV2\n",
    "ResNet50V2_model = ResNet50V2(input_shape=(224, 224, 3), weights=\"imagenet\", include_top=False)\n",
    "ResNet50V2_model.trainable = False\n",
    "\n",
    "model = models.Sequential([\n",
    "    ResNet50V2_model,\n",
    "    layers.GlobalAveragePooling2D(),\n",
    "    layers.Dense(128, activation='relu'),\n",
    "    layers.Dense(3, activation='softmax')\n",
    "])\n",
    "\n",
    "\n",
    "# Compilation du modèle\n",
    "model.compile(optimizer=\"adam\", loss=\"categorical_crossentropy\", metrics=[\"accuracy\"])\n",
    "\n",
    "# Vérification des types de données\n",
    "print(\"X_augmented_train dtype:\", X_augmented_train.dtype)\n",
    "print(\"y_augmented_train dtype:\", y_augmented_train.dtype)\n",
    "\n",
    "\n",
    "# Si les étiquettes ne sont pas déjà one-hot, appliquez `to_categorical`\n",
    "if len(y_train.shape) == 1:\n",
    "    y_train_one_hot = to_categorical(y_train, num_classes=3)\n",
    "else:\n",
    "    y_train_one_hot = y_train  # Les étiquettes sont déjà en one-hot encoding\n",
    "\n",
    "if len(y_valid.shape) == 1:\n",
    "    y_valid_one_hot = to_categorical(y_valid, num_classes=3)\n",
    "else:\n",
    "    y_valid_one_hot = y_valid  # Les étiquettes sont déjà en one-hot encoding\n",
    "\n",
    "if len(y_augmented_train.shape) == 1:\n",
    "    y_augmented_train_one_hot = to_categorical(y_augmented_train, num_classes=3)\n",
    "else:\n",
    "    y_augmented_train_one_hot = y_augmented_train  # Les étiquettes sont déjà en one-hot encoding\n",
    "\n",
    "# Vérification des formes des étiquettes avant de continuer\n",
    "print(\"Shape of y_train_one_hot:\", y_train_one_hot.shape)\n",
    "print(\"Shape of y_valid_one_hot:\", y_valid_one_hot.shape)\n",
    "print(\"Shape of y_augmented_train_one_hot:\", y_augmented_train_one_hot.shape)\n",
    "\n"
   ]
  },
  {
   "cell_type": "code",
   "execution_count": 22,
   "id": "ff2816d0-f623-49d3-948c-cd3f82b3d7a9",
   "metadata": {},
   "outputs": [
    {
     "name": "stdout",
     "output_type": "stream",
     "text": [
      "Epoch 1/20\n",
      "\u001b[1m23/23\u001b[0m \u001b[32m━━━━━━━━━━━━━━━━━━━━\u001b[0m\u001b[37m\u001b[0m \u001b[1m96s\u001b[0m 3s/step - accuracy: 0.6090 - loss: 1.0597 - val_accuracy: 0.8689 - val_loss: 0.2242\n",
      "Epoch 2/20\n",
      "\u001b[1m23/23\u001b[0m \u001b[32m━━━━━━━━━━━━━━━━━━━━\u001b[0m\u001b[37m\u001b[0m \u001b[1m51s\u001b[0m 2s/step - accuracy: 0.9965 - loss: 0.0722 - val_accuracy: 0.8689 - val_loss: 0.2699\n",
      "Epoch 3/20\n",
      "\u001b[1m23/23\u001b[0m \u001b[32m━━━━━━━━━━━━━━━━━━━━\u001b[0m\u001b[37m\u001b[0m \u001b[1m54s\u001b[0m 2s/step - accuracy: 1.0000 - loss: 0.0205 - val_accuracy: 0.8852 - val_loss: 0.2084\n",
      "Epoch 4/20\n",
      "\u001b[1m23/23\u001b[0m \u001b[32m━━━━━━━━━━━━━━━━━━━━\u001b[0m\u001b[37m\u001b[0m \u001b[1m55s\u001b[0m 2s/step - accuracy: 1.0000 - loss: 0.0101 - val_accuracy: 0.8689 - val_loss: 0.2390\n",
      "Epoch 5/20\n",
      "\u001b[1m23/23\u001b[0m \u001b[32m━━━━━━━━━━━━━━━━━━━━\u001b[0m\u001b[37m\u001b[0m \u001b[1m54s\u001b[0m 2s/step - accuracy: 1.0000 - loss: 0.0058 - val_accuracy: 0.8689 - val_loss: 0.2667\n",
      "Epoch 6/20\n",
      "\u001b[1m23/23\u001b[0m \u001b[32m━━━━━━━━━━━━━━━━━━━━\u001b[0m\u001b[37m\u001b[0m \u001b[1m83s\u001b[0m 2s/step - accuracy: 1.0000 - loss: 0.0045 - val_accuracy: 0.8689 - val_loss: 0.2217\n",
      "Epoch 7/20\n",
      "\u001b[1m23/23\u001b[0m \u001b[32m━━━━━━━━━━━━━━━━━━━━\u001b[0m\u001b[37m\u001b[0m \u001b[1m51s\u001b[0m 2s/step - accuracy: 1.0000 - loss: 0.0033 - val_accuracy: 0.8689 - val_loss: 0.2434\n",
      "Epoch 8/20\n",
      "\u001b[1m23/23\u001b[0m \u001b[32m━━━━━━━━━━━━━━━━━━━━\u001b[0m\u001b[37m\u001b[0m \u001b[1m53s\u001b[0m 2s/step - accuracy: 1.0000 - loss: 0.0025 - val_accuracy: 0.8689 - val_loss: 0.2395\n",
      "Epoch 9/20\n",
      "\u001b[1m23/23\u001b[0m \u001b[32m━━━━━━━━━━━━━━━━━━━━\u001b[0m\u001b[37m\u001b[0m \u001b[1m55s\u001b[0m 2s/step - accuracy: 1.0000 - loss: 0.0025 - val_accuracy: 0.8689 - val_loss: 0.2305\n",
      "Epoch 10/20\n",
      "\u001b[1m23/23\u001b[0m \u001b[32m━━━━━━━━━━━━━━━━━━━━\u001b[0m\u001b[37m\u001b[0m \u001b[1m54s\u001b[0m 2s/step - accuracy: 1.0000 - loss: 0.0017 - val_accuracy: 0.8689 - val_loss: 0.2461\n",
      "Epoch 11/20\n",
      "\u001b[1m23/23\u001b[0m \u001b[32m━━━━━━━━━━━━━━━━━━━━\u001b[0m\u001b[37m\u001b[0m \u001b[1m82s\u001b[0m 2s/step - accuracy: 1.0000 - loss: 0.0015 - val_accuracy: 0.8689 - val_loss: 0.2513\n",
      "Epoch 12/20\n",
      "\u001b[1m23/23\u001b[0m \u001b[32m━━━━━━━━━━━━━━━━━━━━\u001b[0m\u001b[37m\u001b[0m \u001b[1m50s\u001b[0m 2s/step - accuracy: 1.0000 - loss: 0.0011 - val_accuracy: 0.8689 - val_loss: 0.2314\n",
      "Epoch 13/20\n",
      "\u001b[1m23/23\u001b[0m \u001b[32m━━━━━━━━━━━━━━━━━━━━\u001b[0m\u001b[37m\u001b[0m \u001b[1m51s\u001b[0m 2s/step - accuracy: 1.0000 - loss: 0.0012 - val_accuracy: 0.8689 - val_loss: 0.2459\n",
      "Epoch 14/20\n",
      "\u001b[1m23/23\u001b[0m \u001b[32m━━━━━━━━━━━━━━━━━━━━\u001b[0m\u001b[37m\u001b[0m \u001b[1m55s\u001b[0m 2s/step - accuracy: 1.0000 - loss: 9.5754e-04 - val_accuracy: 0.8689 - val_loss: 0.2466\n",
      "Epoch 15/20\n",
      "\u001b[1m23/23\u001b[0m \u001b[32m━━━━━━━━━━━━━━━━━━━━\u001b[0m\u001b[37m\u001b[0m \u001b[1m54s\u001b[0m 2s/step - accuracy: 1.0000 - loss: 7.8511e-04 - val_accuracy: 0.8689 - val_loss: 0.2523\n",
      "Epoch 16/20\n",
      "\u001b[1m23/23\u001b[0m \u001b[32m━━━━━━━━━━━━━━━━━━━━\u001b[0m\u001b[37m\u001b[0m \u001b[1m53s\u001b[0m 2s/step - accuracy: 1.0000 - loss: 7.5053e-04 - val_accuracy: 0.8689 - val_loss: 0.2396\n",
      "Epoch 17/20\n",
      "\u001b[1m23/23\u001b[0m \u001b[32m━━━━━━━━━━━━━━━━━━━━\u001b[0m\u001b[37m\u001b[0m \u001b[1m53s\u001b[0m 2s/step - accuracy: 1.0000 - loss: 6.7638e-04 - val_accuracy: 0.8689 - val_loss: 0.2603\n",
      "Epoch 18/20\n",
      "\u001b[1m23/23\u001b[0m \u001b[32m━━━━━━━━━━━━━━━━━━━━\u001b[0m\u001b[37m\u001b[0m \u001b[1m55s\u001b[0m 2s/step - accuracy: 1.0000 - loss: 6.0895e-04 - val_accuracy: 0.8689 - val_loss: 0.2508\n",
      "Epoch 19/20\n",
      "\u001b[1m23/23\u001b[0m \u001b[32m━━━━━━━━━━━━━━━━━━━━\u001b[0m\u001b[37m\u001b[0m \u001b[1m64s\u001b[0m 3s/step - accuracy: 1.0000 - loss: 5.5883e-04 - val_accuracy: 0.8689 - val_loss: 0.2540\n",
      "Epoch 20/20\n",
      "\u001b[1m23/23\u001b[0m \u001b[32m━━━━━━━━━━━━━━━━━━━━\u001b[0m\u001b[37m\u001b[0m \u001b[1m52s\u001b[0m 2s/step - accuracy: 1.0000 - loss: 4.9218e-04 - val_accuracy: 0.8689 - val_loss: 0.2575\n"
     ]
    },
    {
     "data": {
      "text/plain": [
       "<keras.src.callbacks.history.History at 0x2f689dbc140>"
      ]
     },
     "execution_count": 22,
     "metadata": {},
     "output_type": "execute_result"
    }
   ],
   "source": [
    "# Entraînement du modèle avec les données préparées\n",
    "model.fit(X_augmented_train, y_augmented_train_one_hot, epochs=20, validation_data=(X_valid, y_valid_one_hot))\n",
    "\n"
   ]
  },
  {
   "cell_type": "code",
   "execution_count": 23,
   "id": "d254bf97-0a1f-43c0-ac50-4688c01f6d5c",
   "metadata": {},
   "outputs": [
    {
     "name": "stdout",
     "output_type": "stream",
     "text": [
      "\u001b[1m2/2\u001b[0m \u001b[32m━━━━━━━━━━━━━━━━━━━━\u001b[0m\u001b[37m\u001b[0m \u001b[1m7s\u001b[0m 2s/step - accuracy: 0.9573 - loss: 0.1306\n",
      "Précision sur l'ensemble test : 0.95\n"
     ]
    }
   ],
   "source": [
    "# Évaluation sur l'ensemble test\n",
    "loss, accuracy = model.evaluate(X_test, y_test)\n",
    "print(f\"Précision sur l'ensemble test : {accuracy:.2f}\")\n",
    "\n"
   ]
  },
  {
   "cell_type": "code",
   "execution_count": 24,
   "id": "ea4fe2ee-9cd4-4041-b3a3-041d4e04ce38",
   "metadata": {},
   "outputs": [
    {
     "name": "stdout",
     "output_type": "stream",
     "text": [
      "WARNING:tensorflow:5 out of the last 5 calls to <function TensorFlowTrainer.make_predict_function.<locals>.one_step_on_data_distributed at 0x000002F6C2F532E0> triggered tf.function retracing. Tracing is expensive and the excessive number of tracings could be due to (1) creating @tf.function repeatedly in a loop, (2) passing tensors with different shapes, (3) passing Python objects instead of tensors. For (1), please define your @tf.function outside of the loop. For (2), @tf.function has reduce_retracing=True option that can avoid unnecessary retracing. For (3), please refer to https://www.tensorflow.org/guide/function#controlling_retracing and https://www.tensorflow.org/api_docs/python/tf/function for  more details.\n",
      "\u001b[1m1/2\u001b[0m \u001b[32m━━━━━━━━━━\u001b[0m\u001b[37m━━━━━━━━━━\u001b[0m \u001b[1m9s\u001b[0m 10s/stepWARNING:tensorflow:6 out of the last 6 calls to <function TensorFlowTrainer.make_predict_function.<locals>.one_step_on_data_distributed at 0x000002F6C2F532E0> triggered tf.function retracing. Tracing is expensive and the excessive number of tracings could be due to (1) creating @tf.function repeatedly in a loop, (2) passing tensors with different shapes, (3) passing Python objects instead of tensors. For (1), please define your @tf.function outside of the loop. For (2), @tf.function has reduce_retracing=True option that can avoid unnecessary retracing. For (3), please refer to https://www.tensorflow.org/guide/function#controlling_retracing and https://www.tensorflow.org/api_docs/python/tf/function for  more details.\n",
      "\u001b[1m2/2\u001b[0m \u001b[32m━━━━━━━━━━━━━━━━━━━━\u001b[0m\u001b[37m\u001b[0m \u001b[1m19s\u001b[0m 10s/step\n"
     ]
    }
   ],
   "source": [
    "\n",
    "# Prédictions\n",
    "y_pred = model.predict(X_test)\n",
    "y_pred_classes = np.argmax(y_pred, axis=1)\n",
    "y_test_classes = np.argmax(y_test, axis=1)\n",
    "\n"
   ]
  },
  {
   "cell_type": "code",
   "execution_count": 25,
   "id": "a6a4c6f7-e9f0-4718-b071-9d34c079b632",
   "metadata": {},
   "outputs": [
    {
     "name": "stdout",
     "output_type": "stream",
     "text": [
      "Matrice de confusion :\n",
      "[[17  0  1]\n",
      " [ 0 12  1]\n",
      " [ 0  1 30]]\n",
      "Rapport de classification :\n",
      "              precision    recall  f1-score   support\n",
      "\n",
      "     Healthy       1.00      0.94      0.97        18\n",
      "    septoria       0.92      0.92      0.92        13\n",
      " stripe_rust       0.94      0.97      0.95        31\n",
      "\n",
      "    accuracy                           0.95        62\n",
      "   macro avg       0.95      0.95      0.95        62\n",
      "weighted avg       0.95      0.95      0.95        62\n",
      "\n"
     ]
    }
   ],
   "source": [
    "\n",
    "from sklearn.metrics import confusion_matrix, classification_report\n",
    "\n",
    "# Matrice de confusion et rapport de classification\n",
    "conf_matrix = confusion_matrix(y_test_classes, y_pred_classes)\n",
    "print(\"Matrice de confusion :\")\n",
    "print(conf_matrix)\n",
    "\n",
    "print(\"Rapport de classification :\")\n",
    "\n",
    "# Si lb.classes_ contient des entiers, convertissez-les en chaînes\n",
    "target_names = [str(cls) for cls in lb.classes_]\n",
    "\n",
    "# Maintenant, passez-les à la fonction classification_report\n",
    "print(classification_report(y_test_classes, y_pred_classes, target_names=target_names))\n",
    "\n"
   ]
  },
  {
   "cell_type": "markdown",
   "id": "0296f721-0f0a-450b-9ff0-a4e7d45c287b",
   "metadata": {},
   "source": [
    "### _____________________________________________________ MobileNetV2 __________________________________________--"
   ]
  },
  {
   "cell_type": "code",
   "execution_count": 26,
   "id": "901b21bd-cc46-4c86-b2a3-d046a739df90",
   "metadata": {},
   "outputs": [
    {
     "name": "stdout",
     "output_type": "stream",
     "text": [
      "X_augmented_train dtype: float64\n",
      "y_augmented_train dtype: float64\n",
      "Shape of y_train_one_hot: (284, 3)\n",
      "Shape of y_valid_one_hot: (61, 3)\n",
      "Shape of y_augmented_train_one_hot: (730, 3)\n"
     ]
    }
   ],
   "source": [
    "from tensorflow.keras.applications import MobileNetV2\n",
    "\n",
    "# Construction du modèle MobileNetV2\n",
    "MobileNetV2_model = MobileNetV2(input_shape=(224, 224, 3), weights=\"imagenet\", include_top=False)\n",
    "MobileNetV2_model.trainable = False\n",
    "\n",
    "model = models.Sequential([\n",
    "    MobileNetV2_model,\n",
    "    layers.GlobalAveragePooling2D(),\n",
    "    layers.Dense(128, activation='relu'),\n",
    "    layers.Dense(3, activation='softmax')\n",
    "])\n",
    "\n",
    "\n",
    "# Compilation du modèle\n",
    "model.compile(optimizer=\"adam\", loss=\"categorical_crossentropy\", metrics=[\"accuracy\"])\n",
    "\n",
    "# Vérification des types de données\n",
    "print(\"X_augmented_train dtype:\", X_augmented_train.dtype)\n",
    "print(\"y_augmented_train dtype:\", y_augmented_train.dtype)\n",
    "\n",
    "\n",
    "# Si les étiquettes ne sont pas déjà one-hot, appliquez `to_categorical`\n",
    "if len(y_train.shape) == 1:\n",
    "    y_train_one_hot = to_categorical(y_train, num_classes=3)\n",
    "else:\n",
    "    y_train_one_hot = y_train  # Les étiquettes sont déjà en one-hot encoding\n",
    "\n",
    "if len(y_valid.shape) == 1:\n",
    "    y_valid_one_hot = to_categorical(y_valid, num_classes=3)\n",
    "else:\n",
    "    y_valid_one_hot = y_valid  # Les étiquettes sont déjà en one-hot encoding\n",
    "\n",
    "if len(y_augmented_train.shape) == 1:\n",
    "    y_augmented_train_one_hot = to_categorical(y_augmented_train, num_classes=3)\n",
    "else:\n",
    "    y_augmented_train_one_hot = y_augmented_train  # Les étiquettes sont déjà en one-hot encoding\n",
    "\n",
    "# Vérification des formes des étiquettes avant de continuer\n",
    "print(\"Shape of y_train_one_hot:\", y_train_one_hot.shape)\n",
    "print(\"Shape of y_valid_one_hot:\", y_valid_one_hot.shape)\n",
    "print(\"Shape of y_augmented_train_one_hot:\", y_augmented_train_one_hot.shape)\n",
    "\n"
   ]
  },
  {
   "cell_type": "code",
   "execution_count": 27,
   "id": "669a00c9-2dea-4e0f-a462-78221c5e26db",
   "metadata": {},
   "outputs": [
    {
     "name": "stdout",
     "output_type": "stream",
     "text": [
      "Epoch 1/20\n",
      "\u001b[1m23/23\u001b[0m \u001b[32m━━━━━━━━━━━━━━━━━━━━\u001b[0m\u001b[37m\u001b[0m \u001b[1m51s\u001b[0m 979ms/step - accuracy: 0.6412 - loss: 0.7339 - val_accuracy: 0.8689 - val_loss: 0.2819\n",
      "Epoch 2/20\n",
      "\u001b[1m23/23\u001b[0m \u001b[32m━━━━━━━━━━━━━━━━━━━━\u001b[0m\u001b[37m\u001b[0m \u001b[1m14s\u001b[0m 617ms/step - accuracy: 0.9582 - loss: 0.1246 - val_accuracy: 0.9672 - val_loss: 0.1668\n",
      "Epoch 3/20\n",
      "\u001b[1m23/23\u001b[0m \u001b[32m━━━━━━━━━━━━━━━━━━━━\u001b[0m\u001b[37m\u001b[0m \u001b[1m13s\u001b[0m 539ms/step - accuracy: 0.9873 - loss: 0.0501 - val_accuracy: 0.9180 - val_loss: 0.1660\n",
      "Epoch 4/20\n",
      "\u001b[1m23/23\u001b[0m \u001b[32m━━━━━━━━━━━━━━━━━━━━\u001b[0m\u001b[37m\u001b[0m \u001b[1m11s\u001b[0m 495ms/step - accuracy: 1.0000 - loss: 0.0149 - val_accuracy: 0.9180 - val_loss: 0.1599\n",
      "Epoch 5/20\n",
      "\u001b[1m23/23\u001b[0m \u001b[32m━━━━━━━━━━━━━━━━━━━━\u001b[0m\u001b[37m\u001b[0m \u001b[1m11s\u001b[0m 492ms/step - accuracy: 1.0000 - loss: 0.0105 - val_accuracy: 0.9180 - val_loss: 0.1705\n",
      "Epoch 6/20\n",
      "\u001b[1m23/23\u001b[0m \u001b[32m━━━━━━━━━━━━━━━━━━━━\u001b[0m\u001b[37m\u001b[0m \u001b[1m12s\u001b[0m 537ms/step - accuracy: 1.0000 - loss: 0.0075 - val_accuracy: 0.9180 - val_loss: 0.1683\n",
      "Epoch 7/20\n",
      "\u001b[1m23/23\u001b[0m \u001b[32m━━━━━━━━━━━━━━━━━━━━\u001b[0m\u001b[37m\u001b[0m \u001b[1m18s\u001b[0m 787ms/step - accuracy: 1.0000 - loss: 0.0055 - val_accuracy: 0.9180 - val_loss: 0.1634\n",
      "Epoch 8/20\n",
      "\u001b[1m23/23\u001b[0m \u001b[32m━━━━━━━━━━━━━━━━━━━━\u001b[0m\u001b[37m\u001b[0m \u001b[1m21s\u001b[0m 813ms/step - accuracy: 1.0000 - loss: 0.0037 - val_accuracy: 0.9180 - val_loss: 0.1670\n",
      "Epoch 9/20\n",
      "\u001b[1m23/23\u001b[0m \u001b[32m━━━━━━━━━━━━━━━━━━━━\u001b[0m\u001b[37m\u001b[0m \u001b[1m14s\u001b[0m 617ms/step - accuracy: 1.0000 - loss: 0.0032 - val_accuracy: 0.9180 - val_loss: 0.1692\n",
      "Epoch 10/20\n",
      "\u001b[1m23/23\u001b[0m \u001b[32m━━━━━━━━━━━━━━━━━━━━\u001b[0m\u001b[37m\u001b[0m \u001b[1m18s\u001b[0m 786ms/step - accuracy: 1.0000 - loss: 0.0027 - val_accuracy: 0.9344 - val_loss: 0.1688\n",
      "Epoch 11/20\n",
      "\u001b[1m23/23\u001b[0m \u001b[32m━━━━━━━━━━━━━━━━━━━━\u001b[0m\u001b[37m\u001b[0m \u001b[1m15s\u001b[0m 658ms/step - accuracy: 1.0000 - loss: 0.0022 - val_accuracy: 0.9344 - val_loss: 0.1632\n",
      "Epoch 12/20\n",
      "\u001b[1m23/23\u001b[0m \u001b[32m━━━━━━━━━━━━━━━━━━━━\u001b[0m\u001b[37m\u001b[0m \u001b[1m14s\u001b[0m 592ms/step - accuracy: 1.0000 - loss: 0.0019 - val_accuracy: 0.9180 - val_loss: 0.1773\n",
      "Epoch 13/20\n",
      "\u001b[1m23/23\u001b[0m \u001b[32m━━━━━━━━━━━━━━━━━━━━\u001b[0m\u001b[37m\u001b[0m \u001b[1m17s\u001b[0m 753ms/step - accuracy: 1.0000 - loss: 0.0016 - val_accuracy: 0.9344 - val_loss: 0.1732\n",
      "Epoch 14/20\n",
      "\u001b[1m23/23\u001b[0m \u001b[32m━━━━━━━━━━━━━━━━━━━━\u001b[0m\u001b[37m\u001b[0m \u001b[1m19s\u001b[0m 643ms/step - accuracy: 1.0000 - loss: 0.0013 - val_accuracy: 0.9344 - val_loss: 0.1731\n",
      "Epoch 15/20\n",
      "\u001b[1m23/23\u001b[0m \u001b[32m━━━━━━━━━━━━━━━━━━━━\u001b[0m\u001b[37m\u001b[0m \u001b[1m14s\u001b[0m 576ms/step - accuracy: 1.0000 - loss: 0.0013 - val_accuracy: 0.9344 - val_loss: 0.1778\n",
      "Epoch 16/20\n",
      "\u001b[1m23/23\u001b[0m \u001b[32m━━━━━━━━━━━━━━━━━━━━\u001b[0m\u001b[37m\u001b[0m \u001b[1m13s\u001b[0m 552ms/step - accuracy: 1.0000 - loss: 0.0010 - val_accuracy: 0.9344 - val_loss: 0.1809\n",
      "Epoch 17/20\n",
      "\u001b[1m23/23\u001b[0m \u001b[32m━━━━━━━━━━━━━━━━━━━━\u001b[0m\u001b[37m\u001b[0m \u001b[1m12s\u001b[0m 532ms/step - accuracy: 1.0000 - loss: 8.8424e-04 - val_accuracy: 0.9344 - val_loss: 0.1846\n",
      "Epoch 18/20\n",
      "\u001b[1m23/23\u001b[0m \u001b[32m━━━━━━━━━━━━━━━━━━━━\u001b[0m\u001b[37m\u001b[0m \u001b[1m12s\u001b[0m 543ms/step - accuracy: 1.0000 - loss: 8.7620e-04 - val_accuracy: 0.9344 - val_loss: 0.1796\n",
      "Epoch 19/20\n",
      "\u001b[1m23/23\u001b[0m \u001b[32m━━━━━━━━━━━━━━━━━━━━\u001b[0m\u001b[37m\u001b[0m \u001b[1m15s\u001b[0m 642ms/step - accuracy: 1.0000 - loss: 8.2491e-04 - val_accuracy: 0.9344 - val_loss: 0.1834\n",
      "Epoch 20/20\n",
      "\u001b[1m23/23\u001b[0m \u001b[32m━━━━━━━━━━━━━━━━━━━━\u001b[0m\u001b[37m\u001b[0m \u001b[1m14s\u001b[0m 578ms/step - accuracy: 1.0000 - loss: 6.6548e-04 - val_accuracy: 0.9344 - val_loss: 0.1892\n"
     ]
    },
    {
     "data": {
      "text/plain": [
       "<keras.src.callbacks.history.History at 0x2f6de271a30>"
      ]
     },
     "execution_count": 27,
     "metadata": {},
     "output_type": "execute_result"
    }
   ],
   "source": [
    "# Entraînement du modèle avec les données préparées\n",
    "model.fit(X_augmented_train, y_augmented_train_one_hot, epochs=20, validation_data=(X_valid, y_valid_one_hot))\n",
    "\n"
   ]
  },
  {
   "cell_type": "code",
   "execution_count": 28,
   "id": "f321181f-f984-4b05-a272-f3dd9e5eab9b",
   "metadata": {},
   "outputs": [
    {
     "name": "stdout",
     "output_type": "stream",
     "text": [
      "\u001b[1m2/2\u001b[0m \u001b[32m━━━━━━━━━━━━━━━━━━━━\u001b[0m\u001b[37m\u001b[0m \u001b[1m3s\u001b[0m 1s/step - accuracy: 0.9150 - loss: 0.1541\n",
      "Précision sur l'ensemble test : 0.92\n"
     ]
    }
   ],
   "source": [
    "# Évaluation sur l'ensemble test\n",
    "loss, accuracy = model.evaluate(X_test, y_test)\n",
    "print(f\"Précision sur l'ensemble test : {accuracy:.2f}\")\n",
    "\n",
    "\n"
   ]
  },
  {
   "cell_type": "code",
   "execution_count": 29,
   "id": "4e67a28a-6989-4f11-b8c3-5837ee4a33b6",
   "metadata": {},
   "outputs": [
    {
     "name": "stdout",
     "output_type": "stream",
     "text": [
      "\u001b[1m2/2\u001b[0m \u001b[32m━━━━━━━━━━━━━━━━━━━━\u001b[0m\u001b[37m\u001b[0m \u001b[1m11s\u001b[0m 5s/step\n"
     ]
    }
   ],
   "source": [
    "# Prédictions\n",
    "y_pred = model.predict(X_test)\n",
    "y_pred_classes = np.argmax(y_pred, axis=1)\n",
    "y_test_classes = np.argmax(y_test, axis=1)\n",
    "\n"
   ]
  },
  {
   "cell_type": "code",
   "execution_count": 30,
   "id": "3a2c4a1b-535b-4a6e-bd99-b44c40486888",
   "metadata": {},
   "outputs": [
    {
     "name": "stdout",
     "output_type": "stream",
     "text": [
      "Matrice de confusion :\n",
      "[[15  0  3]\n",
      " [ 0 12  1]\n",
      " [ 1  0 30]]\n",
      "Rapport de classification :\n",
      "              precision    recall  f1-score   support\n",
      "\n",
      "     Healthy       0.94      0.83      0.88        18\n",
      "    septoria       1.00      0.92      0.96        13\n",
      " stripe_rust       0.88      0.97      0.92        31\n",
      "\n",
      "    accuracy                           0.92        62\n",
      "   macro avg       0.94      0.91      0.92        62\n",
      "weighted avg       0.92      0.92      0.92        62\n",
      "\n"
     ]
    }
   ],
   "source": [
    "\n",
    "from sklearn.metrics import confusion_matrix, classification_report\n",
    "\n",
    "# Matrice de confusion et rapport de classification\n",
    "conf_matrix = confusion_matrix(y_test_classes, y_pred_classes)\n",
    "print(\"Matrice de confusion :\")\n",
    "print(conf_matrix)\n",
    "\n",
    "print(\"Rapport de classification :\")\n",
    "\n",
    "# Si lb.classes_ contient des entiers, convertissez-les en chaînes\n",
    "target_names = [str(cls) for cls in lb.classes_]\n",
    "\n",
    "# Maintenant, passez-les à la fonction classification_report\n",
    "print(classification_report(y_test_classes, y_pred_classes, target_names=target_names))\n",
    "\n"
   ]
  },
  {
   "cell_type": "code",
   "execution_count": null,
   "id": "38c7d8ba-9943-4848-8c62-228d79107491",
   "metadata": {},
   "outputs": [],
   "source": []
  }
 ],
 "metadata": {
  "kernelspec": {
   "display_name": "Python 3 (ipykernel)",
   "language": "python",
   "name": "python3"
  },
  "language_info": {
   "codemirror_mode": {
    "name": "ipython",
    "version": 3
   },
   "file_extension": ".py",
   "mimetype": "text/x-python",
   "name": "python",
   "nbconvert_exporter": "python",
   "pygments_lexer": "ipython3",
   "version": "3.12.7"
  }
 },
 "nbformat": 4,
 "nbformat_minor": 5
}
