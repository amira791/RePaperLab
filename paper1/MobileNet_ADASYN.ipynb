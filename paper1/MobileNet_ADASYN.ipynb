{
 "cells": [
  {
   "cell_type": "code",
   "execution_count": 111,
   "id": "0ea378c1-7cc8-4ddc-a0db-17038a7235e7",
   "metadata": {},
   "outputs": [],
   "source": [
    "from imblearn.over_sampling import ADASYN\n",
    "from tensorflow.keras.applications import MobileNetV2\n",
    "from tensorflow.keras.preprocessing.image import ImageDataGenerator\n",
    "from sklearn.model_selection import train_test_split\n",
    "from sklearn.preprocessing import LabelBinarizer\n",
    "import numpy as np\n",
    "import cv2\n",
    "import os"
   ]
  },
  {
   "cell_type": "code",
   "execution_count": 112,
   "id": "793b77cf-1640-4496-acd5-706d7f42fddf",
   "metadata": {},
   "outputs": [],
   "source": [
    "# Load dataset\n",
    "def load_images_and_labels(dataset_path, img_size=(224, 224)):\n",
    "    images, labels = [], []\n",
    "    for label_dir in os.listdir(dataset_path):\n",
    "        for img_file in os.listdir(os.path.join(dataset_path, label_dir)):\n",
    "            img_path = os.path.join(dataset_path, label_dir, img_file)\n",
    "            image = cv2.imread(img_path)\n",
    "            image = cv2.resize(image, img_size)\n",
    "            images.append(image)\n",
    "            labels.append(label_dir)\n",
    "    return np.array(images), np.array(labels)\n"
   ]
  },
  {
   "cell_type": "code",
   "execution_count": 113,
   "id": "a3ab8d36-7ab3-4d57-abd9-7b8caf5da2e3",
   "metadata": {},
   "outputs": [],
   "source": [
    "images, labels = load_images_and_labels(\"./wheat_leaf\")\n",
    "images = images / 255.0 "
   ]
  },
  {
   "cell_type": "code",
   "execution_count": 114,
   "id": "747444a8-30af-47e4-a3b9-1fb42a00bce3",
   "metadata": {},
   "outputs": [],
   "source": [
    "# Encode labels\n",
    "lb = LabelBinarizer()\n",
    "labels = lb.fit_transform(labels)"
   ]
  },
  {
   "cell_type": "code",
   "execution_count": 115,
   "id": "23d65141-af7a-40dc-8a0c-0e34daef3211",
   "metadata": {},
   "outputs": [],
   "source": [
    "# Split into train, validation, and test sets\n",
    "X_train, X_temp, y_train, y_temp = train_test_split(images, labels, test_size=0.3, random_state=42)\n",
    "X_valid, X_test, y_valid, y_test = train_test_split(X_temp, y_temp, test_size=0.5, random_state=42)\n"
   ]
  },
  {
   "cell_type": "code",
   "execution_count": 167,
   "id": "eb5ed1f4-4792-40a6-b42c-913b376778a3",
   "metadata": {},
   "outputs": [
    {
     "name": "stdout",
     "output_type": "stream",
     "text": [
      "Class distribution in the training set: Counter({2: 150, 1: 70, 0: 64})\n"
     ]
    }
   ],
   "source": [
    "from collections import Counter\n",
    "\n",
    "# Check class distribution in the training set\n",
    "from collections import Counter\n",
    "class_distribution = Counter(np.argmax(y_train, axis=1))\n",
    "print(\"Class distribution in the training set:\", class_distribution)\n",
    "\n",
    "# Calculate the desired number of samples per class based on your strategy\n",
    "majority_class_count = max(class_distribution.values())\n",
    "sampling_strategy = {class_id: majority_class_count for class_id in class_distribution.keys()}\n",
    "\n",
    "# Apply ADASYN with the sampling strategy for each class\n",
    "X_train_flattened = X_train.reshape(X_train.shape[0], -1)\n",
    "adasyn = ADASYN(sampling_strategy=sampling_strategy, random_state=42, n_neighbors=5)\n",
    "X_resampled, y_resampled = adasyn.fit_resample(X_train_flattened, y_train)\n",
    "\n",
    "# Reshape back to image dimensions\n",
    "X_resampled = X_resampled.reshape(-1, 224, 224, 3)\n"
   ]
  },
  {
   "cell_type": "code",
   "execution_count": 168,
   "id": "8bb25999-64b3-4a85-a613-5bf3ec1b4645",
   "metadata": {},
   "outputs": [],
   "source": [
    "# Build the model using MobileNetV2\n",
    "mobilenet = MobileNetV2(input_shape=(224, 224, 3), weights=\"imagenet\", include_top=False)\n",
    "mobilenet.trainable = False\n",
    "\n",
    "model = models.Sequential([\n",
    "    mobilenet,\n",
    "    layers.GlobalAveragePooling2D(),\n",
    "    layers.Dense(128, activation='relu'),  # Dense layer for feature learning\n",
    "    layers.Dense(3, activation='softmax')  # Output layer for 3 classes\n",
    "])"
   ]
  },
  {
   "cell_type": "code",
   "execution_count": 169,
   "id": "925369f5-3a54-4987-aff6-aca5be8dcae8",
   "metadata": {},
   "outputs": [],
   "source": [
    "model.compile(optimizer=\"adam\", loss=\"categorical_crossentropy\", metrics=[\"accuracy\"])"
   ]
  },
  {
   "cell_type": "code",
   "execution_count": 173,
   "id": "9ed98225-7e65-476c-9b69-e11e7c1225c2",
   "metadata": {
    "scrolled": true
   },
   "outputs": [
    {
     "name": "stdout",
     "output_type": "stream",
     "text": [
      "Epoch 1/20\n",
      "\u001b[1m15/15\u001b[0m \u001b[32m━━━━━━━━━━━━━━━━━━━━\u001b[0m\u001b[37m\u001b[0m \u001b[1m12s\u001b[0m 712ms/step - accuracy: 1.0000 - loss: 0.0058 - val_accuracy: 0.9180 - val_loss: 0.1427\n",
      "Epoch 2/20\n",
      "\u001b[1m15/15\u001b[0m \u001b[32m━━━━━━━━━━━━━━━━━━━━\u001b[0m\u001b[37m\u001b[0m \u001b[1m20s\u001b[0m 646ms/step - accuracy: 1.0000 - loss: 0.0045 - val_accuracy: 0.9508 - val_loss: 0.1282\n",
      "Epoch 3/20\n",
      "\u001b[1m15/15\u001b[0m \u001b[32m━━━━━━━━━━━━━━━━━━━━\u001b[0m\u001b[37m\u001b[0m \u001b[1m9s\u001b[0m 634ms/step - accuracy: 1.0000 - loss: 0.0038 - val_accuracy: 0.9508 - val_loss: 0.1324\n",
      "Epoch 4/20\n",
      "\u001b[1m15/15\u001b[0m \u001b[32m━━━━━━━━━━━━━━━━━━━━\u001b[0m\u001b[37m\u001b[0m \u001b[1m9s\u001b[0m 619ms/step - accuracy: 1.0000 - loss: 0.0040 - val_accuracy: 0.9508 - val_loss: 0.1285\n",
      "Epoch 5/20\n",
      "\u001b[1m15/15\u001b[0m \u001b[32m━━━━━━━━━━━━━━━━━━━━\u001b[0m\u001b[37m\u001b[0m \u001b[1m10s\u001b[0m 651ms/step - accuracy: 1.0000 - loss: 0.0034 - val_accuracy: 0.9344 - val_loss: 0.1408\n",
      "Epoch 6/20\n",
      "\u001b[1m15/15\u001b[0m \u001b[32m━━━━━━━━━━━━━━━━━━━━\u001b[0m\u001b[37m\u001b[0m \u001b[1m9s\u001b[0m 598ms/step - accuracy: 1.0000 - loss: 0.0027 - val_accuracy: 0.9508 - val_loss: 0.1328\n",
      "Epoch 7/20\n",
      "\u001b[1m15/15\u001b[0m \u001b[32m━━━━━━━━━━━━━━━━━━━━\u001b[0m\u001b[37m\u001b[0m \u001b[1m9s\u001b[0m 574ms/step - accuracy: 1.0000 - loss: 0.0026 - val_accuracy: 0.9508 - val_loss: 0.1344\n",
      "Epoch 8/20\n",
      "\u001b[1m15/15\u001b[0m \u001b[32m━━━━━━━━━━━━━━━━━━━━\u001b[0m\u001b[37m\u001b[0m \u001b[1m8s\u001b[0m 568ms/step - accuracy: 1.0000 - loss: 0.0025 - val_accuracy: 0.9508 - val_loss: 0.1370\n",
      "Epoch 9/20\n",
      "\u001b[1m15/15\u001b[0m \u001b[32m━━━━━━━━━━━━━━━━━━━━\u001b[0m\u001b[37m\u001b[0m \u001b[1m8s\u001b[0m 561ms/step - accuracy: 1.0000 - loss: 0.0021 - val_accuracy: 0.9508 - val_loss: 0.1402\n",
      "Epoch 10/20\n",
      "\u001b[1m15/15\u001b[0m \u001b[32m━━━━━━━━━━━━━━━━━━━━\u001b[0m\u001b[37m\u001b[0m \u001b[1m10s\u001b[0m 657ms/step - accuracy: 1.0000 - loss: 0.0020 - val_accuracy: 0.9508 - val_loss: 0.1338\n",
      "Epoch 11/20\n",
      "\u001b[1m15/15\u001b[0m \u001b[32m━━━━━━━━━━━━━━━━━━━━\u001b[0m\u001b[37m\u001b[0m \u001b[1m10s\u001b[0m 659ms/step - accuracy: 1.0000 - loss: 0.0018 - val_accuracy: 0.9508 - val_loss: 0.1392\n",
      "Epoch 12/20\n",
      "\u001b[1m15/15\u001b[0m \u001b[32m━━━━━━━━━━━━━━━━━━━━\u001b[0m\u001b[37m\u001b[0m \u001b[1m11s\u001b[0m 755ms/step - accuracy: 1.0000 - loss: 0.0015 - val_accuracy: 0.9508 - val_loss: 0.1387\n",
      "Epoch 13/20\n",
      "\u001b[1m15/15\u001b[0m \u001b[32m━━━━━━━━━━━━━━━━━━━━\u001b[0m\u001b[37m\u001b[0m \u001b[1m10s\u001b[0m 639ms/step - accuracy: 1.0000 - loss: 0.0014 - val_accuracy: 0.9508 - val_loss: 0.1379\n",
      "Epoch 14/20\n",
      "\u001b[1m15/15\u001b[0m \u001b[32m━━━━━━━━━━━━━━━━━━━━\u001b[0m\u001b[37m\u001b[0m \u001b[1m8s\u001b[0m 564ms/step - accuracy: 1.0000 - loss: 0.0013 - val_accuracy: 0.9508 - val_loss: 0.1443\n",
      "Epoch 15/20\n",
      "\u001b[1m15/15\u001b[0m \u001b[32m━━━━━━━━━━━━━━━━━━━━\u001b[0m\u001b[37m\u001b[0m \u001b[1m9s\u001b[0m 627ms/step - accuracy: 1.0000 - loss: 0.0012 - val_accuracy: 0.9508 - val_loss: 0.1399\n",
      "Epoch 16/20\n",
      "\u001b[1m15/15\u001b[0m \u001b[32m━━━━━━━━━━━━━━━━━━━━\u001b[0m\u001b[37m\u001b[0m \u001b[1m9s\u001b[0m 626ms/step - accuracy: 1.0000 - loss: 0.0011 - val_accuracy: 0.9344 - val_loss: 0.1458\n",
      "Epoch 17/20\n",
      "\u001b[1m15/15\u001b[0m \u001b[32m━━━━━━━━━━━━━━━━━━━━\u001b[0m\u001b[37m\u001b[0m \u001b[1m9s\u001b[0m 603ms/step - accuracy: 1.0000 - loss: 9.9815e-04 - val_accuracy: 0.9508 - val_loss: 0.1433\n",
      "Epoch 18/20\n",
      "\u001b[1m15/15\u001b[0m \u001b[32m━━━━━━━━━━━━━━━━━━━━\u001b[0m\u001b[37m\u001b[0m \u001b[1m9s\u001b[0m 615ms/step - accuracy: 1.0000 - loss: 9.2174e-04 - val_accuracy: 0.9344 - val_loss: 0.1483\n",
      "Epoch 19/20\n",
      "\u001b[1m15/15\u001b[0m \u001b[32m━━━━━━━━━━━━━━━━━━━━\u001b[0m\u001b[37m\u001b[0m \u001b[1m9s\u001b[0m 588ms/step - accuracy: 1.0000 - loss: 9.3440e-04 - val_accuracy: 0.9344 - val_loss: 0.1505\n",
      "Epoch 20/20\n",
      "\u001b[1m15/15\u001b[0m \u001b[32m━━━━━━━━━━━━━━━━━━━━\u001b[0m\u001b[37m\u001b[0m \u001b[1m9s\u001b[0m 630ms/step - accuracy: 1.0000 - loss: 6.9233e-04 - val_accuracy: 0.9508 - val_loss: 0.1501\n"
     ]
    },
    {
     "data": {
      "text/plain": [
       "<keras.src.callbacks.history.History at 0x2c547bdafc0>"
      ]
     },
     "execution_count": 173,
     "metadata": {},
     "output_type": "execute_result"
    }
   ],
   "source": [
    "model.fit(X_resampled, y_resampled, epochs=20, validation_data=(X_valid, y_valid)) "
   ]
  },
  {
   "cell_type": "code",
   "execution_count": 174,
   "id": "6c119c6e-1059-4b7b-9db4-b4c5d4961d9b",
   "metadata": {},
   "outputs": [
    {
     "name": "stdout",
     "output_type": "stream",
     "text": [
      "\u001b[1m2/2\u001b[0m \u001b[32m━━━━━━━━━━━━━━━━━━━━\u001b[0m\u001b[37m\u001b[0m \u001b[1m3s\u001b[0m 1s/step - accuracy: 0.9362 - loss: 0.1190\n",
      "Test accuracy: 0.94\n"
     ]
    }
   ],
   "source": [
    "loss, accuracy = model.evaluate(X_test, y_test)\n",
    "print(f'Test accuracy: {accuracy:.2f}')"
   ]
  },
  {
   "cell_type": "code",
   "execution_count": 175,
   "id": "5566f55a-de16-4857-8a11-d57adc12cd63",
   "metadata": {},
   "outputs": [
    {
     "name": "stdout",
     "output_type": "stream",
     "text": [
      "\u001b[1m2/2\u001b[0m \u001b[32m━━━━━━━━━━━━━━━━━━━━\u001b[0m\u001b[37m\u001b[0m \u001b[1m11s\u001b[0m 5s/step\n"
     ]
    }
   ],
   "source": [
    "# Generate predictions\n",
    "y_pred = model.predict(X_test)\n",
    "y_pred_classes = np.argmax(y_pred, axis=1)\n",
    "y_test_classes = np.argmax(y_test, axis=1)\n"
   ]
  },
  {
   "cell_type": "code",
   "execution_count": 176,
   "id": "a004ab4e-e7e6-40d7-9197-0a365289315b",
   "metadata": {},
   "outputs": [
    {
     "name": "stdout",
     "output_type": "stream",
     "text": [
      "Confusion Matrix:\n",
      "[[16  0  2]\n",
      " [ 0 12  1]\n",
      " [ 1  0 30]]\n",
      "Classification Report:\n",
      "              precision    recall  f1-score   support\n",
      "\n",
      "     Healthy       0.94      0.89      0.91        18\n",
      "    septoria       1.00      0.92      0.96        13\n",
      " stripe_rust       0.91      0.97      0.94        31\n",
      "\n",
      "    accuracy                           0.94        62\n",
      "   macro avg       0.95      0.93      0.94        62\n",
      "weighted avg       0.94      0.94      0.94        62\n",
      "\n"
     ]
    }
   ],
   "source": [
    "from sklearn.metrics import confusion_matrix\n",
    "from sklearn.metrics import classification_report\n",
    "\n",
    "# Confusion Matrix and Classification Report\n",
    "conf_matrix = confusion_matrix(y_test_classes, y_pred_classes)\n",
    "print(\"Confusion Matrix:\")\n",
    "print(conf_matrix)\n",
    "\n",
    "print(\"Classification Report:\")\n",
    "print(classification_report(y_test_classes, y_pred_classes, target_names=lb.classes_))\n"
   ]
  },
  {
   "cell_type": "code",
   "execution_count": 177,
   "id": "ad215973-4be6-4b42-b0e3-d4305c10cb22",
   "metadata": {},
   "outputs": [
    {
     "name": "stderr",
     "output_type": "stream",
     "text": [
      "WARNING:absl:You are saving your model as an HDF5 file via `model.save()` or `keras.saving.save_model(model)`. This file format is considered legacy. We recommend using instead the native Keras format, e.g. `model.save('my_model.keras')` or `keras.saving.save_model(model, 'my_model.keras')`. \n"
     ]
    }
   ],
   "source": [
    "# Save the model\n",
    "model.save(\"mobilenet_v2_model.h5\")"
   ]
  },
  {
   "cell_type": "code",
   "execution_count": 178,
   "id": "05046537-4087-4093-b441-6c8762a5407f",
   "metadata": {},
   "outputs": [
    {
     "name": "stderr",
     "output_type": "stream",
     "text": [
      "WARNING:absl:Compiled the loaded model, but the compiled metrics have yet to be built. `model.compile_metrics` will be empty until you train or evaluate the model.\n"
     ]
    },
    {
     "name": "stdout",
     "output_type": "stream",
     "text": [
      "\u001b[1m1/1\u001b[0m \u001b[32m━━━━━━━━━━━━━━━━━━━━\u001b[0m\u001b[37m\u001b[0m \u001b[1m5s\u001b[0m 5s/step\n",
      "The predicted label for the test image is: stripe_rust\n"
     ]
    }
   ],
   "source": [
    "# Test the model with a new image\n",
    "def predict_image(model, image_path, label_binarizer):\n",
    "    # Load and preprocess the test image\n",
    "    image = cv2.imread(image_path)\n",
    "    image = cv2.resize(image, (224, 224))\n",
    "    image = image / 255.0  # Normalize\n",
    "    image = np.expand_dims(image, axis=0)  # Add batch dimension\n",
    "    \n",
    "    # Predict the class\n",
    "    prediction = model.predict(image)\n",
    "    predicted_class = np.argmax(prediction, axis=1)\n",
    "    \n",
    "    # Decode the label\n",
    "    decoded_label = label_binarizer.inverse_transform(prediction)\n",
    "    return decoded_label[0]\n",
    "\n",
    "# Load the saved model\n",
    "from tensorflow.keras.models import load_model\n",
    "model = load_model(\"mobilenet_v2_model.h5\")\n",
    "\n",
    "# Test with \"test.jpg\"\n",
    "test_image_path = \"test.jpg\"\n",
    "predicted_label = predict_image(model, test_image_path, lb)\n",
    "print(f\"The predicted label for the test image is: {predicted_label}\")"
   ]
  },
  {
   "cell_type": "code",
   "execution_count": null,
   "id": "e0718ea1-76ed-491d-8ee5-05ba9b36b643",
   "metadata": {},
   "outputs": [],
   "source": []
  }
 ],
 "metadata": {
  "kernelspec": {
   "display_name": "Python 3 (ipykernel)",
   "language": "python",
   "name": "python3"
  },
  "language_info": {
   "codemirror_mode": {
    "name": "ipython",
    "version": 3
   },
   "file_extension": ".py",
   "mimetype": "text/x-python",
   "name": "python",
   "nbconvert_exporter": "python",
   "pygments_lexer": "ipython3",
   "version": "3.12.7"
  }
 },
 "nbformat": 4,
 "nbformat_minor": 5
}
