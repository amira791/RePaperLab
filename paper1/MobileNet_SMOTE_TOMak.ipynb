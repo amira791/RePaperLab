{
 "cells": [
  {
   "cell_type": "code",
   "execution_count": 1,
   "id": "b14b2adc-dd8f-4708-9ee4-9eebeabc691d",
   "metadata": {},
   "outputs": [],
   "source": [
    "from imblearn.over_sampling import SMOTE\n",
    "from tensorflow.keras.applications import MobileNetV2\n",
    "from tensorflow.keras.preprocessing.image import ImageDataGenerator\n",
    "from tensorflow.keras import layers, models\n",
    "from sklearn.model_selection import train_test_split\n",
    "from sklearn.preprocessing import LabelBinarizer\n",
    "import numpy as np\n",
    "import cv2\n",
    "import os\n"
   ]
  },
  {
   "cell_type": "code",
   "execution_count": 2,
   "id": "cf46f1f5-da1d-4f24-b312-f1184718427a",
   "metadata": {},
   "outputs": [],
   "source": [
    "# Load dataset\n",
    "def load_images_and_labels(dataset_path, img_size=(224, 224)):\n",
    "    images, labels = [], []\n",
    "    for label_dir in os.listdir(dataset_path):\n",
    "        for img_file in os.listdir(os.path.join(dataset_path, label_dir)):\n",
    "            img_path = os.path.join(dataset_path, label_dir, img_file)\n",
    "            image = cv2.imread(img_path)\n",
    "            image = cv2.resize(image, img_size)\n",
    "            images.append(image)\n",
    "            labels.append(label_dir)\n",
    "    return np.array(images), np.array(labels)\n",
    "\n",
    "images, labels = load_images_and_labels(\"./wheat_leaf\")\n",
    "images = images / 255.0  # Normalize the images to [0, 1] range"
   ]
  },
  {
   "cell_type": "code",
   "execution_count": 3,
   "id": "ebfd8a86-a401-4a89-8cc9-b5d6704c4b4f",
   "metadata": {},
   "outputs": [],
   "source": [
    "# Encode labels\n",
    "lb = LabelBinarizer()\n",
    "labels = lb.fit_transform(labels)\n"
   ]
  },
  {
   "cell_type": "code",
   "execution_count": 4,
   "id": "2e495165-d7ec-4ae1-9400-223b6bd5cc7f",
   "metadata": {},
   "outputs": [],
   "source": [
    "# Split into train, validation, and test sets\n",
    "X_train, X_temp, y_train, y_temp = train_test_split(images, labels, test_size=0.3, random_state=42)\n",
    "X_valid, X_test, y_valid, y_test = train_test_split(X_temp, y_temp, test_size=0.5, random_state=42)\n"
   ]
  },
  {
   "cell_type": "code",
   "execution_count": 6,
   "id": "1d35f69d-992c-4a65-adf9-7415873cf217",
   "metadata": {},
   "outputs": [
    {
     "name": "stdout",
     "output_type": "stream",
     "text": [
      "Class distribution in the training set: Counter({2: 150, 1: 70, 0: 64})\n"
     ]
    }
   ],
   "source": [
    "from imblearn.combine import SMOTETomek\n",
    "\n",
    "# Check class distribution in the training set\n",
    "from collections import Counter\n",
    "class_distribution = Counter(np.argmax(y_train, axis=1))\n",
    "print(\"Class distribution in the training set:\", class_distribution)\n",
    "\n",
    "# Apply SMOTETomek for oversampling the minority class and cleaning noisy samples\n",
    "X_train_flattened = X_train.reshape(X_train.shape[0], -1)  # Flatten images for SMOTETomek\n",
    "smotetomek = SMOTETomek(random_state=42)\n",
    "X_resampled, y_resampled = smotetomek.fit_resample(X_train_flattened, y_train)\n",
    "\n",
    "# Reshape back to image dimensions after SMOTE\n",
    "X_resampled = X_resampled.reshape(-1, 224, 224, 3)\n"
   ]
  },
  {
   "cell_type": "code",
   "execution_count": 7,
   "id": "0a1f832b-f2a8-49c5-b6a4-ad644301865a",
   "metadata": {},
   "outputs": [],
   "source": [
    "# Build the model using MobileNetV2\n",
    "mobilenet = MobileNetV2(input_shape=(224, 224, 3), weights=\"imagenet\", include_top=False)\n",
    "mobilenet.trainable = False  # Freeze the MobileNetV2 layers\n"
   ]
  },
  {
   "cell_type": "code",
   "execution_count": 8,
   "id": "c1d75d2a-037f-4261-86e3-85f88831d06a",
   "metadata": {},
   "outputs": [],
   "source": [
    "model = models.Sequential([\n",
    "    mobilenet,\n",
    "    layers.GlobalAveragePooling2D(),\n",
    "    layers.Dense(128, activation='relu'),  # Dense layer for feature learning\n",
    "    layers.Dense(len(lb.classes_), activation='softmax')  # Output layer for classification\n",
    "])\n"
   ]
  },
  {
   "cell_type": "code",
   "execution_count": 9,
   "id": "0b03ab03-4e3c-4b03-bc43-81d74a59f07c",
   "metadata": {},
   "outputs": [],
   "source": [
    "model.compile(optimizer=\"adam\", loss=\"categorical_crossentropy\", metrics=[\"accuracy\"])\n"
   ]
  },
  {
   "cell_type": "code",
   "execution_count": 10,
   "id": "d4ca3eca-9182-4cf2-a8d7-da89bc54e7a0",
   "metadata": {},
   "outputs": [
    {
     "name": "stdout",
     "output_type": "stream",
     "text": [
      "Epoch 1/20\n",
      "\u001b[1m15/15\u001b[0m \u001b[32m━━━━━━━━━━━━━━━━━━━━\u001b[0m\u001b[37m\u001b[0m \u001b[1m37s\u001b[0m 1s/step - accuracy: 0.7044 - loss: 0.6352 - val_accuracy: 0.9180 - val_loss: 0.2777\n",
      "Epoch 2/20\n",
      "\u001b[1m15/15\u001b[0m \u001b[32m━━━━━━━━━━━━━━━━━━━━\u001b[0m\u001b[37m\u001b[0m \u001b[1m9s\u001b[0m 553ms/step - accuracy: 0.9449 - loss: 0.1487 - val_accuracy: 0.9508 - val_loss: 0.2038\n",
      "Epoch 3/20\n",
      "\u001b[1m15/15\u001b[0m \u001b[32m━━━━━━━━━━━━━━━━━━━━\u001b[0m\u001b[37m\u001b[0m \u001b[1m8s\u001b[0m 565ms/step - accuracy: 0.9945 - loss: 0.0412 - val_accuracy: 0.9672 - val_loss: 0.1490\n",
      "Epoch 4/20\n",
      "\u001b[1m15/15\u001b[0m \u001b[32m━━━━━━━━━━━━━━━━━━━━\u001b[0m\u001b[37m\u001b[0m \u001b[1m8s\u001b[0m 529ms/step - accuracy: 0.9924 - loss: 0.0246 - val_accuracy: 0.8852 - val_loss: 0.2849\n",
      "Epoch 5/20\n",
      "\u001b[1m15/15\u001b[0m \u001b[32m━━━━━━━━━━━━━━━━━━━━\u001b[0m\u001b[37m\u001b[0m \u001b[1m8s\u001b[0m 524ms/step - accuracy: 0.9898 - loss: 0.0481 - val_accuracy: 0.9672 - val_loss: 0.1146\n",
      "Epoch 6/20\n",
      "\u001b[1m15/15\u001b[0m \u001b[32m━━━━━━━━━━━━━━━━━━━━\u001b[0m\u001b[37m\u001b[0m \u001b[1m8s\u001b[0m 552ms/step - accuracy: 1.0000 - loss: 0.0117 - val_accuracy: 0.9344 - val_loss: 0.1309\n",
      "Epoch 7/20\n",
      "\u001b[1m15/15\u001b[0m \u001b[32m━━━━━━━━━━━━━━━━━━━━\u001b[0m\u001b[37m\u001b[0m \u001b[1m8s\u001b[0m 530ms/step - accuracy: 1.0000 - loss: 0.0085 - val_accuracy: 0.9344 - val_loss: 0.1304\n",
      "Epoch 8/20\n",
      "\u001b[1m15/15\u001b[0m \u001b[32m━━━━━━━━━━━━━━━━━━━━\u001b[0m\u001b[37m\u001b[0m \u001b[1m8s\u001b[0m 537ms/step - accuracy: 1.0000 - loss: 0.0052 - val_accuracy: 0.9508 - val_loss: 0.1150\n",
      "Epoch 9/20\n",
      "\u001b[1m15/15\u001b[0m \u001b[32m━━━━━━━━━━━━━━━━━━━━\u001b[0m\u001b[37m\u001b[0m \u001b[1m8s\u001b[0m 534ms/step - accuracy: 1.0000 - loss: 0.0043 - val_accuracy: 0.9344 - val_loss: 0.1351\n",
      "Epoch 10/20\n",
      "\u001b[1m15/15\u001b[0m \u001b[32m━━━━━━━━━━━━━━━━━━━━\u001b[0m\u001b[37m\u001b[0m \u001b[1m8s\u001b[0m 537ms/step - accuracy: 1.0000 - loss: 0.0036 - val_accuracy: 0.9344 - val_loss: 0.1323\n",
      "Epoch 11/20\n",
      "\u001b[1m15/15\u001b[0m \u001b[32m━━━━━━━━━━━━━━━━━━━━\u001b[0m\u001b[37m\u001b[0m \u001b[1m8s\u001b[0m 537ms/step - accuracy: 1.0000 - loss: 0.0032 - val_accuracy: 0.9344 - val_loss: 0.1309\n",
      "Epoch 12/20\n",
      "\u001b[1m15/15\u001b[0m \u001b[32m━━━━━━━━━━━━━━━━━━━━\u001b[0m\u001b[37m\u001b[0m \u001b[1m8s\u001b[0m 539ms/step - accuracy: 1.0000 - loss: 0.0023 - val_accuracy: 0.9344 - val_loss: 0.1340\n",
      "Epoch 13/20\n",
      "\u001b[1m15/15\u001b[0m \u001b[32m━━━━━━━━━━━━━━━━━━━━\u001b[0m\u001b[37m\u001b[0m \u001b[1m8s\u001b[0m 538ms/step - accuracy: 1.0000 - loss: 0.0032 - val_accuracy: 0.9508 - val_loss: 0.1233\n",
      "Epoch 14/20\n",
      "\u001b[1m15/15\u001b[0m \u001b[32m━━━━━━━━━━━━━━━━━━━━\u001b[0m\u001b[37m\u001b[0m \u001b[1m8s\u001b[0m 549ms/step - accuracy: 1.0000 - loss: 0.0021 - val_accuracy: 0.9344 - val_loss: 0.1321\n",
      "Epoch 15/20\n",
      "\u001b[1m15/15\u001b[0m \u001b[32m━━━━━━━━━━━━━━━━━━━━\u001b[0m\u001b[37m\u001b[0m \u001b[1m8s\u001b[0m 545ms/step - accuracy: 1.0000 - loss: 0.0019 - val_accuracy: 0.9344 - val_loss: 0.1319\n",
      "Epoch 16/20\n",
      "\u001b[1m15/15\u001b[0m \u001b[32m━━━━━━━━━━━━━━━━━━━━\u001b[0m\u001b[37m\u001b[0m \u001b[1m8s\u001b[0m 538ms/step - accuracy: 1.0000 - loss: 0.0016 - val_accuracy: 0.9344 - val_loss: 0.1329\n",
      "Epoch 17/20\n",
      "\u001b[1m15/15\u001b[0m \u001b[32m━━━━━━━━━━━━━━━━━━━━\u001b[0m\u001b[37m\u001b[0m \u001b[1m8s\u001b[0m 541ms/step - accuracy: 1.0000 - loss: 0.0016 - val_accuracy: 0.9344 - val_loss: 0.1343\n",
      "Epoch 18/20\n",
      "\u001b[1m15/15\u001b[0m \u001b[32m━━━━━━━━━━━━━━━━━━━━\u001b[0m\u001b[37m\u001b[0m \u001b[1m8s\u001b[0m 556ms/step - accuracy: 1.0000 - loss: 0.0016 - val_accuracy: 0.9508 - val_loss: 0.1306\n",
      "Epoch 19/20\n",
      "\u001b[1m15/15\u001b[0m \u001b[32m━━━━━━━━━━━━━━━━━━━━\u001b[0m\u001b[37m\u001b[0m \u001b[1m8s\u001b[0m 544ms/step - accuracy: 1.0000 - loss: 0.0013 - val_accuracy: 0.9344 - val_loss: 0.1393\n",
      "Epoch 20/20\n",
      "\u001b[1m15/15\u001b[0m \u001b[32m━━━━━━━━━━━━━━━━━━━━\u001b[0m\u001b[37m\u001b[0m \u001b[1m8s\u001b[0m 549ms/step - accuracy: 1.0000 - loss: 0.0013 - val_accuracy: 0.9508 - val_loss: 0.1347\n"
     ]
    },
    {
     "data": {
      "text/plain": [
       "<keras.src.callbacks.history.History at 0x199045370b0>"
      ]
     },
     "execution_count": 10,
     "metadata": {},
     "output_type": "execute_result"
    }
   ],
   "source": [
    "# Train the model\n",
    "model.fit(X_resampled, y_resampled, epochs=20, validation_data=(X_valid, y_valid))"
   ]
  },
  {
   "cell_type": "code",
   "execution_count": 11,
   "id": "8af094f3-d7cc-4ba8-aeab-20e3753bb485",
   "metadata": {},
   "outputs": [
    {
     "name": "stdout",
     "output_type": "stream",
     "text": [
      "\u001b[1m2/2\u001b[0m \u001b[32m━━━━━━━━━━━━━━━━━━━━\u001b[0m\u001b[37m\u001b[0m \u001b[1m2s\u001b[0m 1s/step - accuracy: 0.9254 - loss: 0.1849\n",
      "Test accuracy: 0.9193548560142517\n"
     ]
    }
   ],
   "source": [
    "\n",
    "# Evaluate on the test set\n",
    "test_loss, test_acc = model.evaluate(X_test, y_test)\n",
    "print(\"Test accuracy:\", test_acc)\n"
   ]
  },
  {
   "cell_type": "code",
   "execution_count": 12,
   "id": "92c51371-6c9a-4f19-8635-0f6fbb0b0426",
   "metadata": {},
   "outputs": [
    {
     "name": "stdout",
     "output_type": "stream",
     "text": [
      "\u001b[1m2/2\u001b[0m \u001b[32m━━━━━━━━━━━━━━━━━━━━\u001b[0m\u001b[37m\u001b[0m \u001b[1m9s\u001b[0m 3s/step\n"
     ]
    }
   ],
   "source": [
    "# Generate predictions\n",
    "y_pred = model.predict(X_test)\n",
    "y_pred_classes = np.argmax(y_pred, axis=1)\n",
    "y_test_classes = np.argmax(y_test, axis=1)"
   ]
  },
  {
   "cell_type": "code",
   "execution_count": 15,
   "id": "1fbf218a-6b12-433c-89c0-ff9cd31b619b",
   "metadata": {},
   "outputs": [
    {
     "name": "stdout",
     "output_type": "stream",
     "text": [
      "Confusion Matrix:\n",
      "[[16  0  2]\n",
      " [ 0 12  1]\n",
      " [ 1  1 29]]\n",
      "Classification Report:\n",
      "              precision    recall  f1-score   support\n",
      "\n",
      "     Healthy       0.94      0.89      0.91        18\n",
      "    septoria       0.92      0.92      0.92        13\n",
      " stripe_rust       0.91      0.94      0.92        31\n",
      "\n",
      "    accuracy                           0.92        62\n",
      "   macro avg       0.92      0.92      0.92        62\n",
      "weighted avg       0.92      0.92      0.92        62\n",
      "\n"
     ]
    }
   ],
   "source": [
    "from sklearn.metrics import confusion_matrix\n",
    "from sklearn.metrics import classification_report\n",
    "\n",
    "# Confusion Matrix and Classification Report\n",
    "conf_matrix = confusion_matrix(y_test_classes, y_pred_classes)\n",
    "print(\"Confusion Matrix:\")\n",
    "print(conf_matrix)\n",
    "\n",
    "print(\"Classification Report:\")\n",
    "print(classification_report(y_test_classes, y_pred_classes, target_names=lb.classes_))\n"
   ]
  },
  {
   "cell_type": "code",
   "execution_count": null,
   "id": "fe12c2a5-1d36-4bbe-b035-c1728eaab008",
   "metadata": {},
   "outputs": [],
   "source": []
  }
 ],
 "metadata": {
  "kernelspec": {
   "display_name": "Python 3 (ipykernel)",
   "language": "python",
   "name": "python3"
  },
  "language_info": {
   "codemirror_mode": {
    "name": "ipython",
    "version": 3
   },
   "file_extension": ".py",
   "mimetype": "text/x-python",
   "name": "python",
   "nbconvert_exporter": "python",
   "pygments_lexer": "ipython3",
   "version": "3.12.7"
  }
 },
 "nbformat": 4,
 "nbformat_minor": 5
}
