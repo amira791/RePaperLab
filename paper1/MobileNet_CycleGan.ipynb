{
 "cells": [
  {
   "cell_type": "code",
   "execution_count": 179,
   "id": "d471b648-f80e-4ee3-a6ce-78892a12eb77",
   "metadata": {},
   "outputs": [
    {
     "name": "stdout",
     "output_type": "stream",
     "text": [
      "Requirement already satisfied: tensorflow in d:\\anaconda\\lib\\site-packages (2.18.0)\n"
     ]
    },
    {
     "name": "stderr",
     "output_type": "stream",
     "text": [
      "ERROR: Could not find a version that satisfies the requirement tensorflow-addons (from versions: none)\n",
      "ERROR: No matching distribution found for tensorflow-addons\n"
     ]
    }
   ],
   "source": [
    "!pip install --trusted-host pypi.org --trusted-host pypi.python.org --trusted-host files.pythonhosted.org tensorflow tensorflow-addons matplotlib"
   ]
  },
  {
   "cell_type": "code",
   "execution_count": null,
   "id": "062428ec-fb41-4ecd-a005-97f68c6fc1b5",
   "metadata": {},
   "outputs": [],
   "source": [
    "!pip install --trusted-host pypi.org --trusted-host pypi.python.org --trusted-host files.pythonhosted.org tensorflow-addons==0.20.0"
   ]
  },
  {
   "cell_type": "markdown",
   "id": "482b9646-4573-44f3-8fdc-d3df56e2a23d",
   "metadata": {},
   "source": [
    "---------------------------------------------------------------------------------------------"
   ]
  },
  {
   "cell_type": "markdown",
   "id": "6ab67145-9067-4c70-9597-b061f47df413",
   "metadata": {},
   "source": [
    "------------------------------------------------------  fin-----------------------------------"
   ]
  },
  {
   "cell_type": "code",
   "execution_count": 6,
   "id": "e1bc31d6-987a-4a81-ad34-55e2a662b61d",
   "metadata": {},
   "outputs": [],
   "source": [
    "import os\n",
    "import cv2\n",
    "import numpy as np\n",
    "import tensorflow as tf\n",
    "from tensorflow.keras import layers, models\n",
    "from tensorflow.keras.preprocessing.image import ImageDataGenerator\n",
    "from tensorflow.keras.applications import MobileNetV2\n",
    "from sklearn.model_selection import train_test_split\n",
    "from sklearn.metrics import confusion_matrix, classification_report\n",
    "import matplotlib.pyplot as plt\n",
    "import seaborn as sns\n"
   ]
  },
  {
   "cell_type": "code",
   "execution_count": 12,
   "id": "68d6b0e2-7658-4df1-a45b-461329ae4769",
   "metadata": {},
   "outputs": [],
   "source": [
    "# -------------------------\n",
    "# Part 1: CycleGAN Model Definition\n",
    "# -------------------------\n",
    "class CycleGAN(tf.keras.Model):\n",
    "    def __init__(self, generator_g, generator_f, discriminator_x, discriminator_y, lambda_cycle=10):\n",
    "        super(CycleGAN, self).__init__()\n",
    "        self.generator_g = generator_g\n",
    "        self.generator_f = generator_f\n",
    "        self.discriminator_x = discriminator_x\n",
    "        self.discriminator_y = discriminator_y\n",
    "        self.lambda_cycle = lambda_cycle\n",
    "\n",
    "    def compile(self, g_optimizer, f_optimizer, d_x_optimizer, d_y_optimizer, loss_fn):\n",
    "        super(CycleGAN, self).compile()\n",
    "        self.g_optimizer = g_optimizer\n",
    "        self.f_optimizer = f_optimizer\n",
    "        self.d_x_optimizer = d_x_optimizer\n",
    "        self.d_y_optimizer = d_y_optimizer\n",
    "        self.loss_fn = loss_fn\n",
    "\n",
    "    def train_step(self, data):\n",
    "        real_x, real_y = data\n",
    "        with tf.GradientTape(persistent=True) as tape:\n",
    "            fake_y = self.generator_g(real_x, training=True)\n",
    "            cycled_x = self.generator_f(fake_y, training=True)\n",
    "            fake_x = self.generator_f(real_y, training=True)\n",
    "            cycled_y = self.generator_g(fake_x, training=True)\n",
    "\n",
    "            disc_real_x = self.discriminator_x(real_x, training=True)\n",
    "            disc_fake_x = self.discriminator_x(fake_x, training=True)\n",
    "            disc_real_y = self.discriminator_y(real_y, training=True)\n",
    "            disc_fake_y = self.discriminator_y(fake_y, training=True)\n",
    "\n",
    "            gen_g_loss = self.loss_fn(tf.ones_like(disc_fake_y), disc_fake_y)\n",
    "            gen_f_loss = self.loss_fn(tf.ones_like(disc_fake_x), disc_fake_x)\n",
    "            cycle_loss_x = tf.reduce_mean(tf.abs(real_x - cycled_x)) * self.lambda_cycle\n",
    "            cycle_loss_y = tf.reduce_mean(tf.abs(real_y - cycled_y)) * self.lambda_cycle\n",
    "            total_gen_g_loss = gen_g_loss + cycle_loss_x\n",
    "            total_gen_f_loss = gen_f_loss + cycle_loss_y\n",
    "\n",
    "            disc_x_loss = self.loss_fn(tf.ones_like(disc_real_x), disc_real_x) + \\\n",
    "                          self.loss_fn(tf.zeros_like(disc_fake_x), disc_fake_x)\n",
    "            disc_y_loss = self.loss_fn(tf.ones_like(disc_real_y), disc_real_y) + \\\n",
    "                          self.loss_fn(tf.zeros_like(disc_fake_y), disc_fake_y)\n",
    "\n",
    "        generator_g_gradients = tape.gradient(total_gen_g_loss, self.generator_g.trainable_variables)\n",
    "        generator_f_gradients = tape.gradient(total_gen_f_loss, self.generator_f.trainable_variables)\n",
    "        discriminator_x_gradients = tape.gradient(disc_x_loss, self.discriminator_x.trainable_variables)\n",
    "        discriminator_y_gradients = tape.gradient(disc_y_loss, self.discriminator_y.trainable_variables)\n",
    "\n",
    "        self.g_optimizer.apply_gradients(zip(generator_g_gradients, self.generator_g.trainable_variables))\n",
    "        self.f_optimizer.apply_gradients(zip(generator_f_gradients, self.generator_f.trainable_variables))\n",
    "        self.d_x_optimizer.apply_gradients(zip(discriminator_x_gradients, self.discriminator_x.trainable_variables))\n",
    "        self.d_y_optimizer.apply_gradients(zip(discriminator_y_gradients, self.discriminator_y.trainable_variables))\n",
    "\n",
    "        return {\n",
    "            'gen_g_loss': total_gen_g_loss,\n",
    "            'gen_f_loss': total_gen_f_loss,\n",
    "            'disc_x_loss': disc_x_loss,\n",
    "            'disc_y_loss': disc_y_loss\n",
    "        }\n"
   ]
  },
  {
   "cell_type": "code",
   "execution_count": 13,
   "id": "7baea8d4-7467-4359-9bf2-bcfba6ae8fe6",
   "metadata": {},
   "outputs": [],
   "source": [
    "def build_generator():\n",
    "    model = tf.keras.Sequential([\n",
    "        layers.Input(shape=(256, 256, 3)),\n",
    "        layers.Conv2D(64, (7, 7), padding='same'),\n",
    "        layers.ReLU(),\n",
    "        layers.Conv2DTranspose(3, (7, 7), padding='same')\n",
    "    ])\n",
    "    return model\n",
    "\n",
    "def build_discriminator():\n",
    "    model = tf.keras.Sequential([\n",
    "        layers.Input(shape=(256, 256, 3)),\n",
    "        layers.Conv2D(64, (4, 4), strides=2, padding='same'),\n",
    "        layers.LeakyReLU(),\n",
    "        layers.Conv2D(1, (4, 4), padding='same')\n",
    "    ])\n",
    "    return model\n"
   ]
  },
  {
   "cell_type": "code",
   "execution_count": 14,
   "id": "3129ec08-1dd3-49bc-b126-67873abf9fd0",
   "metadata": {},
   "outputs": [],
   "source": [
    "# -------------------------\n",
    "# Part 2: Dataset Loading and Augmentation\n",
    "# -------------------------\n",
    "def load_dataset(dataset_path, img_size=(256, 256)):\n",
    "    images = []\n",
    "    labels = []\n",
    "    class_names = os.listdir(dataset_path)  # Automatically detect class folders\n",
    "    class_labels = {name: idx for idx, name in enumerate(class_names)}\n",
    "\n",
    "    for class_name in class_names:\n",
    "        class_dir = os.path.join(dataset_path, class_name)\n",
    "        for img_name in os.listdir(class_dir):\n",
    "            img_path = os.path.join(class_dir, img_name)\n",
    "            img = cv2.imread(img_path)\n",
    "            img = cv2.resize(img, img_size)\n",
    "            img = img / 255.0\n",
    "            images.append(img)\n",
    "            labels.append(class_labels[class_name])\n",
    "\n",
    "    return np.array(images), np.array(labels), class_names\n"
   ]
  },
  {
   "cell_type": "code",
   "execution_count": null,
   "id": "7b66a4b4-38cf-4b86-a114-1aea6f797909",
   "metadata": {},
   "outputs": [],
   "source": [
    "images, labels = load_images_and_labels(\"./wheat_leaf\")\n",
    "images = images / 255.0  # Normalisation\n"
   ]
  },
  {
   "cell_type": "code",
   "execution_count": 15,
   "id": "ca371950-111c-497b-8b7b-2669f6194037",
   "metadata": {},
   "outputs": [],
   "source": [
    "# Train CycleGAN\n",
    "generator_g = build_generator()\n",
    "generator_f = build_generator()\n",
    "discriminator_x = build_discriminator()\n",
    "discriminator_y = build_discriminator()\n",
    "\n",
    "cyclegan = CycleGAN(generator_g, generator_f, discriminator_x, discriminator_y)\n",
    "cyclegan.compile(\n",
    "    g_optimizer=tf.keras.optimizers.Adam(2e-4, beta_1=0.5),\n",
    "    f_optimizer=tf.keras.optimizers.Adam(2e-4, beta_1=0.5),\n",
    "    d_x_optimizer=tf.keras.optimizers.Adam(2e-4, beta_1=0.5),\n",
    "    d_y_optimizer=tf.keras.optimizers.Adam(2e-4, beta_1=0.5),\n",
    "    loss_fn=tf.keras.losses.BinaryCrossentropy(from_logits=True)\n",
    ")\n"
   ]
  },
  {
   "cell_type": "code",
   "execution_count": 17,
   "id": "32dca7ad-7b73-4c42-8f99-0da824cfa5bf",
   "metadata": {},
   "outputs": [
    {
     "name": "stdout",
     "output_type": "stream",
     "text": [
      "Found 327 images belonging to 3 classes.\n",
      "Found 80 images belonging to 3 classes.\n",
      "Found 407 images belonging to 3 classes.\n"
     ]
    }
   ],
   "source": [
    "# (-------------------------\n",
    "# Part 3: Data Splitting\n",
    "# -------------------------\n",
    "train_datagen = ImageDataGenerator(rescale=1./255, validation_split=0.2)\n",
    "test_datagen = ImageDataGenerator(rescale=1./255)\n",
    "\n",
    "train_generator = train_datagen.flow_from_directory(\n",
    "    augmented_path,\n",
    "    target_size=(224, 224),\n",
    "    batch_size=32,\n",
    "    class_mode='categorical',\n",
    "    subset='training'\n",
    ")\n",
    "valid_generator = train_datagen.flow_from_directory(\n",
    "    augmented_path,\n",
    "    target_size=(224, 224),\n",
    "    batch_size=32,\n",
    "    class_mode='categorical',\n",
    "    subset='validation'\n",
    ")\n",
    "\n",
    "test_generator = test_datagen.flow_from_directory(\n",
    "    augmented_path,\n",
    "    target_size=(224, 224),\n",
    "    batch_size=32,\n",
    "    class_mode='categorical',\n",
    "    shuffle=False\n",
    ")\n"
   ]
  },
  {
   "cell_type": "code",
   "execution_count": null,
   "id": "29b546e9-c633-4259-a9b1-d8e52d25f5f6",
   "metadata": {},
   "outputs": [],
   "source": [
    "# Generate augmented images\n",
    "augmented_path = './wheat_leaf_augmented'\n",
    "os.makedirs(augmented_path, exist_ok=True)\n",
    "\n",
    "for class_name in class_names:\n",
    "    class_dir = os.path.join(augmented_path, class_name)\n",
    "    os.makedirs(class_dir, exist_ok=True)\n",
    "\n",
    "    for img, label in zip(images, labels):\n",
    "        if label == class_names.index(class_name):  # Augment images per class\n",
    "            img = np.expand_dims(img, axis=0)  # Add batch dimension\n",
    "            augmented_img = generator_g.predict(img)[0]\n",
    "            augmented_img = (augmented_img * 255).astype(np.uint8)  # Scale back to [0, 255]\n",
    "            img_name = f\"augmented_{len(os.listdir(class_dir))}.jpg\"\n",
    "            cv2.imwrite(os.path.join(class_dir, img_name), augmented_img)"
   ]
  },
  {
   "cell_type": "code",
   "execution_count": null,
   "id": "6fd04a46-85a5-4382-b81c-7c47d6911649",
   "metadata": {},
   "outputs": [],
   "source": [
    "# -------------------------\n",
    "# Part 4: Train MobileNetV2 Classifier\n",
    "# -------------------------\n",
    "base_model = MobileNetV2(weights='imagenet', include_top=False, input_shape=(224, 224, 3))\n",
    "base_model.trainable = False\n"
   ]
  },
  {
   "cell_type": "code",
   "execution_count": null,
   "id": "3ded3ca8-d140-4588-a009-6d4230fb36f6",
   "metadata": {},
   "outputs": [],
   "source": [
    "model = models.Sequential([\n",
    "    base_model,\n",
    "    layers.GlobalAveragePooling2D(),\n",
    "    layers.Dense(len(class_names), activation='softmax')\n",
    "])\n"
   ]
  },
  {
   "cell_type": "code",
   "execution_count": null,
   "id": "f2ed6885-3464-453d-8007-d4be6170d6c7",
   "metadata": {},
   "outputs": [],
   "source": [
    "model.compile(optimizer='adam', loss='categorical_crossentropy', metrics=['accuracy'])\n"
   ]
  },
  {
   "cell_type": "code",
   "execution_count": 104,
   "id": "3fb38f27-360f-4e2e-8d93-897b4042f684",
   "metadata": {},
   "outputs": [
    {
     "name": "stdout",
     "output_type": "stream",
     "text": [
      "Epoch 1/30\n",
      "\u001b[1m11/11\u001b[0m \u001b[32m━━━━━━━━━━━━━━━━━━━━\u001b[0m\u001b[37m\u001b[0m \u001b[1m11s\u001b[0m 940ms/step - accuracy: 0.9378 - loss: 0.1740 - val_accuracy: 0.7250 - val_loss: 0.6261\n",
      "Epoch 2/30\n",
      "\u001b[1m11/11\u001b[0m \u001b[32m━━━━━━━━━━━━━━━━━━━━\u001b[0m\u001b[37m\u001b[0m \u001b[1m7s\u001b[0m 634ms/step - accuracy: 0.9532 - loss: 0.1877 - val_accuracy: 0.7750 - val_loss: 0.5572\n",
      "Epoch 3/30\n",
      "\u001b[1m11/11\u001b[0m \u001b[32m━━━━━━━━━━━━━━━━━━━━\u001b[0m\u001b[37m\u001b[0m \u001b[1m6s\u001b[0m 589ms/step - accuracy: 0.9515 - loss: 0.1697 - val_accuracy: 0.7250 - val_loss: 0.6152\n",
      "Epoch 4/30\n",
      "\u001b[1m11/11\u001b[0m \u001b[32m━━━━━━━━━━━━━━━━━━━━\u001b[0m\u001b[37m\u001b[0m \u001b[1m6s\u001b[0m 587ms/step - accuracy: 0.9725 - loss: 0.1638 - val_accuracy: 0.7500 - val_loss: 0.5879\n",
      "Epoch 5/30\n",
      "\u001b[1m11/11\u001b[0m \u001b[32m━━━━━━━━━━━━━━━━━━━━\u001b[0m\u001b[37m\u001b[0m \u001b[1m7s\u001b[0m 596ms/step - accuracy: 0.9669 - loss: 0.1469 - val_accuracy: 0.7375 - val_loss: 0.6299\n",
      "Epoch 6/30\n",
      "\u001b[1m11/11\u001b[0m \u001b[32m━━━━━━━━━━━━━━━━━━━━\u001b[0m\u001b[37m\u001b[0m \u001b[1m6s\u001b[0m 579ms/step - accuracy: 0.9810 - loss: 0.1389 - val_accuracy: 0.7750 - val_loss: 0.5547\n",
      "Epoch 7/30\n",
      "\u001b[1m11/11\u001b[0m \u001b[32m━━━━━━━━━━━━━━━━━━━━\u001b[0m\u001b[37m\u001b[0m \u001b[1m6s\u001b[0m 582ms/step - accuracy: 0.9805 - loss: 0.1222 - val_accuracy: 0.7500 - val_loss: 0.6016\n",
      "Epoch 8/30\n",
      "\u001b[1m11/11\u001b[0m \u001b[32m━━━━━━━━━━━━━━━━━━━━\u001b[0m\u001b[37m\u001b[0m \u001b[1m6s\u001b[0m 588ms/step - accuracy: 0.9813 - loss: 0.1140 - val_accuracy: 0.7750 - val_loss: 0.5785\n",
      "Epoch 9/30\n",
      "\u001b[1m11/11\u001b[0m \u001b[32m━━━━━━━━━━━━━━━━━━━━\u001b[0m\u001b[37m\u001b[0m \u001b[1m6s\u001b[0m 580ms/step - accuracy: 0.9697 - loss: 0.1163 - val_accuracy: 0.7500 - val_loss: 0.6145\n",
      "Epoch 10/30\n",
      "\u001b[1m11/11\u001b[0m \u001b[32m━━━━━━━━━━━━━━━━━━━━\u001b[0m\u001b[37m\u001b[0m \u001b[1m7s\u001b[0m 617ms/step - accuracy: 0.9836 - loss: 0.1201 - val_accuracy: 0.7875 - val_loss: 0.5722\n",
      "Epoch 11/30\n",
      "\u001b[1m11/11\u001b[0m \u001b[32m━━━━━━━━━━━━━━━━━━━━\u001b[0m\u001b[37m\u001b[0m \u001b[1m6s\u001b[0m 591ms/step - accuracy: 0.9816 - loss: 0.1022 - val_accuracy: 0.7500 - val_loss: 0.6074\n",
      "Epoch 12/30\n",
      "\u001b[1m11/11\u001b[0m \u001b[32m━━━━━━━━━━━━━━━━━━━━\u001b[0m\u001b[37m\u001b[0m \u001b[1m7s\u001b[0m 660ms/step - accuracy: 0.9917 - loss: 0.0978 - val_accuracy: 0.7625 - val_loss: 0.5803\n",
      "Epoch 13/30\n",
      "\u001b[1m11/11\u001b[0m \u001b[32m━━━━━━━━━━━━━━━━━━━━\u001b[0m\u001b[37m\u001b[0m \u001b[1m7s\u001b[0m 686ms/step - accuracy: 0.9852 - loss: 0.0989 - val_accuracy: 0.7750 - val_loss: 0.5870\n",
      "Epoch 14/30\n",
      "\u001b[1m11/11\u001b[0m \u001b[32m━━━━━━━━━━━━━━━━━━━━\u001b[0m\u001b[37m\u001b[0m \u001b[1m7s\u001b[0m 595ms/step - accuracy: 0.9863 - loss: 0.0961 - val_accuracy: 0.7750 - val_loss: 0.5815\n",
      "Epoch 15/30\n",
      "\u001b[1m11/11\u001b[0m \u001b[32m━━━━━━━━━━━━━━━━━━━━\u001b[0m\u001b[37m\u001b[0m \u001b[1m6s\u001b[0m 589ms/step - accuracy: 0.9807 - loss: 0.0949 - val_accuracy: 0.7750 - val_loss: 0.6051\n",
      "Epoch 16/30\n",
      "\u001b[1m11/11\u001b[0m \u001b[32m━━━━━━━━━━━━━━━━━━━━\u001b[0m\u001b[37m\u001b[0m \u001b[1m7s\u001b[0m 601ms/step - accuracy: 0.9924 - loss: 0.0868 - val_accuracy: 0.7750 - val_loss: 0.5782\n",
      "Epoch 17/30\n",
      "\u001b[1m11/11\u001b[0m \u001b[32m━━━━━━━━━━━━━━━━━━━━\u001b[0m\u001b[37m\u001b[0m \u001b[1m6s\u001b[0m 588ms/step - accuracy: 0.9862 - loss: 0.0867 - val_accuracy: 0.7750 - val_loss: 0.5980\n",
      "Epoch 18/30\n",
      "\u001b[1m11/11\u001b[0m \u001b[32m━━━━━━━━━━━━━━━━━━━━\u001b[0m\u001b[37m\u001b[0m \u001b[1m6s\u001b[0m 580ms/step - accuracy: 0.9992 - loss: 0.0743 - val_accuracy: 0.7875 - val_loss: 0.5800\n",
      "Epoch 19/30\n",
      "\u001b[1m11/11\u001b[0m \u001b[32m━━━━━━━━━━━━━━━━━━━━\u001b[0m\u001b[37m\u001b[0m \u001b[1m7s\u001b[0m 598ms/step - accuracy: 0.9976 - loss: 0.0771 - val_accuracy: 0.7500 - val_loss: 0.6266\n",
      "Epoch 20/30\n",
      "\u001b[1m11/11\u001b[0m \u001b[32m━━━━━━━━━━━━━━━━━━━━\u001b[0m\u001b[37m\u001b[0m \u001b[1m7s\u001b[0m 640ms/step - accuracy: 0.9865 - loss: 0.0721 - val_accuracy: 0.7875 - val_loss: 0.5573\n",
      "Epoch 21/30\n",
      "\u001b[1m11/11\u001b[0m \u001b[32m━━━━━━━━━━━━━━━━━━━━\u001b[0m\u001b[37m\u001b[0m \u001b[1m13s\u001b[0m 777ms/step - accuracy: 0.9977 - loss: 0.0662 - val_accuracy: 0.7500 - val_loss: 0.6248\n",
      "Epoch 22/30\n",
      "\u001b[1m11/11\u001b[0m \u001b[32m━━━━━━━━━━━━━━━━━━━━\u001b[0m\u001b[37m\u001b[0m \u001b[1m7s\u001b[0m 601ms/step - accuracy: 0.9918 - loss: 0.0681 - val_accuracy: 0.7750 - val_loss: 0.5778\n",
      "Epoch 23/30\n",
      "\u001b[1m11/11\u001b[0m \u001b[32m━━━━━━━━━━━━━━━━━━━━\u001b[0m\u001b[37m\u001b[0m \u001b[1m7s\u001b[0m 595ms/step - accuracy: 0.9942 - loss: 0.0690 - val_accuracy: 0.7875 - val_loss: 0.5875\n",
      "Epoch 24/30\n",
      "\u001b[1m11/11\u001b[0m \u001b[32m━━━━━━━━━━━━━━━━━━━━\u001b[0m\u001b[37m\u001b[0m \u001b[1m6s\u001b[0m 625ms/step - accuracy: 0.9995 - loss: 0.0670 - val_accuracy: 0.7875 - val_loss: 0.5549\n",
      "Epoch 25/30\n",
      "\u001b[1m11/11\u001b[0m \u001b[32m━━━━━━━━━━━━━━━━━━━━\u001b[0m\u001b[37m\u001b[0m \u001b[1m6s\u001b[0m 578ms/step - accuracy: 0.9944 - loss: 0.0689 - val_accuracy: 0.7625 - val_loss: 0.5994\n",
      "Epoch 26/30\n",
      "\u001b[1m11/11\u001b[0m \u001b[32m━━━━━━━━━━━━━━━━━━━━\u001b[0m\u001b[37m\u001b[0m \u001b[1m7s\u001b[0m 591ms/step - accuracy: 0.9972 - loss: 0.0642 - val_accuracy: 0.7750 - val_loss: 0.5830\n",
      "Epoch 27/30\n",
      "\u001b[1m11/11\u001b[0m \u001b[32m━━━━━━━━━━━━━━━━━━━━\u001b[0m\u001b[37m\u001b[0m \u001b[1m6s\u001b[0m 578ms/step - accuracy: 0.9985 - loss: 0.0515 - val_accuracy: 0.7375 - val_loss: 0.6379\n",
      "Epoch 28/30\n",
      "\u001b[1m11/11\u001b[0m \u001b[32m━━━━━━━━━━━━━━━━━━━━\u001b[0m\u001b[37m\u001b[0m \u001b[1m7s\u001b[0m 591ms/step - accuracy: 1.0000 - loss: 0.0612 - val_accuracy: 0.7750 - val_loss: 0.5550\n",
      "Epoch 29/30\n",
      "\u001b[1m11/11\u001b[0m \u001b[32m━━━━━━━━━━━━━━━━━━━━\u001b[0m\u001b[37m\u001b[0m \u001b[1m6s\u001b[0m 630ms/step - accuracy: 1.0000 - loss: 0.0490 - val_accuracy: 0.7500 - val_loss: 0.6620\n",
      "Epoch 30/30\n",
      "\u001b[1m11/11\u001b[0m \u001b[32m━━━━━━━━━━━━━━━━━━━━\u001b[0m\u001b[37m\u001b[0m \u001b[1m6s\u001b[0m 580ms/step - accuracy: 1.0000 - loss: 0.0541 - val_accuracy: 0.7750 - val_loss: 0.5947\n"
     ]
    }
   ],
   "source": [
    "history = model.fit(\n",
    "    train_generator,\n",
    "    validation_data=valid_generator,\n",
    "    epochs=30\n",
    ")\n"
   ]
  },
  {
   "cell_type": "code",
   "execution_count": 105,
   "id": "0c04e6df-9a0b-455e-bfdd-294ab74de274",
   "metadata": {},
   "outputs": [
    {
     "name": "stdout",
     "output_type": "stream",
     "text": [
      "\u001b[1m13/13\u001b[0m \u001b[32m━━━━━━━━━━━━━━━━━━━━\u001b[0m\u001b[37m\u001b[0m \u001b[1m9s\u001b[0m 601ms/step - accuracy: 0.9390 - loss: 0.2077\n",
      "Test Loss: 0.15620717406272888\n",
      "Test Accuracy: 0.9557739496231079\n"
     ]
    }
   ],
   "source": [
    "# -------------------------\n",
    "# Part 5: Evaluate and Confusion Matrix\n",
    "# -------------------------\n",
    "test_loss, test_accuracy = model.evaluate(test_generator)\n",
    "print(f\"Test Loss: {test_loss}\")\n",
    "print(f\"Test Accuracy: {test_accuracy}\")\n"
   ]
  },
  {
   "cell_type": "code",
   "execution_count": 106,
   "id": "459b1df2-3bf0-4245-9b6d-900d1514af8a",
   "metadata": {},
   "outputs": [
    {
     "name": "stdout",
     "output_type": "stream",
     "text": [
      "\u001b[1m13/13\u001b[0m \u001b[32m━━━━━━━━━━━━━━━━━━━━\u001b[0m\u001b[37m\u001b[0m \u001b[1m15s\u001b[0m 743ms/step\n"
     ]
    }
   ],
   "source": [
    "\n",
    "y_pred = model.predict(test_generator)\n",
    "y_pred_classes = np.argmax(y_pred, axis=1)\n",
    "y_true = test_generator.classes\n",
    "\n"
   ]
  },
  {
   "cell_type": "code",
   "execution_count": 107,
   "id": "44d45661-d8ab-4ba9-991c-b8f9cd81ca4a",
   "metadata": {},
   "outputs": [
    {
     "data": {
      "image/png": "[encoded data removed]",
      "text/plain": [
       "<Figure size 800x600 with 2 Axes>"
      ]
     },
     "metadata": {},
     "output_type": "display_data"
    },
    {
     "name": "stdout",
     "output_type": "stream",
     "text": [
      "\n",
      "Classification Report:\n",
      "\n",
      "              precision    recall  f1-score   support\n",
      "\n",
      "     Healthy       0.90      0.95      0.92       102\n",
      "    septoria       0.99      0.99      0.99        97\n",
      " stripe_rust       0.97      0.94      0.96       208\n",
      "\n",
      "    accuracy                           0.96       407\n",
      "   macro avg       0.95      0.96      0.96       407\n",
      "weighted avg       0.96      0.96      0.96       407\n",
      "\n"
     ]
    }
   ],
   "source": [
    "conf_matrix = confusion_matrix(y_true, y_pred_classes)\n",
    "plt.figure(figsize=(8, 6))\n",
    "sns.heatmap(conf_matrix, annot=True, fmt='d', cmap='Blues', xticklabels=class_names, yticklabels=class_names)\n",
    "plt.xlabel('Predicted Labels')\n",
    "plt.ylabel('True Labels')\n",
    "plt.title('Confusion Matrix')\n",
    "plt.show()\n",
    "\n",
    "print(\"\\nClassification Report:\\n\")\n",
    "print(classification_report(y_true, y_pred_classes, target_names=class_names))\n"
   ]
  },
  {
   "cell_type": "code",
   "execution_count": 109,
   "id": "0790fc03-b604-48dc-b435-dc5b6660eacf",
   "metadata": {},
   "outputs": [
    {
     "name": "stdout",
     "output_type": "stream",
     "text": [
      "\u001b[1m1/1\u001b[0m \u001b[32m━━━━━━━━━━━━━━━━━━━━\u001b[0m\u001b[37m\u001b[0m \u001b[1m4s\u001b[0m 4s/step\n",
      "The predicted label for the test image is: septoria\n"
     ]
    }
   ],
   "source": [
    "import cv2\n",
    "import numpy as np\n",
    "\n",
    "# Function to predict the label of a single image\n",
    "def predict_image(model, image_path, class_labels):\n",
    "    \"\"\"\n",
    "    Predicts the label for a given image using the trained model.\n",
    "\n",
    "    Args:\n",
    "        model: Trained Keras model (already loaded in memory).\n",
    "        image_path: Path to the test image.\n",
    "        class_labels: List of class labels in the same order as the model output.\n",
    "\n",
    "    Returns:\n",
    "        The predicted label for the image.\n",
    "    \"\"\"\n",
    "    # Load and preprocess the image\n",
    "    image = cv2.imread(image_path)\n",
    "    if image is None:\n",
    "        raise FileNotFoundError(f\"Image not found at path: {image_path}\")\n",
    "    image = cv2.resize(image, (224, 224))  # Resize to match model's input shape\n",
    "    image = image / 255.0  # Normalize to [0, 1]\n",
    "    image = np.expand_dims(image, axis=0)  # Add batch dimension\n",
    "\n",
    "    # Predict the class\n",
    "    prediction = model.predict(image)\n",
    "    predicted_class_index = np.argmax(prediction, axis=1)[0]\n",
    "\n",
    "    # Map the predicted index to the corresponding label\n",
    "    predicted_label = class_labels[predicted_class_index]\n",
    "    return predicted_label\n",
    "\n",
    "# Example usage\n",
    "if __name__ == \"__main__\":\n",
    "    # Assuming `model` is already loaded and trained\n",
    "    # Define the class labels (ensure they match the order used during training)\n",
    "    class_labels = [\"Healthy\", \"septoria\", \"stripe_rust\"]  # Replace with your actual class names\n",
    "\n",
    "    # Test with a specific image\n",
    "    test_image_path = \"test.jpg\"  # Replace with the path to your test image\n",
    "    try:\n",
    "        predicted_label = predict_image(model, test_image_path, class_labels)\n",
    "        print(f\"The predicted label for the test image is: {predicted_label}\")\n",
    "    except Exception as e:\n",
    "        print(f\"Error: {e}\")\n"
   ]
  },
  {
   "cell_type": "code",
   "execution_count": null,
   "id": "99c7bd4a-801d-4e61-9e53-6dc304c19d47",
   "metadata": {},
   "outputs": [],
   "source": []
  }
 ],
 "metadata": {
  "kernelspec": {
   "display_name": "Python 3 (ipykernel)",
   "language": "python",
   "name": "python3"
  },
  "language_info": {
   "codemirror_mode": {
    "name": "ipython",
    "version": 3
   },
   "file_extension": ".py",
   "mimetype": "text/x-python",
   "name": "python",
   "nbconvert_exporter": "python",
   "pygments_lexer": "ipython3",
   "version": "3.12.7"
  }
 },
 "nbformat": 4,
 "nbformat_minor": 5
}
